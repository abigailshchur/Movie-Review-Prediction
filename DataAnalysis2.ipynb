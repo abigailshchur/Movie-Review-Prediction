{
 "cells": [
  {
   "cell_type": "code",
   "execution_count": 1,
   "metadata": {
    "collapsed": false
   },
   "outputs": [],
   "source": [
    "import numpy as np\n",
    "from numpy import genfromtxt\n",
    "from collections import Counter\n",
    "from sklearn.cluster import KMeans\n",
    "import pandas\n",
    "import random\n",
    "import math\n",
    "from sklearn import svm\n",
    "from scipy import linalg\n",
    "import matplotlib.pyplot as plt\n",
    "%matplotlib inline\n",
    "import matplotlib as mpl\n",
    "from sklearn.decomposition import PCA\n",
    "from sklearn.model_selection import KFold, cross_val_score\n",
    "from sklearn import tree\n",
    "from sklearn.ensemble import RandomForestClassifier"
   ]
  },
  {
   "cell_type": "markdown",
   "metadata": {},
   "source": [
    "## Loading in Data:"
   ]
  },
  {
   "cell_type": "code",
   "execution_count": 2,
   "metadata": {
    "collapsed": true
   },
   "outputs": [],
   "source": [
    "reviews = genfromtxt('review_matrix.csv', delimiter=',') # reviewer by movie (2482x818)\n",
    "movies = pandas.read_csv('movie_data_cleaned_v2.csv') # all movies (3801 by 56)\n",
    "review_to_movie = genfromtxt('review_to_imdb.csv', delimiter=',') # col in reviews -> row in movies\n",
    "reviewer_to_gender = genfromtxt('review_to_gender.csv', delimiter=',')\n",
    "reviewer_to_gender = map(lambda x: \"m\" if x==0 else \"f\", reviewer_to_gender) # row in reviews -> gender"
   ]
  },
  {
   "cell_type": "code",
   "execution_count": 3,
   "metadata": {
    "collapsed": true
   },
   "outputs": [],
   "source": [
    "num_reviewers = np.shape(reviews)[0]\n",
    "num_movies = np.shape(reviews)[1]"
   ]
  },
  {
   "cell_type": "markdown",
   "metadata": {},
   "source": [
    "## Minor Pre-Processing"
   ]
  },
  {
   "cell_type": "markdown",
   "metadata": {},
   "source": [
    "There are a lot of reviewers that do not review many movies. Here, we set a minimum number of movies for a reviewer to be used in our classification. This number may change in later approaches where we combine review data from similar reviewers in the training set. "
   ]
  },
  {
   "cell_type": "code",
   "execution_count": 4,
   "metadata": {
    "collapsed": false
   },
   "outputs": [
    {
     "name": "stdout",
     "output_type": "stream",
     "text": [
      "This leads to 92 good reviewers.\n"
     ]
    }
   ],
   "source": [
    "min_num_reviews = 100 # do not include reviewers with < min_num_reviews reviews total\n",
    "count_reviews = np.sum(np.absolute(reviews),axis=1)\n",
    "good_reviewers = filter(lambda x: count_reviews[x] >= min_num_reviews, range(num_reviewers))\n",
    "print(\"This leads to %d good reviewers.\" % np.shape(good_reviewers)[0])\n",
    "\n",
    "### Use data structures below to make life easier ###\n",
    "num_good_reviewers = len(good_reviewers)\n",
    "good_reviews = reviews[good_reviewers,:]\n",
    "good_reviewer_to_gender = [reviewer_to_gender[x] for x in good_reviewers]"
   ]
  },
  {
   "cell_type": "code",
   "execution_count": 5,
   "metadata": {
    "collapsed": false
   },
   "outputs": [],
   "source": [
    "good_movies = []\n",
    "index = 0\n",
    "for i in review_to_movie:\n",
    "    good_movies.append(movies[int(i):int(i+1)].to_dict())\n",
    "    for key in good_movies[index]:\n",
    "        good_movies[index][key] = good_movies[index][key][i]\n",
    "    index+=1\n",
    "good_movies = pandas.DataFrame(good_movies)"
   ]
  },
  {
   "cell_type": "markdown",
   "metadata": {},
   "source": [
    "Here are all the important variables moving forward:\n",
    "* num_good_reviewers, num_movies (specify dimensions of good_reviews matrix)\n",
    "* good_reviews: reviewer by movie matrix (+1 is positive review, -1 is negative, 0 is no review)\n",
    "* good_movies: movies that we have reviews for (cols here correspond to rows in good_reviews)\n",
    "* good_reviewer_to_gender: reviewer idx to gender map"
   ]
  },
  {
   "cell_type": "markdown",
   "metadata": {},
   "source": [
    "## Generally Useful Functions"
   ]
  },
  {
   "cell_type": "code",
   "execution_count": 6,
   "metadata": {
    "collapsed": true
   },
   "outputs": [],
   "source": [
    "### Returns something of the form [x,...,x] where x can be any object\n",
    "def list_of_x(x, length):\n",
    "    lst = np.empty((length,), dtype=np.object_)\n",
    "    lst.fill(x)\n",
    "    return np.frompyfunc(list,1,1)(lst)\n",
    "\n",
    "def mean_matrix(v, n):\n",
    "    v = np.matrix(v)\n",
    "    mean = v.mean(axis=0)\n",
    "    return np.repeat(mean,n,axis=0)"
   ]
  },
  {
   "cell_type": "markdown",
   "metadata": {},
   "source": [
    "## Get Test/ Training Split"
   ]
  },
  {
   "cell_type": "markdown",
   "metadata": {},
   "source": [
    "For now, lets do a 50/50 split. This ends up with a data-structure such that train[i] represents the columns (movies) in reviews that correspond to the testing set. The 50/50 split is done such that for each reviewer, half of their reviews are training and half are test. "
   ]
  },
  {
   "cell_type": "code",
   "execution_count": 7,
   "metadata": {
    "collapsed": false
   },
   "outputs": [],
   "source": [
    "### Returns tuple with training and testing indices\n",
    "### train: list of length num_good_reviewers\n",
    "### train[i]: list of movie indices that are in training set for reviewer i\n",
    "### Similar format for test\n",
    "### Arguments: split - percentage of data going to train\n",
    "def get_train_test(split):  \n",
    "    train = list_of_x([],num_good_reviewers)\n",
    "    test = list_of_x([],num_good_reviewers)\n",
    "    for i in range(num_good_reviewers):\n",
    "        valid_ind = filter(lambda x: not good_reviews[i][x] == 0, range(num_movies))\n",
    "        train[i] = [valid_ind[j] for j in sorted(random.sample(xrange(len(valid_ind)), int(len(valid_ind)*split)))]\n",
    "        test[i] = filter(lambda x: x not in train[i] and x in valid_ind, range(num_movies))\n",
    "    return (train,test)\n",
    "(train,test) = get_train_test(0.5)"
   ]
  },
  {
   "cell_type": "markdown",
   "metadata": {},
   "source": [
    "## Functions to Deal with Movie Data"
   ]
  },
  {
   "cell_type": "code",
   "execution_count": null,
   "metadata": {
    "collapsed": true
   },
   "outputs": [],
   "source": []
  },
  {
   "cell_type": "markdown",
   "metadata": {},
   "source": [
    "## Useful Testing Functions"
   ]
  },
  {
   "cell_type": "code",
   "execution_count": 8,
   "metadata": {
    "collapsed": true
   },
   "outputs": [],
   "source": [
    "def get_confusion_matrix(pred, test):\n",
    "    m = {\"tp\": 0, \"tn\": 0, \"fp\": 0, \"fn\": 0}\n",
    "    for i in range(num_good_reviewers):\n",
    "        for j in range(len(pred[i])):\n",
    "            prediction = pred[i][j]\n",
    "            actual = good_reviews[i][test[i][j]]\n",
    "            if (prediction == actual):\n",
    "                if (prediction == 1):\n",
    "                    m[\"tp\"]+=1\n",
    "                else:\n",
    "                    m[\"tn\"]+=1\n",
    "            else:\n",
    "                if (prediction == 1):\n",
    "                    m[\"fp\"]+=1\n",
    "                else:\n",
    "                    m[\"fn\"]+=1\n",
    "    return m"
   ]
  },
  {
   "cell_type": "code",
   "execution_count": 9,
   "metadata": {
    "collapsed": true
   },
   "outputs": [],
   "source": [
    "def get_error(pred, test):\n",
    "    conf_m = get_confusion_matrix(pred,test)\n",
    "    return 1-(conf_m[\"tp\"]+conf_m[\"tn\"])/float(conf_m[\"tp\"]+conf_m[\"tn\"]+conf_m[\"fp\"]+conf_m[\"fn\"])"
   ]
  },
  {
   "cell_type": "code",
   "execution_count": 10,
   "metadata": {
    "collapsed": true
   },
   "outputs": [],
   "source": [
    "def summarize_conf_m(pred,test):\n",
    "    conf_m = get_confusion_matrix(pred,test)\n",
    "    print(\"True Positive Rate: %0.2f\" % (conf_m[\"tp\"]/float(conf_m[\"tp\"]+conf_m[\"fn\"])))\n",
    "    print(\"True Negative Rate: %0.2f\" % (conf_m[\"tn\"]/float(conf_m[\"tn\"]+conf_m[\"fp\"])))"
   ]
  },
  {
   "cell_type": "markdown",
   "metadata": {},
   "source": [
    "## Baseline Approach"
   ]
  },
  {
   "cell_type": "markdown",
   "metadata": {},
   "source": [
    "* Set all testing to label of most common training label (does not use movies)"
   ]
  },
  {
   "cell_type": "code",
   "execution_count": 11,
   "metadata": {
    "collapsed": false
   },
   "outputs": [
    {
     "name": "stdout",
     "output_type": "stream",
     "text": [
      "{'tn': 996, 'fp': 2892, 'fn': 852, 'tp': 4638}\n",
      "Error: 0.3992\n",
      "True Positive Rate: 0.84\n",
      "True Negative Rate: 0.26\n"
     ]
    }
   ],
   "source": [
    "pred = list_of_x([],num_good_reviewers)\n",
    "for i in range(num_good_reviewers):\n",
    "    pred[i] = np.ones(len(test[i]))\n",
    "    if (Counter(good_reviews[i][train[i]]).most_common(1)[0][0] == -1):\n",
    "        pred[i] = -1*pred[i]\n",
    "print(get_confusion_matrix(pred,test))\n",
    "print(\"Error: %0.4f\" % get_error(pred,test))\n",
    "summarize_conf_m(pred,test)"
   ]
  },
  {
   "cell_type": "markdown",
   "metadata": {},
   "source": [
    "## Cluster Movies, Group Based on Most Common Label of Movies in that Cluster"
   ]
  },
  {
   "cell_type": "markdown",
   "metadata": {},
   "source": [
    "### Use full set of features"
   ]
  },
  {
   "cell_type": "code",
   "execution_count": 12,
   "metadata": {
    "collapsed": false
   },
   "outputs": [],
   "source": [
    "rel_features = [\"num_critic_for_reviews\", \"duration\", \"director_facebook_likes\", \n",
    "                \"actor_1_facebook_likes\", \"budget\", \"gross\" , \"cast_total_facebook_likes\",\n",
    "               \"action\", \"adventure\", \"fantasy\", \"sci_fi\", \"thriller\", \"romance\",\n",
    "               \"animation\", \"comedy\", \"family\", \"musical\", \"mystery\", \"western\",\n",
    "               \"drama\", \"history\", \"sport\", \"crime\", \"horror\", \"war\", \"biography\",\n",
    "               \"music\", \"documentary\", \"film_noir\",\"pg_13\",\"pg\",\"g\",\"r\",\"approved\",\n",
    "               \"nc_17\",\"not_rated\",\"x\",\"unrated\",\"m\",\"gp\",\"passed\"]\n",
    "X = np.zeros((num_movies, len(rel_features)))\n",
    "for i in range(num_movies):\n",
    "    for j in range(len(rel_features)):\n",
    "        X[i,j] = good_movies.iloc[i][rel_features[j]]"
   ]
  },
  {
   "cell_type": "code",
   "execution_count": 13,
   "metadata": {
    "collapsed": false
   },
   "outputs": [],
   "source": [
    "# standardize X\n",
    "X_norm = (X - np.mean(X)) / np.std(X)"
   ]
  },
  {
   "cell_type": "markdown",
   "metadata": {
    "collapsed": true
   },
   "source": [
    "Perform 10-fold cross validation to find the best number of clusters"
   ]
  },
  {
   "cell_type": "code",
   "execution_count": 14,
   "metadata": {
    "collapsed": false
   },
   "outputs": [],
   "source": [
    "cluster_size = range(2,21)\n",
    "cv_error = np.zeros(len(cluster_size))\n",
    "\n",
    "k_fold = KFold(n_splits=10)\n",
    "for k in cluster_size:\n",
    "    error = np.array([KMeans(n_clusters=k,random_state=0).fit(X_norm[train_set]).inertia_\n",
    "                      for train_set, test_set in k_fold.split(X_norm)])\n",
    "    cv_error[cluster_size.index(k)] = np.mean(error)"
   ]
  },
  {
   "cell_type": "markdown",
   "metadata": {},
   "source": [
    "Plot to find best number of clusters"
   ]
  },
  {
   "cell_type": "code",
   "execution_count": 15,
   "metadata": {
    "collapsed": false
   },
   "outputs": [
    {
     "data": {
      "image/png": "[encoded data removed]",
      "text/plain": [
       "<matplotlib.figure.Figure at 0x21d75c0>"
      ]
     },
     "metadata": {},
     "output_type": "display_data"
    }
   ],
   "source": [
    "plt.plot(cluster_size,cv_error)\n",
    "plt.ylabel('Intertia')\n",
    "plt.xlabel('Number of Clusters')\n",
    "plt.show()"
   ]
  },
  {
   "cell_type": "markdown",
   "metadata": {},
   "source": [
    "Elbow present at 6, so we choose 6 clusters"
   ]
  },
  {
   "cell_type": "code",
   "execution_count": 16,
   "metadata": {
    "collapsed": false
   },
   "outputs": [],
   "source": [
    "k = 6\n",
    "kmeans = KMeans(n_clusters=k, random_state=0).fit(X_norm)\n",
    "movie_labels = kmeans.labels_"
   ]
  },
  {
   "cell_type": "markdown",
   "metadata": {},
   "source": [
    "Now we test"
   ]
  },
  {
   "cell_type": "code",
   "execution_count": 17,
   "metadata": {
    "collapsed": false
   },
   "outputs": [
    {
     "name": "stdout",
     "output_type": "stream",
     "text": [
      "{'tn': 1669, 'fp': 2219, 'fn': 1608, 'tp': 3882}\n",
      "Error: 0.4081\n",
      "True Positive Rate: 0.71\n",
      "True Negative Rate: 0.43\n"
     ]
    }
   ],
   "source": [
    "pred = list_of_x([],num_good_reviewers)\n",
    "for i in range(num_good_reviewers):\n",
    "    pred[i] = np.ones(len(test[i]))\n",
    "    k_labels = np.zeros(k)\n",
    "    for j in range(num_movies):\n",
    "        if (j in train[i]):\n",
    "            k_labels[movie_labels[j]]+=good_reviews[i][j]\n",
    "    for j in range(len(test[i])):\n",
    "        if (k_labels[movie_labels[test[i][j]]] > 0):\n",
    "            pred[i][j]=1\n",
    "        else:\n",
    "            pred[i][j]=-1\n",
    "print(get_confusion_matrix(pred,test))\n",
    "print(\"Error: %0.4f\" % get_error(pred,test))\n",
    "summarize_conf_m(pred,test)"
   ]
  },
  {
   "cell_type": "markdown",
   "metadata": {},
   "source": [
    "## How About SVM"
   ]
  },
  {
   "cell_type": "code",
   "execution_count": 18,
   "metadata": {
    "collapsed": false
   },
   "outputs": [
    {
     "name": "stdout",
     "output_type": "stream",
     "text": [
      "{'tn': 996, 'fp': 2892, 'fn': 852, 'tp': 4638}\n",
      "Error: 0.3992\n",
      "True Positive Rate: 0.84\n",
      "True Negative Rate: 0.26\n"
     ]
    }
   ],
   "source": [
    "pred = list_of_x([],num_good_reviewers)\n",
    "for i in range(num_good_reviewers):\n",
    "    pred[i] = np.ones(len(test[i]))\n",
    "    # train SVM\n",
    "    X_train = X[train[i],:]\n",
    "    Y_train = good_reviews[i][train[i]]\n",
    "    clf = svm.SVC(random_state=0)\n",
    "    clf.fit(X_train, Y_train)\n",
    "    pred[i] = clf.predict(X[test[i],:])\n",
    "print(get_confusion_matrix(pred,test))\n",
    "print(\"Error: %0.4f\" % get_error(pred,test))\n",
    "summarize_conf_m(pred,test)"
   ]
  },
  {
   "cell_type": "markdown",
   "metadata": {},
   "source": [
    "## Trees"
   ]
  },
  {
   "cell_type": "markdown",
   "metadata": {},
   "source": [
    "### Decision Tree"
   ]
  },
  {
   "cell_type": "code",
   "execution_count": 26,
   "metadata": {
    "collapsed": false,
    "scrolled": true
   },
   "outputs": [
    {
     "name": "stdout",
     "output_type": "stream",
     "text": [
      "{'tn': 1841, 'fp': 2047, 'fn': 2066, 'tp': 3424}\n",
      "Error: 0.4386\n",
      "True Positive Rate: 0.62\n",
      "True Negative Rate: 0.47\n"
     ]
    }
   ],
   "source": [
    "pred = list_of_x([],num_good_reviewers)\n",
    "for i in range(num_good_reviewers):\n",
    "    pred[i] = np.ones(len(test[i]))\n",
    "    X_train = X[train[i],:]\n",
    "    Y_train = good_reviews[i][train[i]]\n",
    "    clf = tree.DecisionTreeClassifier(random_state=0)\n",
    "    clf.fit(X_train, Y_train)\n",
    "    pred[i] = clf.predict(X[test[i],:])\n",
    "print(get_confusion_matrix(pred,test))\n",
    "print(\"Error: %0.4f\" % get_error(pred,test))\n",
    "summarize_conf_m(pred,test)"
   ]
  },
  {
   "cell_type": "markdown",
   "metadata": {},
   "source": [
    "### Random Forest"
   ]
  },
  {
   "cell_type": "code",
   "execution_count": 28,
   "metadata": {
    "collapsed": false
   },
   "outputs": [
    {
     "name": "stdout",
     "output_type": "stream",
     "text": [
      "{'tn': 2139, 'fp': 1749, 'fn': 2037, 'tp': 3453}\n",
      "Error: 0.4037\n",
      "True Positive Rate: 0.63\n",
      "True Negative Rate: 0.55\n"
     ]
    }
   ],
   "source": [
    "pred = list_of_x([],num_good_reviewers)\n",
    "for i in range(num_good_reviewers):\n",
    "    pred[i] = np.ones(len(test[i]))\n",
    "    X_train = X[train[i],:]\n",
    "    Y_train = good_reviews[i][train[i]]\n",
    "    rf = RandomForestClassifier(random_state=0)\n",
    "    rf.fit(X_train, Y_train)\n",
    "    pred[i] = rf.predict(X[test[i],:])\n",
    "print(get_confusion_matrix(pred,test))\n",
    "print(\"Error: %0.4f\" % get_error(pred,test))\n",
    "summarize_conf_m(pred,test)"
   ]
  },
  {
   "cell_type": "markdown",
   "metadata": {},
   "source": [
    "## Try Above but with PCA on X"
   ]
  },
  {
   "cell_type": "code",
   "execution_count": 19,
   "metadata": {
    "collapsed": false
   },
   "outputs": [
    {
     "data": {
      "image/png": "[encoded data removed]",
      "text/plain": [
       "<matplotlib.figure.Figure at 0x143944e0>"
      ]
     },
     "metadata": {},
     "output_type": "display_data"
    }
   ],
   "source": [
    "sigma = np.cov(np.matrix(X).T)\n",
    "e = np.linalg.eigh(sigma)\n",
    "e_vals_i = e[0]\n",
    "e_vecs_i = e[1]\n",
    "idx = e_vals_i.argsort()[::-1]   \n",
    "e_vals = e_vals_i[idx]\n",
    "e_vecs = e_vecs_i[:,idx]\n",
    "plt.plot(e_vals)\n",
    "plt.xlabel(\"Dimension\")\n",
    "plt.ylabel(\"Eigen-Value\")\n",
    "w = e_vecs[:,0:4]\n",
    "pca = PCA(n_components=4)\n",
    "pca.fit(X)\n",
    "pca_X = pca.transform(X)\n",
    "pca_X = (np.matrix(X)-mean_matrix(X,num_movies)) * np.matrix(w)"
   ]
  },
  {
   "cell_type": "markdown",
   "metadata": {},
   "source": [
    "### Clustering"
   ]
  },
  {
   "cell_type": "code",
   "execution_count": 21,
   "metadata": {
    "collapsed": true
   },
   "outputs": [],
   "source": [
    "cv_error = np.zeros(len(cluster_size))\n",
    "\n",
    "for k in cluster_size:\n",
    "    error = np.array([KMeans(n_clusters=k,random_state=0).fit(pca_X[train_set]).inertia_\n",
    "                      for train_set, test_set in k_fold.split(pca_X)])\n",
    "    cv_error[cluster_size.index(k)] = np.mean(error)"
   ]
  },
  {
   "cell_type": "code",
   "execution_count": 22,
   "metadata": {
    "collapsed": false
   },
   "outputs": [
    {
     "data": {
      "image/png": "[encoded data removed]",
      "text/plain": [
       "<matplotlib.figure.Figure at 0x113f9390>"
      ]
     },
     "metadata": {},
     "output_type": "display_data"
    }
   ],
   "source": [
    "plt.plot(cluster_size,cv_error)\n",
    "plt.ylabel('Intertia')\n",
    "plt.xlabel('Number of Clusters')\n",
    "plt.show()"
   ]
  },
  {
   "cell_type": "code",
   "execution_count": 23,
   "metadata": {
    "collapsed": true
   },
   "outputs": [],
   "source": [
    "k = 6\n",
    "kmeans = KMeans(n_clusters=k, random_state=0).fit(pca_X)\n",
    "movie_labels = kmeans.labels_"
   ]
  },
  {
   "cell_type": "code",
   "execution_count": 24,
   "metadata": {
    "collapsed": false
   },
   "outputs": [
    {
     "name": "stdout",
     "output_type": "stream",
     "text": [
      "{'tn': 1672, 'fp': 2216, 'fn': 1608, 'tp': 3882}\n",
      "Error: 0.4078\n",
      "True Positive Rate: 0.71\n",
      "True Negative Rate: 0.43\n"
     ]
    }
   ],
   "source": [
    "pred = list_of_x([],num_good_reviewers)\n",
    "for i in range(num_good_reviewers):\n",
    "    pred[i] = np.ones(len(test[i]))\n",
    "    k_labels = np.zeros(k)\n",
    "    for j in range(num_movies):\n",
    "        if (j in train[i]):\n",
    "            k_labels[movie_labels[j]]+=good_reviews[i][j]\n",
    "    for j in range(len(test[i])):\n",
    "        if (k_labels[movie_labels[test[i][j]]] > 0):\n",
    "            pred[i][j]=1\n",
    "        else:\n",
    "            pred[i][j]=-1\n",
    "print(get_confusion_matrix(pred,test))\n",
    "print(\"Error: %0.4f\" % get_error(pred,test))\n",
    "summarize_conf_m(pred,test)"
   ]
  },
  {
   "cell_type": "markdown",
   "metadata": {},
   "source": [
    "### SVM"
   ]
  },
  {
   "cell_type": "code",
   "execution_count": 20,
   "metadata": {
    "collapsed": false
   },
   "outputs": [
    {
     "name": "stdout",
     "output_type": "stream",
     "text": [
      "{'tn': 996, 'fp': 2892, 'fn': 852, 'tp': 4638}\n",
      "Error: 0.3992\n",
      "True Positive Rate: 0.84\n",
      "True Negative Rate: 0.26\n"
     ]
    }
   ],
   "source": [
    "pred = list_of_x([],num_good_reviewers)\n",
    "for i in range(num_good_reviewers):\n",
    "    pred[i] = np.ones(len(test[i]))\n",
    "    # train SVM\n",
    "    X_train = pca_X[train[i],:]\n",
    "    Y_train = good_reviews[i][train[i]]\n",
    "    clf = svm.SVC(random_state=0)\n",
    "    clf.fit(X_train, Y_train)\n",
    "    pred[i] = clf.predict(pca_X[test[i],:])\n",
    "print(get_confusion_matrix(pred,test))\n",
    "print(\"Error: %0.4f\" % get_error(pred,test))\n",
    "summarize_conf_m(pred,test)"
   ]
  },
  {
   "cell_type": "markdown",
   "metadata": {},
   "source": [
    "### Decision Tree"
   ]
  },
  {
   "cell_type": "code",
   "execution_count": 29,
   "metadata": {
    "collapsed": false
   },
   "outputs": [
    {
     "name": "stdout",
     "output_type": "stream",
     "text": [
      "{'tn': 1826, 'fp': 2062, 'fn': 2139, 'tp': 3351}\n",
      "Error: 0.4480\n",
      "True Positive Rate: 0.61\n",
      "True Negative Rate: 0.47\n"
     ]
    }
   ],
   "source": [
    "pred = list_of_x([],num_good_reviewers)\n",
    "for i in range(num_good_reviewers):\n",
    "    pred[i] = np.ones(len(test[i]))\n",
    "    X_train = pca_X[train[i],:]\n",
    "    Y_train = good_reviews[i][train[i]]\n",
    "    clf = tree.DecisionTreeClassifier(random_state=0)\n",
    "    clf.fit(X_train, Y_train)\n",
    "    pred[i] = clf.predict(pca_X[test[i],:])\n",
    "print(get_confusion_matrix(pred,test))\n",
    "print(\"Error: %0.4f\" % get_error(pred,test))\n",
    "summarize_conf_m(pred,test)"
   ]
  },
  {
   "cell_type": "markdown",
   "metadata": {},
   "source": [
    "### Random Forest"
   ]
  },
  {
   "cell_type": "code",
   "execution_count": 30,
   "metadata": {
    "collapsed": false
   },
   "outputs": [
    {
     "name": "stdout",
     "output_type": "stream",
     "text": [
      "{'tn': 1978, 'fp': 1910, 'fn': 2155, 'tp': 3335}\n",
      "Error: 0.4335\n",
      "True Positive Rate: 0.61\n",
      "True Negative Rate: 0.51\n"
     ]
    }
   ],
   "source": [
    "pred = list_of_x([],num_good_reviewers)\n",
    "for i in range(num_good_reviewers):\n",
    "    pred[i] = np.ones(len(test[i]))\n",
    "    X_train = pca_X[train[i],:]\n",
    "    Y_train = good_reviews[i][train[i]]\n",
    "    rf = RandomForestClassifier(random_state=0)\n",
    "    rf.fit(X_train, Y_train)\n",
    "    pred[i] = rf.predict(pca_X[test[i],:])\n",
    "print(get_confusion_matrix(pred,test))\n",
    "print(\"Error: %0.4f\" % get_error(pred,test))\n",
    "summarize_conf_m(pred,test)"
   ]
  },
  {
   "cell_type": "code",
   "execution_count": null,
   "metadata": {
    "collapsed": true
   },
   "outputs": [],
   "source": []
  }
 ],
 "metadata": {
  "anaconda-cloud": {},
  "kernelspec": {
   "display_name": "Python 2",
   "language": "python",
   "name": "python2"
  },
  "language_info": {
   "codemirror_mode": {
    "name": "ipython",
    "version": 2
   },
   "file_extension": ".py",
   "mimetype": "text/x-python",
   "name": "python",
   "nbconvert_exporter": "python",
   "pygments_lexer": "ipython2",
   "version": "2.7.11"
  }
 },
 "nbformat": 4,
 "nbformat_minor": 0
}
