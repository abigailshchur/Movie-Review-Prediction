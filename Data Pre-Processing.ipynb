{
 "cells": [
  {
   "cell_type": "code",
   "execution_count": 86,
   "metadata": {
    "collapsed": true
   },
   "outputs": [],
   "source": [
    "import json\n",
    "import ast\n",
    "import pandas\n",
    "from collections import defaultdict\n",
    "import numpy as np\n",
    "from sklearn import svm"
   ]
  },
  {
   "cell_type": "markdown",
   "metadata": {},
   "source": [
    "## Put Reviews in Readable Format"
   ]
  },
  {
   "cell_type": "markdown",
   "metadata": {},
   "source": [
    "### Important Output: female_reviews, male_reviews"
   ]
  },
  {
   "cell_type": "code",
   "execution_count": 5,
   "metadata": {
    "collapsed": false
   },
   "outputs": [
    {
     "name": "stdout",
     "output_type": "stream",
     "text": [
      "64366 female reviews read with 0 error(s).\n",
      "64366 male reviews read with 0 error(s).\n"
     ]
    }
   ],
   "source": [
    "female_reviews = [] # list of review dictionaries for females\n",
    "count_errors = 0\n",
    "with open('review_buckets_female.txt') as data_file:    \n",
    "    for line in data_file:\n",
    "        try:\n",
    "            female_reviews.append(ast.literal_eval(line))\n",
    "        except:\n",
    "            line = \"{'\"+line[2:]\n",
    "            try:\n",
    "                female_reviews.append(ast.literal_eval(line))\n",
    "            except:\n",
    "                count_errors+=1\n",
    "print(str(len(female_reviews))+\" female reviews read with \"+str(count_errors)+ \" error(s).\")\n",
    "\n",
    "# fixing key issues\n",
    "for i in range(len(female_reviews)):\n",
    "    review = female_reviews[i]\n",
    "    for key in review.keys():\n",
    "        if 'movie_id' in key:\n",
    "            review['movie_id'] = review[key]\n",
    "        if 'icon' in key:\n",
    "            review['icon'] = review[key]\n",
    "    female_reviews[i] = review\n",
    "    \n",
    "male_reviews = [] # list of review dictionaries for males\n",
    "count_errors = 0\n",
    "with open('review_buckets_male.txt') as data_file:    \n",
    "    for line in data_file:\n",
    "        try:\n",
    "            male_reviews.append(ast.literal_eval(line))\n",
    "        except:\n",
    "            count_errors+=1\n",
    "print(str(len(male_reviews))+\" male reviews read with \"+str(count_errors)+ \" error(s).\")\n",
    "\n",
    "# fixing key issues\n",
    "for i in range(len(male_reviews)):\n",
    "    review = male_reviews[i]\n",
    "    for key in review.keys():\n",
    "        if 'movie_id' in key:\n",
    "            review['movie_id'] = review[key]\n",
    "        if 'icon' in key:\n",
    "            review['icon'] = review[key]\n",
    "    male_reviews[i] = review"
   ]
  },
  {
   "cell_type": "code",
   "execution_count": 6,
   "metadata": {
    "collapsed": false
   },
   "outputs": [
    {
     "data": {
      "text/plain": [
       "{'date': 'April 4, 2011',\n",
       " 'gender': 'm',\n",
       " 'icon': 'rotten',\n",
       " 'id': 'dave-white',\n",
       " 'link': 'http://www.movies.com/movie-reviews/percy-jackson-the-olympians-the-lightning-thief-review/dave-white/m60204',\n",
       " 'movie_id': '0814255',\n",
       " 'name': 'Dave White',\n",
       " 'review': 'It kind of just builds up to a lot of Not Much.',\n",
       " 'source': 'Movies.com'}"
      ]
     },
     "execution_count": 6,
     "metadata": {},
     "output_type": "execute_result"
    }
   ],
   "source": [
    "# format of review, for what its worth\n",
    "male_reviews[0]"
   ]
  },
  {
   "cell_type": "markdown",
   "metadata": {},
   "source": [
    "## Load in Movie Data"
   ]
  },
  {
   "cell_type": "markdown",
   "metadata": {},
   "source": [
    "### Important Output: movie_data, movie_titles"
   ]
  },
  {
   "cell_type": "code",
   "execution_count": 7,
   "metadata": {
    "collapsed": false
   },
   "outputs": [
    {
     "name": "stdout",
     "output_type": "stream",
     "text": [
      "There are 3801 movies in imdb dataset\n",
      "(3801, 45)\n"
     ]
    }
   ],
   "source": [
    "movie_data = pandas.read_csv('movie_data_cleaned.csv')\n",
    "movie_titles = [repr(x).split(\"\\\\\", 1)[0].lower()[1:] for x in list(movie_data['movie_title'])]\n",
    "movie_titles = [x[:-1] for x in movie_titles]\n",
    "print(\"There are \"+str(len(movie_titles))+\" movies in imdb dataset\")\n",
    "print(np.shape(movie_data)) # movie x feature matrix"
   ]
  },
  {
   "cell_type": "markdown",
   "metadata": {},
   "source": [
    "## Extract Movies We Have Reviews For\n",
    "### Important Output: male_review_movie_list, female_review_movie_list"
   ]
  },
  {
   "cell_type": "code",
   "execution_count": 8,
   "metadata": {
    "collapsed": true
   },
   "outputs": [],
   "source": [
    "male_review_movie_list = [] # list of movie_ids for male reviews\n",
    "male_movie_to_review = defaultdict(list) # movie_id -> lst of reviews\n",
    "for i in male_reviews:\n",
    "    if not str.isdigit(i['movie_id']):\n",
    "        male_review_movie_list.append(i['movie_id'])\n",
    "        male_movie_to_review[i[\"movie_id\"]].append(i)\n",
    "male_review_movie_list = set(male_review_movie_list)\n",
    "\n",
    "female_review_movie_list = []\n",
    "female_movie_to_review = defaultdict(list)\n",
    "for i in female_reviews:\n",
    "    if not str.isdigit(i['movie_id']):\n",
    "        female_review_movie_list.append(i['movie_id'])\n",
    "        female_movie_to_review[i[\"movie_id\"]].append(i)\n",
    "female_review_movie_list = set(female_review_movie_list)"
   ]
  },
  {
   "cell_type": "markdown",
   "metadata": {},
   "source": [
    "## Get Movies in Both Reviews and IMDB (Cross Datasets)"
   ]
  },
  {
   "cell_type": "markdown",
   "metadata": {},
   "source": [
    "### Important Output: review_movie_id_to_imdb_id, overlap_whatever (all the same)"
   ]
  },
  {
   "cell_type": "code",
   "execution_count": 9,
   "metadata": {
    "collapsed": false
   },
   "outputs": [],
   "source": [
    "review_movie_id_to_imdb_id = {} # converting id from rt to id from imdb\n",
    "\n",
    "overlap_male_imdb = [] # list of overlapped IMDB movies\n",
    "overlap_male_rt = [] # list of overlapped review movies\n",
    "\n",
    "# iterate through movies in IMDB data\n",
    "for i in movie_titles:\n",
    "    if i.replace(\" \", \"_\") in male_review_movie_list:\n",
    "        overlap_male_imdb.append(i) # add IMDB title to overlap list\n",
    "        review_movie_id_to_imdb_id[i.replace(\" \", \"_\")] = i # dict[Review Movie Title] = row in IMDB data\n",
    "        overlap_male_rt.append(i.replace(\" \", \"_\"))\n",
    "\n",
    "overlap_female_imdb = []\n",
    "overlap_female_rt = []\n",
    "\n",
    "for i in movie_titles:\n",
    "    if i.replace(\" \", \"_\") in female_review_movie_list:\n",
    "        overlap_female_imdb.append(i)\n",
    "        overlap_female_rt.append(i.replace(\" \", \"_\"))\n",
    "        \n",
    "overlap_intr = set(overlap_male_imdb) & set(overlap_female_imdb)\n",
    "overlap_union = set(overlap_male_imdb) | set(overlap_female_imdb)"
   ]
  },
  {
   "cell_type": "code",
   "execution_count": 21,
   "metadata": {
    "collapsed": false
   },
   "outputs": [
    {
     "name": "stdout",
     "output_type": "stream",
     "text": [
      "818\n",
      "818\n",
      "818\n",
      "818\n"
     ]
    }
   ],
   "source": [
    "print(len(set(overlap_male_rt)))\n",
    "print(len(overlap_intr))\n",
    "print(len(overlap_union))\n",
    "print(len(set(overlap_female_rt)))"
   ]
  },
  {
   "cell_type": "markdown",
   "metadata": {},
   "source": [
    "### Important Output: rt_movies(list of overlapped review movies), movie_to_idx (movie name from review to index in rt_movies)"
   ]
  },
  {
   "cell_type": "code",
   "execution_count": 61,
   "metadata": {
    "collapsed": true
   },
   "outputs": [],
   "source": [
    "rt_movies = list(set(overlap_male_rt)) # all rt movies in overlap\n",
    "movie_to_idx = {} # Review Movie Title to index in rt_movies\n",
    "for i in range(len(rt_movies)):\n",
    "    movie_to_idx[rt_movies[i]] = i"
   ]
  },
  {
   "cell_type": "markdown",
   "metadata": {},
   "source": [
    "## Make List of Reviewers"
   ]
  },
  {
   "cell_type": "markdown",
   "metadata": {},
   "source": [
    "### Important Output: reviewers, reviewers_lst, gender_lst"
   ]
  },
  {
   "cell_type": "code",
   "execution_count": 57,
   "metadata": {
    "collapsed": false
   },
   "outputs": [],
   "source": [
    "reviewers = defaultdict(list) # dict, key=Reviewer name, value=list of reviews\n",
    "for i in male_movie_to_review: # i is movie\n",
    "    for j in male_movie_to_review[i]: # j is review within movie\n",
    "        if (j[\"movie_id\"] in rt_movies):\n",
    "            j[\"gender\"] = \"m\"\n",
    "            reviewers[j[\"name\"]].append((j,\"m\"))\n",
    "for i in female_movie_to_review:\n",
    "    for j in female_movie_to_review[i]:\n",
    "        if (j[\"movie_id\"] in rt_movies):\n",
    "            j[\"gender\"] = \"f\"\n",
    "            reviewers[j[\"name\"]].append((j,\"f\"))\n",
    "reviewers_lst = [] # just names of each reviewer\n",
    "gender_lst = [] # gender of each reviewer\n",
    "for i in reviewers:\n",
    "    reviewers_lst.append(i)\n",
    "    gender_lst.append(reviewers[i][0][1])"
   ]
  },
  {
   "cell_type": "code",
   "execution_count": 58,
   "metadata": {
    "collapsed": false
   },
   "outputs": [
    {
     "name": "stdout",
     "output_type": "stream",
     "text": [
      "There are 2482 reviewers total\n"
     ]
    }
   ],
   "source": [
    "print(\"There are \" + str(len(reviewers_lst)) + \" reviewers total\")"
   ]
  },
  {
   "cell_type": "markdown",
   "metadata": {},
   "source": [
    "### Important output: reviewer_to_idx"
   ]
  },
  {
   "cell_type": "code",
   "execution_count": 62,
   "metadata": {
    "collapsed": false
   },
   "outputs": [
    {
     "name": "stdout",
     "output_type": "stream",
     "text": [
      "2482\n",
      "2482\n"
     ]
    }
   ],
   "source": [
    "num_reviewers = len(reviewers)\n",
    "reviewer_to_idx = {} # name -> idx in reviewers_lst\n",
    "for i in range(len(reviewers_lst)):\n",
    "    reviewer_to_idx[reviewers_lst[i]]=i\n",
    "print(len(reviewers_lst))\n",
    "print(num_reviewers)"
   ]
  },
  {
   "cell_type": "markdown",
   "metadata": {},
   "source": [
    "## Make Review matrix (reviewer by movie)"
   ]
  },
  {
   "cell_type": "code",
   "execution_count": 69,
   "metadata": {
    "collapsed": false
   },
   "outputs": [],
   "source": [
    "review_matrix = np.zeros((num_reviewers,len(rt_movies)))\n",
    "for i in reviewers: # go through each individual\n",
    "    row = reviewer_to_idx[i]\n",
    "    for j in reviewers[i]: # go through each movie\n",
    "        j=j[0]\n",
    "        col = movie_to_idx[j[\"movie_id\"]]\n",
    "        if (j[\"icon\"] == \"rotten\"):\n",
    "            review_matrix[row][col] = -1 # negative\n",
    "        else:\n",
    "            review_matrix[row][col] = 1 # positive, 0 is neutral"
   ]
  },
  {
   "cell_type": "markdown",
   "metadata": {},
   "source": [
    "### Just a sanity check to make sure matrix is filled"
   ]
  },
  {
   "cell_type": "code",
   "execution_count": 70,
   "metadata": {
    "collapsed": false
   },
   "outputs": [
    {
     "name": "stdout",
     "output_type": "stream",
     "text": [
      "[ 14.   1.  52. ...,   1.   1.   2.]\n"
     ]
    }
   ],
   "source": [
    "# review_matrix is reviewer by movie\n",
    "count_reviews = np.zeros(num_reviewers)\n",
    "for i in range(num_reviewers):\n",
    "    for j in range(len(rt_movies)):\n",
    "        if (review_matrix[i][j]==-1 or review_matrix[i][j]==1):\n",
    "            count_reviews[i]+=1\n",
    "print(count_reviews)"
   ]
  },
  {
   "cell_type": "markdown",
   "metadata": {},
   "source": [
    "### review_row_idx_to_imdb_row links movie index in review to movie index in IMDB"
   ]
  },
  {
   "cell_type": "code",
   "execution_count": 71,
   "metadata": {
    "collapsed": true
   },
   "outputs": [],
   "source": [
    "review_row_idx_to_imdb_row = np.zeros(len(rt_movies))\n",
    "for i in range(len(rt_movies)):\n",
    "    idx = movie_to_idx[rt_movies[i]]\n",
    "    for j in range(len(movie_titles)):\n",
    "        if movie_titles[j].replace(\" \", \"_\") == rt_movies[i]:\n",
    "            review_row_idx_to_imdb_row[i]=j"
   ]
  },
  {
   "cell_type": "code",
   "execution_count": 73,
   "metadata": {
    "collapsed": false
   },
   "outputs": [
    {
     "data": {
      "text/plain": [
       "(818,)"
      ]
     },
     "execution_count": 73,
     "metadata": {},
     "output_type": "execute_result"
    }
   ],
   "source": [
    "np.shape(review_row_idx_to_imdb_row)"
   ]
  },
  {
   "cell_type": "code",
   "execution_count": 74,
   "metadata": {
    "collapsed": false
   },
   "outputs": [
    {
     "data": {
      "text/plain": [
       "(2482, 818)"
      ]
     },
     "execution_count": 74,
     "metadata": {},
     "output_type": "execute_result"
    }
   ],
   "source": [
    "np.shape(review_matrix)"
   ]
  },
  {
   "cell_type": "code",
   "execution_count": 75,
   "metadata": {
    "collapsed": false
   },
   "outputs": [
    {
     "data": {
      "text/plain": [
       "(3801, 45)"
      ]
     },
     "execution_count": 75,
     "metadata": {},
     "output_type": "execute_result"
    }
   ],
   "source": [
    "np.shape(movie_data)"
   ]
  },
  {
   "cell_type": "code",
   "execution_count": 76,
   "metadata": {
    "collapsed": false
   },
   "outputs": [
    {
     "data": {
      "text/plain": [
       "(2482,)"
      ]
     },
     "execution_count": 76,
     "metadata": {},
     "output_type": "execute_result"
    }
   ],
   "source": [
    "np.shape(gender_lst)"
   ]
  },
  {
   "cell_type": "code",
   "execution_count": 81,
   "metadata": {
    "collapsed": false
   },
   "outputs": [],
   "source": [
    "gender_lst2 = []\n",
    "for i in gender_lst:\n",
    "    if i==\"m\":\n",
    "        gender_lst2.append(0)\n",
    "    else:\n",
    "        gender_lst2.append(1)"
   ]
  },
  {
   "cell_type": "code",
   "execution_count": 82,
   "metadata": {
    "collapsed": false
   },
   "outputs": [],
   "source": [
    "np.savetxt(\"review_matrix.csv\", review_matrix, delimiter=\",\")"
   ]
  },
  {
   "cell_type": "code",
   "execution_count": 83,
   "metadata": {
    "collapsed": true
   },
   "outputs": [],
   "source": [
    "np.savetxt(\"review_to_imdb.csv\", review_row_idx_to_imdb_row, delimiter=\",\")"
   ]
  },
  {
   "cell_type": "code",
   "execution_count": 85,
   "metadata": {
    "collapsed": false
   },
   "outputs": [],
   "source": [
    "np.savetxt(\"review_to_gender.csv\", gender_lst2 ,delimiter=\",\")"
   ]
  },
  {
   "cell_type": "code",
   "execution_count": null,
   "metadata": {
    "collapsed": true
   },
   "outputs": [],
   "source": []
  },
  {
   "cell_type": "code",
   "execution_count": null,
   "metadata": {
    "collapsed": true
   },
   "outputs": [],
   "source": []
  }
 ],
 "metadata": {
  "kernelspec": {
   "display_name": "Python 2",
   "language": "python",
   "name": "python2"
  },
  "language_info": {
   "codemirror_mode": {
    "name": "ipython",
    "version": 2
   },
   "file_extension": ".py",
   "mimetype": "text/x-python",
   "name": "python",
   "nbconvert_exporter": "python",
   "pygments_lexer": "ipython2",
   "version": "2.7.11"
  }
 },
 "nbformat": 4,
 "nbformat_minor": 0
}
