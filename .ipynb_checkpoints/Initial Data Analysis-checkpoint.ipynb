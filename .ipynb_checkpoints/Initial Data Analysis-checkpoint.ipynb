{
 "cells": [
  {
   "cell_type": "markdown",
   "metadata": {},
   "source": [
    "## Opening Data: ##"
   ]
  },
  {
   "cell_type": "code",
   "execution_count": 1,
   "metadata": {
    "collapsed": true
   },
   "outputs": [],
   "source": [
    "import json\n",
    "import ast\n",
    "import pandas"
   ]
  },
  {
   "cell_type": "code",
   "execution_count": 2,
   "metadata": {
    "collapsed": false
   },
   "outputs": [
    {
     "name": "stdout",
     "output_type": "stream",
     "text": [
      "64366 female reviews read with 0 error(s).\n"
     ]
    }
   ],
   "source": [
    "female_reviews = []\n",
    "count_errors = 0\n",
    "with open('review_buckets_female.txt') as data_file:    \n",
    "    for line in data_file:\n",
    "        try:\n",
    "            female_reviews.append(ast.literal_eval(line))\n",
    "        except:\n",
    "            line = \"{'\"+line[2:]\n",
    "            try:\n",
    "                female_reviews.append(ast.literal_eval(line))\n",
    "            except:\n",
    "                count_errors+=1\n",
    "print(str(len(female_reviews))+\" female reviews read with \"+str(count_errors)+ \" error(s).\")"
   ]
  },
  {
   "cell_type": "code",
   "execution_count": 3,
   "metadata": {
    "collapsed": true
   },
   "outputs": [],
   "source": [
    "# fixing key issues\n",
    "for i in range(len(female_reviews)):\n",
    "    review = female_reviews[i]\n",
    "    for key in review.keys():\n",
    "        if 'movie_id' in key:\n",
    "            review['movie_id'] = review[key]\n",
    "        if 'icon' in key:\n",
    "            review['icon'] = review[key]\n",
    "    female_reviews[i] = review"
   ]
  },
  {
   "cell_type": "code",
   "execution_count": 4,
   "metadata": {
    "collapsed": false
   },
   "outputs": [
    {
     "name": "stdout",
     "output_type": "stream",
     "text": [
      "64366 male reviews read with 0 error(s).\n"
     ]
    }
   ],
   "source": [
    "male_reviews = []\n",
    "count_errors = 0\n",
    "with open('review_buckets_male.txt') as data_file:    \n",
    "    for line in data_file:\n",
    "        try:\n",
    "            male_reviews.append(ast.literal_eval(line))\n",
    "        except:\n",
    "            count_errors+=1\n",
    "print(str(len(male_reviews))+\" male reviews read with \"+str(count_errors)+ \" error(s).\")"
   ]
  },
  {
   "cell_type": "code",
   "execution_count": 5,
   "metadata": {
    "collapsed": true
   },
   "outputs": [],
   "source": [
    "# fixing key issues\n",
    "for i in range(len(male_reviews)):\n",
    "    review = male_reviews[i]\n",
    "    for key in review.keys():\n",
    "        if 'movie_id' in key:\n",
    "            review['movie_id'] = review[key]\n",
    "        if 'icon' in key:\n",
    "            review['icon'] = review[key]\n",
    "    male_reviews[i] = review"
   ]
  },
  {
   "cell_type": "code",
   "execution_count": 6,
   "metadata": {
    "collapsed": false
   },
   "outputs": [],
   "source": [
    "movie_data = pandas.read_csv('movie_metadata.csv')\n",
    "movie_titles = [repr(x).split(\"\\\\\", 1)[0].lower()[1:] for x in list(movie_data['movie_title'])]"
   ]
  },
  {
   "cell_type": "code",
   "execution_count": 9,
   "metadata": {
    "collapsed": false
   },
   "outputs": [],
   "source": [
    "male_review_movie_list = []\n",
    "for i in male_reviews:\n",
    "    if not str.isdigit(i['movie_id']):\n",
    "        male_review_movie_list.append(i['movie_id'])\n",
    "male_review_movie_list = set(male_review_movie_list)"
   ]
  },
  {
   "cell_type": "code",
   "execution_count": 11,
   "metadata": {
    "collapsed": false
   },
   "outputs": [],
   "source": [
    "overlap = []\n",
    "for i in movie_titles:\n",
    "    if i.replace(\" \", \"_\") in male_review_movie_list:\n",
    "        overlap.append(i)"
   ]
  },
  {
   "cell_type": "code",
   "execution_count": 13,
   "metadata": {
    "collapsed": false
   },
   "outputs": [
    {
     "data": {
      "text/plain": [
       "907"
      ]
     },
     "execution_count": 13,
     "metadata": {},
     "output_type": "execute_result"
    }
   ],
   "source": [
    "len(overlap)"
   ]
  }
 ],
 "metadata": {
  "kernelspec": {
   "display_name": "Python 2",
   "language": "python",
   "name": "python2"
  },
  "language_info": {
   "codemirror_mode": {
    "name": "ipython",
    "version": 2
   },
   "file_extension": ".py",
   "mimetype": "text/x-python",
   "name": "python",
   "nbconvert_exporter": "python",
   "pygments_lexer": "ipython2",
   "version": "2.7.11"
  }
 },
 "nbformat": 4,
 "nbformat_minor": 0
}
