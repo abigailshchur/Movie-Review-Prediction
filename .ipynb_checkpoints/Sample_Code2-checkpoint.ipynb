{
 "cells": [
  {
   "cell_type": "code",
   "execution_count": 1,
   "metadata": {
    "collapsed": false
   },
   "outputs": [
    {
     "name": "stderr",
     "output_type": "stream",
     "text": [
      "/Users/abigailshchur/anaconda/lib/python2.7/site-packages/matplotlib/font_manager.py:273: UserWarning: Matplotlib is building the font cache using fc-list. This may take a moment.\n",
      "  warnings.warn('Matplotlib is building the font cache using fc-list. This may take a moment.')\n"
     ]
    }
   ],
   "source": [
    "from __future__ import print_function\n",
    "import numpy as np\n",
    "import csv\n",
    "import matplotlib.pyplot as plt\n",
    "import matplotlib.mlab as mlab\n",
    "import matplotlib.cm as cm\n",
    "import scipy as sp\n",
    "from scipy.sparse import *\n",
    "from scipy.spatial.distance import *\n",
    "from sklearn.cluster import SpectralClustering, KMeans, AgglomerativeClustering\n",
    "from sklearn.cross_decomposition import CCA\n",
    "from sklearn import mixture, decomposition\n",
    "from sklearn.manifold import TSNE, spectral_embedding\n",
    "from sklearn.semi_supervised import label_propagation\n",
    "from sklearn import random_projection\n",
    "from sklearn.metrics import pairwise\n",
    "from sklearn.neighbors import kneighbors_graph\n",
    "from collections import Counter\n",
    "\n",
    "\n",
    "%matplotlib inline"
   ]
  },
  {
   "cell_type": "code",
   "execution_count": 2,
   "metadata": {
    "collapsed": true
   },
   "outputs": [],
   "source": [
    "def testing(v):\n",
    "    t1 = True; t2 = True; t3 = True; t4 = True; t5 = True; t6 = True;\n",
    "    count = 0\n",
    "    str = \"\"\n",
    "    if (v[12] != 1):\n",
    "        count +=1\n",
    "        t1 = False\n",
    "        str = str + \"missed 0\"\n",
    "    if (v[1419] != 1):\n",
    "        count +=1\n",
    "        t2 = False\n",
    "        str = str + \", missed 1\"\n",
    "    if (v[865] != 1):\n",
    "        count +=1\n",
    "        t3 = False\n",
    "        str = str + \", missed 2\"\n",
    "    if (v[146] != 0):\n",
    "        count +=1\n",
    "        t4 = False\n",
    "        str = str + \", missed 3\"\n",
    "    if (v[1653] != 0):\n",
    "        count +=1\n",
    "        t5 = False\n",
    "        str = str + \", missed 4\"\n",
    "    if (v[1176] != 0):\n",
    "        count +=1\n",
    "        t6 = False\n",
    "        str = str + \", missed 5\"\n",
    "    if (t1 and t2 and t3 and t4 and t5 and t6):\n",
    "        print(\"Passed given tests\")\n",
    "    else:\n",
    "        print(\"Missed some of the given tests\")\n",
    "        print(\"Number correct:\")\n",
    "        print(6-count)\n",
    "    wrong = count\n",
    "    count = 0\n",
    "    for i in v:\n",
    "        if (i!=0):\n",
    "            count +=1\n",
    "    print(\"Percentage 1s (should be .6ish)\")\n",
    "    print(float(count)/float(n))\n",
    "    print(str)\n",
    "    if wrong == 0 or wrong == 6:\n",
    "        return True\n",
    "    else:\n",
    "        return False"
   ]
  },
  {
   "cell_type": "code",
   "execution_count": 3,
   "metadata": {
    "collapsed": true
   },
   "outputs": [],
   "source": [
    "def print_to_file(filename, vector):\n",
    "    ans = []\n",
    "    for i in range(len(vector)):\n",
    "        ans.append([i,vector[i]])\n",
    "    with open(filename, \"wb\") as f:\n",
    "        writer = csv.writer(f)\n",
    "        writer.writerows(ans)"
   ]
  },
  {
   "cell_type": "code",
   "execution_count": 4,
   "metadata": {
    "collapsed": true
   },
   "outputs": [],
   "source": [
    "n = 1829"
   ]
  },
  {
   "cell_type": "code",
   "execution_count": 5,
   "metadata": {
    "collapsed": false
   },
   "outputs": [],
   "source": [
    "description = np.loadtxt('description.csv', delimiter=',')\n",
    "graph = np.loadtxt('graph.csv', delimiter=',')\n",
    "social_and_evolution = np.loadtxt('social_and_evolution.csv', delimiter=',')\n",
    "#category_partial_supervision = np.loadtxt('./data/category_partial_supervision.csv', delimiter=',', skiprows=1)\n",
    "\n",
    "# convert to sparse matrix\n",
    "i, j, value = np.split(description, 3, axis=1)\n",
    "description = coo_matrix((value.flatten(), (i.flatten(), j.flatten()))).tocsc()\n",
    "\n",
    "i, j, value = np.split(graph, 3, axis=1)\n",
    "graph = coo_matrix((value.flatten(), (i.flatten(), j.flatten()))).tocsc()"
   ]
  },
  {
   "cell_type": "code",
   "execution_count": 6,
   "metadata": {
    "collapsed": true
   },
   "outputs": [],
   "source": [
    "def fit_kmeans(samples, num_components, sample_points=np.array([])):\n",
    "    k_means = KMeans(n_clusters=num_components)\n",
    "    preds = k_means.fit_predict(samples)\n",
    "    \n",
    "    plt.figure(num=None, figsize=(15, 8), dpi=80, facecolor='w', edgecolor='k')\n",
    "    ax = plt.gca()\n",
    "    color_dict = {idx:col for idx, col in enumerate(cm.rainbow(np.linspace(0, 1, num_components)))}\n",
    "    colors = [color_dict[i] for i in preds]\n",
    "    ax.scatter(samples[:,0], samples[:,1], \n",
    "               c=colors, alpha=0.8)\n",
    "    \n",
    "    return preds, color_dict"
   ]
  },
  {
   "cell_type": "markdown",
   "metadata": {},
   "source": [
    "### Change this constant for spectral embedding dimension"
   ]
  },
  {
   "cell_type": "code",
   "execution_count": 7,
   "metadata": {
    "collapsed": true
   },
   "outputs": [],
   "source": [
    "C1 = 1800"
   ]
  },
  {
   "cell_type": "code",
   "execution_count": 8,
   "metadata": {
    "collapsed": false
   },
   "outputs": [],
   "source": [
    "A = graph.dot(graph.T)\n",
    "A[A > 0] = 1\n",
    "graph_embedded = spectral_embedding(A, n_components=C1)"
   ]
  },
  {
   "cell_type": "markdown",
   "metadata": {
    "collapsed": true
   },
   "source": [
    "### Change this constant for CCA dimension"
   ]
  },
  {
   "cell_type": "code",
   "execution_count": 12,
   "metadata": {
    "collapsed": true
   },
   "outputs": [],
   "source": [
    "C2 = 3"
   ]
  },
  {
   "cell_type": "code",
   "execution_count": 13,
   "metadata": {
    "collapsed": false
   },
   "outputs": [
    {
     "name": "stderr",
     "output_type": "stream",
     "text": [
      "/Users/abigailshchur/anaconda/lib/python2.7/site-packages/sklearn/cross_decomposition/pls_.py:293: UserWarning: X scores are null at iteration 2\n",
      "  warnings.warn('X scores are null at iteration %s' % k)\n"
     ]
    }
   ],
   "source": [
    "cca_test = CCA(n_components=C2)\n",
    "cca_test.fit(graph_embedded, social_and_evolution)\n",
    "Y1, Y2 = cca_test.transform(graph_embedded, social_and_evolution)"
   ]
  },
  {
   "cell_type": "code",
   "execution_count": 14,
   "metadata": {
    "collapsed": false
   },
   "outputs": [
    {
     "name": "stdout",
     "output_type": "stream",
     "text": [
      "Missed some of the given tests\n",
      "Number correct:\n",
      "2\n",
      "Percentage 1s (should be .6ish)\n",
      "0.396938217605\n",
      "missed 0, missed 1, missed 2, missed 5\n",
      "Missed some of the given tests\n",
      "Number correct:\n",
      "2\n",
      "Percentage 1s (should be .6ish)\n",
      "0.424822307272\n",
      "missed 0, missed 1, missed 2, missed 5\n"
     ]
    },
    {
     "data": {
      "text/plain": [
       "False"
      ]
     },
     "execution_count": 14,
     "metadata": {},
     "output_type": "execute_result"
    },
    {
     "data": {
      "image/png": "[encoded data removed]",
      "text/plain": [
       "<matplotlib.figure.Figure at 0x104c0e710>"
      ]
     },
     "metadata": {},
     "output_type": "display_data"
    },
    {
     "data": {
      "image/png": "[encoded data removed]",
      "text/plain": [
       "<matplotlib.figure.Figure at 0x103b7bfd0>"
      ]
     },
     "metadata": {},
     "output_type": "display_data"
    }
   ],
   "source": [
    "x, y = fit_kmeans(Y1, 2)\n",
    "testing(x)\n",
    "x2, y2 = fit_kmeans(Y2, 2)\n",
    "testing(x2)"
   ]
  },
  {
   "cell_type": "markdown",
   "metadata": {},
   "source": [
    "### DONT RUN THIS... But this would probably give us our answer"
   ]
  },
  {
   "cell_type": "code",
   "execution_count": null,
   "metadata": {
    "collapsed": true
   },
   "outputs": [],
   "source": [
    "for C1 in range(500,n,100):\n",
    "    A = graph.dot(graph.T)\n",
    "    A[A > 0] = 1\n",
    "    graph_embedded = spectral_embedding(A, n_components=C1)\n",
    "    for C2 in range(2,100,5):\n",
    "        cca_test = CCA(n_components=C2)\n",
    "        cca_test.fit(graph_embedded, social_and_evolution)\n",
    "        Y1, Y2 = cca_test.transform(graph_embedded, social_and_evolution)\n",
    "        x, y = fit_kmeans(Y1, 2)\n",
    "        if (testing(x)):\n",
    "            print(\"************\")\n",
    "            print(C1)\n",
    "            print(C2)\n",
    "            print(\"************\")"
   ]
  }
 ],
 "metadata": {
  "kernelspec": {
   "display_name": "Python 2",
   "language": "python",
   "name": "python2"
  },
  "language_info": {
   "codemirror_mode": {
    "name": "ipython",
    "version": 2
   },
   "file_extension": ".py",
   "mimetype": "text/x-python",
   "name": "python",
   "nbconvert_exporter": "python",
   "pygments_lexer": "ipython2",
   "version": "2.7.11"
  }
 },
 "nbformat": 4,
 "nbformat_minor": 0
}
