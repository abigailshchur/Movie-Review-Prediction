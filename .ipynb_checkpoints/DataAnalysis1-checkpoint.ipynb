{
 "cells": [
  {
   "cell_type": "code",
   "execution_count": 1,
   "metadata": {
    "collapsed": false
   },
   "outputs": [],
   "source": [
    "import numpy as np\n",
    "from numpy import genfromtxt\n",
    "from collections import Counter\n",
    "from sklearn.cluster import KMeans\n",
    "import pandas\n",
    "import random\n",
    "import math\n",
    "from sklearn import svm\n",
    "from scipy import linalg\n",
    "import matplotlib.pyplot as plt\n",
    "%matplotlib inline\n",
    "import matplotlib as mpl\n",
    "from sklearn.decomposition import PCA\n",
    "from sklearn import tree\n",
    "from sklearn.ensemble import RandomForestClassifier\n",
    "import plotly.plotly as py\n",
    "import plotly.tools as tls\n",
    "import pylab\n",
    "from sklearn.preprocessing import normalize\n",
    "import statsmodels.api as sm\n",
    "from sklearn.linear_model import LogisticRegression\n",
    "from scipy import stats\n",
    "from sklearn.feature_selection import chi2\n",
    "from sklearn import tree\n",
    "from sklearn.ensemble import RandomForestClassifier\n",
    "from scipy.sparse import csgraph\n",
    "import matplotlib.cm as cm"
   ]
  },
  {
   "cell_type": "markdown",
   "metadata": {},
   "source": [
    "## Loading in Data:"
   ]
  },
  {
   "cell_type": "code",
   "execution_count": 2,
   "metadata": {
    "collapsed": false
   },
   "outputs": [],
   "source": [
    "reviews = genfromtxt('review_matrix.csv', delimiter=',') # reviewer by movie (2482x818)\n",
    "movies = pandas.read_csv('movie_data_cleaned_v2.csv') # all movies (3801 by 57)\n",
    "review_to_movie = genfromtxt('review_to_imdb.csv', delimiter=',') # col in reviews -> row in movies\n",
    "reviewer_to_gender = genfromtxt('review_to_gender.csv', delimiter=',')\n",
    "reviewer_to_gender = map(lambda x: \"m\" if x==0 else \"f\", reviewer_to_gender) # row in reviews -> gender"
   ]
  },
  {
   "cell_type": "code",
   "execution_count": 3,
   "metadata": {
    "collapsed": false
   },
   "outputs": [],
   "source": [
    "num_reviewers = np.shape(reviews)[0]\n",
    "num_movies = np.shape(reviews)[1]"
   ]
  },
  {
   "cell_type": "markdown",
   "metadata": {},
   "source": [
    "## Minor Pre-Processing"
   ]
  },
  {
   "cell_type": "markdown",
   "metadata": {},
   "source": [
    "There are a lot of reviewers that do not review many movies. Here, we set a minimum number of movies for a reviewer to be used in our classification. This number may change in later approaches where we combine review data from similar reviewers in the training set. "
   ]
  },
  {
   "cell_type": "code",
   "execution_count": 4,
   "metadata": {
    "collapsed": false
   },
   "outputs": [
    {
     "name": "stdout",
     "output_type": "stream",
     "text": [
      "This leads to 229 good reviewers.\n"
     ]
    }
   ],
   "source": [
    "min_num_reviews = 50 # do not include reviewers with < min_num_reviews reviews total\n",
    "count_reviews = np.sum(np.absolute(reviews),axis=1)\n",
    "good_reviewers = filter(lambda x: count_reviews[x] >= min_num_reviews, range(num_reviewers))\n",
    "print(\"This leads to %d good reviewers.\" % np.shape(good_reviewers)[0])\n",
    "\n",
    "### Use data structures below to make life easier ###\n",
    "num_good_reviewers = len(good_reviewers)\n",
    "good_reviews = reviews[good_reviewers,:]\n",
    "good_reviewer_to_gender = [reviewer_to_gender[x] for x in good_reviewers]"
   ]
  },
  {
   "cell_type": "code",
   "execution_count": 5,
   "metadata": {
    "collapsed": false
   },
   "outputs": [],
   "source": [
    "good_movies = []\n",
    "index = 0\n",
    "for i in review_to_movie:\n",
    "    good_movies.append(movies[int(i):int(i+1)].to_dict())\n",
    "    for key in good_movies[index]:\n",
    "        good_movies[index][key] = good_movies[index][key][i]\n",
    "    index+=1\n",
    "good_movies = pandas.DataFrame(good_movies)"
   ]
  },
  {
   "cell_type": "code",
   "execution_count": 6,
   "metadata": {
    "collapsed": false
   },
   "outputs": [],
   "source": [
    "binary_genders = [0]*len(good_reviewer_to_gender)\n",
    "for i in range(len(good_reviewer_to_gender)):\n",
    "    if (good_reviewer_to_gender[i]==\"m\"):\n",
    "        binary_genders[i] = 1\n",
    "    else:\n",
    "        binary_genders[i] = 0"
   ]
  },
  {
   "cell_type": "markdown",
   "metadata": {},
   "source": [
    "Here are all the important variables moving forward:\n",
    "* num_good_reviewers, num_movies (specify dimensions of good_reviews matrix)\n",
    "* good_reviews: reviewer by movie matrix (+1 is positive review, -1 is negative, 0 is no review)\n",
    "* good_movies: movies that we have reviews for (cols here correspond to rows in good_reviews)\n",
    "* good_reviewer_to_gender: reviewer idx to gender map"
   ]
  },
  {
   "cell_type": "markdown",
   "metadata": {},
   "source": [
    "## Generally Useful Functions"
   ]
  },
  {
   "cell_type": "code",
   "execution_count": 7,
   "metadata": {
    "collapsed": true
   },
   "outputs": [],
   "source": [
    "### Returns something of the form [x,...,x] where x can be any object\n",
    "def list_of_x(x, length):\n",
    "    lst = np.empty((length,), dtype=np.object_)\n",
    "    lst.fill(x)\n",
    "    return np.frompyfunc(list,1,1)(lst)\n",
    "\n",
    "def mean_matrix(v, n):\n",
    "    v = np.matrix(v)\n",
    "    mean = v.mean(axis=0)\n",
    "    return np.repeat(mean,n,axis=0)"
   ]
  },
  {
   "cell_type": "markdown",
   "metadata": {},
   "source": [
    "## Get Test/ Training Split"
   ]
  },
  {
   "cell_type": "markdown",
   "metadata": {},
   "source": [
    "For now, lets do a 50/50 split. This ends up with a data-structure such that train[i] represents the columns (movies) in reviews that correspond to the testing set. The 50/50 split is done such that for each reviewer, half of their reviews are training and half are test. "
   ]
  },
  {
   "cell_type": "code",
   "execution_count": 8,
   "metadata": {
    "collapsed": false
   },
   "outputs": [],
   "source": [
    "### Returns tuple with training and testing indices\n",
    "### train: list of length num_good_reviewers\n",
    "### train[i]: list of movie indices that are in training set for reviewer i\n",
    "### Similar format for test\n",
    "### Arguments: split - percentage of data going to train\n",
    "def get_train_test(split):  \n",
    "    train = list_of_x([],num_good_reviewers)\n",
    "    test = list_of_x([],num_good_reviewers)\n",
    "    for i in range(num_good_reviewers):\n",
    "        valid_ind = filter(lambda x: not good_reviews[i][x] == 0, range(num_movies))\n",
    "        train[i] = [valid_ind[j] for j in sorted(random.sample(xrange(len(valid_ind)), int(len(valid_ind)*split)))]\n",
    "        test[i] = filter(lambda x: x not in train[i] and x in valid_ind, range(num_movies))\n",
    "    return (train,test)\n",
    "(train,test) = get_train_test(0.5)"
   ]
  },
  {
   "cell_type": "markdown",
   "metadata": {},
   "source": [
    "## Useful Testing Functions"
   ]
  },
  {
   "cell_type": "code",
   "execution_count": 9,
   "metadata": {
    "collapsed": false
   },
   "outputs": [],
   "source": [
    "def get_confusion_matrix(pred, test):\n",
    "    m = {\"tp\": 0, \"tn\": 0, \"fp\": 0, \"fn\": 0}\n",
    "    for i in range(num_good_reviewers):\n",
    "        for j in range(len(pred[i])):\n",
    "            prediction = pred[i][j]\n",
    "            actual = good_reviews[i][test[i][j]]\n",
    "            if (prediction == actual):\n",
    "                if (prediction == 1):\n",
    "                    m[\"tp\"]+=1\n",
    "                else:\n",
    "                    m[\"tn\"]+=1\n",
    "            else:\n",
    "                if (prediction == 1):\n",
    "                    m[\"fp\"]+=1\n",
    "                else:\n",
    "                    m[\"fn\"]+=1\n",
    "    return m\n",
    "\n",
    "def get_confusion_matrix_gender(pred, test, gender):\n",
    "    m = {\"tp\": 0, \"tn\": 0, \"fp\": 0, \"fn\": 0}\n",
    "    for i in range(num_good_reviewers):\n",
    "        for j in range(len(pred[i])):\n",
    "            prediction = pred[i][j]\n",
    "            actual = good_reviews[i][test[i][j]]\n",
    "            if (prediction == actual and good_reviewer_to_gender[i] == gender):\n",
    "                if (prediction == 1):\n",
    "                    m[\"tp\"]+=1\n",
    "                else:\n",
    "                    m[\"tn\"]+=1\n",
    "            elif (good_reviewer_to_gender[i] == gender):\n",
    "                if (prediction == 1):\n",
    "                    m[\"fp\"]+=1\n",
    "                else:\n",
    "                    m[\"fn\"]+=1\n",
    "    return m"
   ]
  },
  {
   "cell_type": "code",
   "execution_count": 10,
   "metadata": {
    "collapsed": true
   },
   "outputs": [],
   "source": [
    "def get_error(pred, test):\n",
    "    conf_m = get_confusion_matrix(pred,test)\n",
    "    return 1-(conf_m[\"tp\"]+conf_m[\"tn\"])/float(conf_m[\"tp\"]+conf_m[\"tn\"]+conf_m[\"fp\"]+conf_m[\"fn\"])\n",
    "\n",
    "def get_error_gender(pred, test, gender):\n",
    "    conf_m = get_confusion_matrix_gender(pred,test,gender)\n",
    "    return 1-(conf_m[\"tp\"]+conf_m[\"tn\"])/float(conf_m[\"tp\"]+conf_m[\"tn\"]+conf_m[\"fp\"]+conf_m[\"fn\"])"
   ]
  },
  {
   "cell_type": "code",
   "execution_count": 11,
   "metadata": {
    "collapsed": true
   },
   "outputs": [],
   "source": [
    "def summarize_conf_m(pred,test):\n",
    "    conf_m = get_confusion_matrix(pred,test)\n",
    "    print(\"True Positive Rate: %0.2f\" % (conf_m[\"tp\"]/float(conf_m[\"tp\"]+conf_m[\"fn\"])))\n",
    "    print(\"True Negative Rate: %0.2f\" % (conf_m[\"tn\"]/float(conf_m[\"tn\"]+conf_m[\"fp\"])))\n",
    "\n",
    "def summarize_conf_m_gender(pred,test,gender):\n",
    "    conf_m = get_confusion_matrix_gender(pred,test,gender)\n",
    "    print(\"True Positive Rate: %0.2f\" % (conf_m[\"tp\"]/float(conf_m[\"tp\"]+conf_m[\"fn\"])))\n",
    "    print(\"True Negative Rate: %0.2f\" % (conf_m[\"tn\"]/float(conf_m[\"tn\"]+conf_m[\"fp\"])))"
   ]
  },
  {
   "cell_type": "code",
   "execution_count": 12,
   "metadata": {
    "collapsed": false
   },
   "outputs": [],
   "source": [
    "def plotErrorByPerson(pred, test, filename):\n",
    "    error = [0]*num_good_reviewers\n",
    "    count_reviews = [0]*num_good_reviewers\n",
    "    for i in range(num_good_reviewers):\n",
    "        for j in range(len(pred[i])):\n",
    "            if (not pred[i][j] == good_reviews[i][test[i][j]]):\n",
    "                error[i]+=1\n",
    "        error[i] = error[i]/float(len(pred[i]))\n",
    "        count_reviews[i] = len(pred[i])\n",
    "    count_reviews = np.argsort(count_reviews, axis=None)[::-1]\n",
    "    errors_sorted = [0]*num_good_reviewers\n",
    "    colors = [\"r\"]*num_good_reviewers\n",
    "    for i in range(num_good_reviewers):\n",
    "        errors_sorted[i] = error[count_reviews[i]]\n",
    "        if (good_reviewer_to_gender[count_reviews[i]] == \"m\"):\n",
    "            colors[i] = \"b\"\n",
    "    plt.bar(range(num_good_reviewers), errors_sorted,color=colors)\n",
    "    plt.xmin = 0\n",
    "    plt.ylabel('Error Rate')\n",
    "    plt.xlabel('High # Reviews to Low # Reviews')\n",
    "    plt.title('Error Per Person (Female/Male Split)')\n",
    "    pylab.savefig(filename+'.png')\n",
    "    plt.show()"
   ]
  },
  {
   "cell_type": "markdown",
   "metadata": {},
   "source": [
    "# Baseline Approach"
   ]
  },
  {
   "cell_type": "markdown",
   "metadata": {},
   "source": [
    "* Set all testing to label of most common training label (does not use movies)"
   ]
  },
  {
   "cell_type": "code",
   "execution_count": 13,
   "metadata": {
    "collapsed": false
   },
   "outputs": [
    {
     "name": "stdout",
     "output_type": "stream",
     "text": [
      "{'tn': 2200, 'fp': 3818, 'fn': 1964, 'tp': 6250}\n",
      "{'tn': 885, 'fp': 1549, 'fn': 812, 'tp': 2382}\n",
      "{'tn': 1315, 'fp': 2269, 'fn': 1152, 'tp': 3868}\n",
      "Error: 0.41\n",
      "Female Error: 0.40\n",
      "Male Error: 0.42\n",
      "General Summary:\n",
      "True Positive Rate: 0.76\n",
      "True Negative Rate: 0.37\n",
      "Male Summary:\n",
      "True Positive Rate: 0.75\n",
      "True Negative Rate: 0.36\n",
      "Female Summary:\n",
      "True Positive Rate: 0.77\n",
      "True Negative Rate: 0.37\n"
     ]
    },
    {
     "data": {
      "image/png": "[encoded data removed]",
      "text/plain": [
       "<matplotlib.figure.Figure at 0x10fda6d50>"
      ]
     },
     "metadata": {},
     "output_type": "display_data"
    }
   ],
   "source": [
    "pred = list_of_x([],num_good_reviewers)\n",
    "for i in range(num_good_reviewers):\n",
    "    pred[i] = np.ones(len(test[i]))\n",
    "    if (Counter(good_reviews[i][train[i]]).most_common(1)[0][0] == -1):\n",
    "        pred[i] = -1*pred[i]\n",
    "print(get_confusion_matrix(pred,test))\n",
    "print(get_confusion_matrix_gender(pred,test,\"m\"))\n",
    "print(get_confusion_matrix_gender(pred,test,\"f\"))\n",
    "print(\"Error: %0.2f\" % get_error(pred,test))\n",
    "print(\"Female Error: %0.2f\" % get_error_gender(pred,test, \"f\"))\n",
    "print(\"Male Error: %0.2f\" % get_error_gender(pred,test, \"m\"))\n",
    "print(\"General Summary:\")\n",
    "summarize_conf_m(pred,test)\n",
    "print(\"Male Summary:\")\n",
    "summarize_conf_m_gender(pred,test,\"m\")\n",
    "print(\"Female Summary:\")\n",
    "summarize_conf_m_gender(pred,test,\"f\")\n",
    "plotErrorByPerson(pred,test,\"baseline\")"
   ]
  },
  {
   "cell_type": "markdown",
   "metadata": {},
   "source": [
    "# Lowering Dimension of IMDB Matrix"
   ]
  },
  {
   "cell_type": "code",
   "execution_count": 14,
   "metadata": {
    "collapsed": true
   },
   "outputs": [],
   "source": [
    "rel_features = [\"num_critic_for_reviews\", \"duration\", \"director_facebook_likes\", \n",
    "                \"budget\", \"gross\" , \"cast_total_facebook_likes\", \"title_year\",\n",
    "               \"action\", \"adventure\", \"fantasy\", \"sci_fi\", \"thriller\", \"romance\",\n",
    "               \"animation\", \"comedy\", \"family\", \"musical\", \"mystery\", \"western\",\n",
    "               \"drama\", \"history\", \"sport\", \"crime\", \"horror\", \"war\", \"biography\",\n",
    "               \"music\", \"documentary\", \"aspect_ratio\", \"pg_13\", \"pg\", \"g\", \"r\",\n",
    "                \"nc_17\", \"not_rated\",\"unrated\"]\n",
    "X = np.zeros((num_movies, len(rel_features)))\n",
    "for i in range(num_movies):\n",
    "    for j in range(len(rel_features)):\n",
    "        X[i,j] = good_movies.iloc[i][rel_features[j]]"
   ]
  },
  {
   "cell_type": "code",
   "execution_count": 15,
   "metadata": {
    "collapsed": false
   },
   "outputs": [],
   "source": [
    "# Normalizing matrix for PCA\n",
    "X = normalize(X, norm='l2', axis=0)"
   ]
  },
  {
   "cell_type": "code",
   "execution_count": 16,
   "metadata": {
    "collapsed": false
   },
   "outputs": [
    {
     "name": "stdout",
     "output_type": "stream",
     "text": [
      "We are retaining 0.75% of the Variance in X\n"
     ]
    },
    {
     "data": {
      "image/png": "[encoded data removed]",
      "text/plain": [
       "<matplotlib.figure.Figure at 0x10fda8150>"
      ]
     },
     "metadata": {},
     "output_type": "display_data"
    }
   ],
   "source": [
    "pca = PCA(n_components=len(rel_features))\n",
    "pca.fit(X)\n",
    "plt.plot(pca.explained_variance_ratio_)\n",
    "plt.xlabel(\"Dimension\")\n",
    "plt.ylabel(\"Percent Variance Explained\")\n",
    "plt.title(\"Variance Explained Chart (PCA)\")\n",
    "pylab.savefig(\"pca_imdb.png\")\n",
    "n_c=15\n",
    "pca = PCA(n_components=n_c)\n",
    "pca.fit(X)\n",
    "X_pca = pca.transform(X)\n",
    "np.shape(pca.transform(X))\n",
    "print(\"We are retaining %0.2f%% of the Variance in X\" % sum(pca.explained_variance_ratio_[0:n_c]))"
   ]
  },
  {
   "cell_type": "markdown",
   "metadata": {},
   "source": [
    "# Classification Row by Row"
   ]
  },
  {
   "cell_type": "markdown",
   "metadata": {},
   "source": [
    "## Cluster Movies, Group Based on Most Common Label of Movies in that Cluster"
   ]
  },
  {
   "cell_type": "markdown",
   "metadata": {},
   "source": [
    "### Clustering Movies"
   ]
  },
  {
   "cell_type": "code",
   "execution_count": 17,
   "metadata": {
    "collapsed": false
   },
   "outputs": [],
   "source": [
    "# to cluster movies we need to standardize\n",
    "X_std = (X_pca - np.mean(X_pca, axis=0)) / np.std(X_pca, axis=0)"
   ]
  },
  {
   "cell_type": "code",
   "execution_count": 18,
   "metadata": {
    "collapsed": true
   },
   "outputs": [],
   "source": [
    "k = 50 #TODO SHOULD OPTIMIZE\n",
    "kmeans = KMeans(n_clusters=k, random_state=0).fit(X_std)\n",
    "movie_labels = kmeans.labels_"
   ]
  },
  {
   "cell_type": "markdown",
   "metadata": {},
   "source": [
    "### Lets Test It"
   ]
  },
  {
   "cell_type": "code",
   "execution_count": 19,
   "metadata": {
    "collapsed": false
   },
   "outputs": [
    {
     "name": "stdout",
     "output_type": "stream",
     "text": [
      "{'tn': 3714, 'fp': 2304, 'fn': 4273, 'tp': 3941}\n",
      "{'tn': 1603, 'fp': 831, 'fn': 1923, 'tp': 1271}\n",
      "{'tn': 2111, 'fp': 1473, 'fn': 2350, 'tp': 2670}\n",
      "Error: 0.46\n",
      "Female Error: 0.44\n",
      "Male Error: 0.49\n",
      "General Summary:\n",
      "True Positive Rate: 0.48\n",
      "True Negative Rate: 0.62\n",
      "Male Summary:\n",
      "True Positive Rate: 0.40\n",
      "True Negative Rate: 0.66\n",
      "Female Summary:\n",
      "True Positive Rate: 0.53\n",
      "True Negative Rate: 0.59\n"
     ]
    },
    {
     "data": {
      "image/png": "[encoded data removed]",
      "text/plain": [
       "<matplotlib.figure.Figure at 0x110094d90>"
      ]
     },
     "metadata": {},
     "output_type": "display_data"
    }
   ],
   "source": [
    "pred = list_of_x([],num_good_reviewers)\n",
    "for i in range(num_good_reviewers):\n",
    "    pred[i] = np.ones(len(test[i]))\n",
    "    k_labels = np.zeros(k)\n",
    "    for j in range(num_movies):\n",
    "        if (j in train[i]):\n",
    "            k_labels[movie_labels[j]]+=good_reviews[i][j]\n",
    "    for j in range(len(test[i])):\n",
    "        if (k_labels[movie_labels[test[i][j]]] > 0):\n",
    "            pred[i][j]=1\n",
    "        else:\n",
    "            pred[i][j]=-1\n",
    "print(get_confusion_matrix(pred,test))\n",
    "print(get_confusion_matrix_gender(pred,test,\"m\"))\n",
    "print(get_confusion_matrix_gender(pred,test,\"f\"))\n",
    "print(\"Error: %0.2f\" % get_error(pred,test))\n",
    "print(\"Female Error: %0.2f\" % get_error_gender(pred,test, \"f\"))\n",
    "print(\"Male Error: %0.2f\" % get_error_gender(pred,test, \"m\"))\n",
    "print(\"General Summary:\")\n",
    "summarize_conf_m(pred,test)\n",
    "print(\"Male Summary:\")\n",
    "summarize_conf_m_gender(pred,test,\"m\")\n",
    "print(\"Female Summary:\")\n",
    "summarize_conf_m_gender(pred,test,\"f\")\n",
    "plotErrorByPerson(pred,test,\"kmeans1\")"
   ]
  },
  {
   "cell_type": "markdown",
   "metadata": {},
   "source": [
    "## Logistic Regression"
   ]
  },
  {
   "cell_type": "code",
   "execution_count": 20,
   "metadata": {
    "collapsed": false
   },
   "outputs": [
    {
     "name": "stdout",
     "output_type": "stream",
     "text": [
      "{'tn': 2248, 'fp': 3770, 'fn': 1962, 'tp': 6252}\n",
      "{'tn': 904, 'fp': 1530, 'fn': 839, 'tp': 2355}\n",
      "{'tn': 1344, 'fp': 2240, 'fn': 1123, 'tp': 3897}\n",
      "Error: 0.40\n",
      "Female Error: 0.39\n",
      "Male Error: 0.42\n",
      "General Summary:\n",
      "True Positive Rate: 0.76\n",
      "True Negative Rate: 0.37\n",
      "Male Summary:\n",
      "True Positive Rate: 0.74\n",
      "True Negative Rate: 0.37\n",
      "Female Summary:\n",
      "True Positive Rate: 0.78\n",
      "True Negative Rate: 0.38\n"
     ]
    },
    {
     "data": {
      "image/png": "[encoded data removed]",
      "text/plain": [
       "<matplotlib.figure.Figure at 0x10360e850>"
      ]
     },
     "metadata": {},
     "output_type": "display_data"
    }
   ],
   "source": [
    "pred = list_of_x([],num_good_reviewers)\n",
    "for i in range(num_good_reviewers):\n",
    "    pred[i] = np.ones(len(test[i]))\n",
    "    # train Logistic Regression\n",
    "    X_train = X_pca[train[i],:]\n",
    "    Y_train = good_reviews[i][train[i]]\n",
    "    if (sum(Y_train) == len(Y_train)):\n",
    "        pred[i] = np.ones(len(test[i]))\n",
    "        if (Counter(good_reviews[i][train[i]]).most_common(1)[0][0] == -1):\n",
    "            pred[i] = -1*pred[i]\n",
    "    else:\n",
    "        logistic = LogisticRegression()\n",
    "        logistic.fit(X_train, Y_train)\n",
    "        pred[i] = logistic.predict(X_pca[test[i],:])\n",
    "print(get_confusion_matrix(pred,test))\n",
    "print(get_confusion_matrix_gender(pred,test,\"m\"))\n",
    "print(get_confusion_matrix_gender(pred,test,\"f\"))\n",
    "print(\"Error: %0.2f\" % get_error(pred,test))\n",
    "print(\"Female Error: %0.2f\" % get_error_gender(pred,test, \"f\"))\n",
    "print(\"Male Error: %0.2f\" % get_error_gender(pred,test, \"m\"))\n",
    "print(\"General Summary:\")\n",
    "summarize_conf_m(pred,test)\n",
    "print(\"Male Summary:\")\n",
    "summarize_conf_m_gender(pred,test,\"m\")\n",
    "print(\"Female Summary:\")\n",
    "summarize_conf_m_gender(pred,test,\"f\")\n",
    "plotErrorByPerson(pred,test,\"logistic1\")"
   ]
  },
  {
   "cell_type": "markdown",
   "metadata": {},
   "source": [
    "## Random Forests and Trees"
   ]
  },
  {
   "cell_type": "code",
   "execution_count": 21,
   "metadata": {
    "collapsed": false
   },
   "outputs": [
    {
     "name": "stdout",
     "output_type": "stream",
     "text": [
      "{'tn': 2889, 'fp': 3129, 'fn': 3296, 'tp': 4918}\n",
      "{'tn': 1130, 'fp': 1304, 'fn': 1303, 'tp': 1891}\n",
      "{'tn': 1759, 'fp': 1825, 'fn': 1993, 'tp': 3027}\n",
      "Error: 0.45\n",
      "Female Error: 0.44\n",
      "Male Error: 0.46\n",
      "General Summary:\n",
      "True Positive Rate: 0.60\n",
      "True Negative Rate: 0.48\n",
      "Male Summary:\n",
      "True Positive Rate: 0.59\n",
      "True Negative Rate: 0.46\n",
      "Female Summary:\n",
      "True Positive Rate: 0.60\n",
      "True Negative Rate: 0.49\n"
     ]
    },
    {
     "data": {
      "image/png": "[encoded data removed]",
      "text/plain": [
       "<matplotlib.figure.Figure at 0x113bddb50>"
      ]
     },
     "metadata": {},
     "output_type": "display_data"
    }
   ],
   "source": [
    "# trees\n",
    "\n",
    "pred = list_of_x([],num_good_reviewers)\n",
    "for i in range(num_good_reviewers):\n",
    "    pred[i] = np.ones(len(test[i]))\n",
    "    X_train = X_pca[train[i],:]\n",
    "    Y_train = good_reviews[i][train[i]]\n",
    "    clf = tree.DecisionTreeClassifier(random_state=0)\n",
    "    clf.fit(X_train, Y_train)\n",
    "    pred[i] = clf.predict(X_pca[test[i],:])\n",
    "print(get_confusion_matrix(pred,test))\n",
    "print(get_confusion_matrix_gender(pred,test,\"m\"))\n",
    "print(get_confusion_matrix_gender(pred,test,\"f\"))\n",
    "print(\"Error: %0.2f\" % get_error(pred,test))\n",
    "print(\"Female Error: %0.2f\" % get_error_gender(pred,test, \"f\"))\n",
    "print(\"Male Error: %0.2f\" % get_error_gender(pred,test, \"m\"))\n",
    "print(\"General Summary:\")\n",
    "summarize_conf_m(pred,test)\n",
    "print(\"Male Summary:\")\n",
    "summarize_conf_m_gender(pred,test,\"m\")\n",
    "print(\"Female Summary:\")\n",
    "summarize_conf_m_gender(pred,test,\"f\")\n",
    "plotErrorByPerson(pred,test,\"logistic1\")"
   ]
  },
  {
   "cell_type": "code",
   "execution_count": 22,
   "metadata": {
    "collapsed": false
   },
   "outputs": [
    {
     "name": "stdout",
     "output_type": "stream",
     "text": [
      "{'tn': 3134, 'fp': 2884, 'fn': 3419, 'tp': 4795}\n",
      "{'tn': 1273, 'fp': 1161, 'fn': 1379, 'tp': 1815}\n",
      "{'tn': 1861, 'fp': 1723, 'fn': 2040, 'tp': 2980}\n",
      "Error: 0.44\n",
      "Female Error: 0.44\n",
      "Male Error: 0.45\n",
      "General Summary:\n",
      "True Positive Rate: 0.58\n",
      "True Negative Rate: 0.52\n",
      "Male Summary:\n",
      "True Positive Rate: 0.57\n",
      "True Negative Rate: 0.52\n",
      "Female Summary:\n",
      "True Positive Rate: 0.59\n",
      "True Negative Rate: 0.52\n"
     ]
    },
    {
     "data": {
      "image/png": "[encoded data removed]",
      "text/plain": [
       "<matplotlib.figure.Figure at 0x110891110>"
      ]
     },
     "metadata": {},
     "output_type": "display_data"
    }
   ],
   "source": [
    "# random forest\n",
    "pred = list_of_x([],num_good_reviewers)\n",
    "for i in range(num_good_reviewers):\n",
    "    pred[i] = np.ones(len(test[i]))\n",
    "    X_train = X_pca[train[i],:]\n",
    "    Y_train = good_reviews[i][train[i]]\n",
    "    rf = RandomForestClassifier(random_state=0)\n",
    "    rf.fit(X_train, Y_train)\n",
    "    pred[i] = rf.predict(X_pca[test[i],:])\n",
    "print(get_confusion_matrix(pred,test))\n",
    "print(get_confusion_matrix_gender(pred,test,\"m\"))\n",
    "print(get_confusion_matrix_gender(pred,test,\"f\"))\n",
    "print(\"Error: %0.2f\" % get_error(pred,test))\n",
    "print(\"Female Error: %0.2f\" % get_error_gender(pred,test, \"f\"))\n",
    "print(\"Male Error: %0.2f\" % get_error_gender(pred,test, \"m\"))\n",
    "print(\"General Summary:\")\n",
    "summarize_conf_m(pred,test)\n",
    "print(\"Male Summary:\")\n",
    "summarize_conf_m_gender(pred,test,\"m\")\n",
    "print(\"Female Summary:\")\n",
    "summarize_conf_m_gender(pred,test,\"f\")\n",
    "plotErrorByPerson(pred,test,\"logistic1\")"
   ]
  },
  {
   "cell_type": "markdown",
   "metadata": {},
   "source": [
    "# Changing Reviews by Clustering Reviewers"
   ]
  },
  {
   "cell_type": "markdown",
   "metadata": {
    "collapsed": true
   },
   "source": [
    "### Spectral Clustering for Reviewers"
   ]
  },
  {
   "cell_type": "code",
   "execution_count": 23,
   "metadata": {
    "collapsed": true
   },
   "outputs": [],
   "source": [
    "def fit_kmeans(samples, num_components):\n",
    "    k_means = KMeans(n_clusters=num_components)\n",
    "    preds = k_means.fit_predict(samples)\n",
    "    plt.figure(num=None, figsize=(15, 8), dpi=80, facecolor='w', edgecolor='k')\n",
    "    color1 = 'g'\n",
    "    color2 = 'y'\n",
    "    ax = plt.gca()\n",
    "    color_dict = {idx:col for idx, col in enumerate(cm.rainbow(np.linspace(0, 1, num_components)))}\n",
    "    colors = [color_dict[i] for i in preds]\n",
    "    ax.scatter(samples[:,0], samples[:,1], \n",
    "               c=colors, alpha=0.8)\n",
    "    return preds, color_dict"
   ]
  },
  {
   "cell_type": "code",
   "execution_count": 24,
   "metadata": {
    "collapsed": false
   },
   "outputs": [],
   "source": [
    "A = np.zeros((num_good_reviewers, num_good_reviewers))\n",
    "t = 15 # TODO can try a few different values\n",
    "for i in range(num_good_reviewers):\n",
    "    for j in range(num_good_reviewers):\n",
    "        dot = np.dot(good_reviews[i,:], good_reviews[j,:])\n",
    "        if (dot >= t):\n",
    "            A[i,j] = 1\n",
    "        else:\n",
    "            A[i,j] = 0"
   ]
  },
  {
   "cell_type": "code",
   "execution_count": 25,
   "metadata": {
    "collapsed": false
   },
   "outputs": [
    {
     "data": {
      "image/png": "[encoded data removed]",
      "text/plain": [
       "<matplotlib.figure.Figure at 0x114135490>"
      ]
     },
     "metadata": {},
     "output_type": "display_data"
    }
   ],
   "source": [
    "L_normed = csgraph.laplacian(A, normed=True)\n",
    "eigenvalues_norm, eigenvectors_norm = np.linalg.eigh(L_normed)\n",
    "plt.title(\"NormA\")\n",
    "plt.xlabel(\"Dimension\")\n",
    "plt.ylabel(\"Eigen-Value\")\n",
    "plt.plot(eigenvalues_norm)\n",
    "plt.show()"
   ]
  },
  {
   "cell_type": "code",
   "execution_count": 70,
   "metadata": {
    "collapsed": false
   },
   "outputs": [
    {
     "data": {
      "image/png": "[encoded data removed]",
      "text/plain": [
       "<matplotlib.figure.Figure at 0x113b2e990>"
      ]
     },
     "metadata": {},
     "output_type": "display_data"
    }
   ],
   "source": [
    "dim = 50\n",
    "k = 2\n",
    "preds_kmeans, colors_kmeans = fit_kmeans(eigenvectors_norm[:,20:dim],k)"
   ]
  },
  {
   "cell_type": "markdown",
   "metadata": {
    "collapsed": true
   },
   "source": [
    "### Modify Reviews so that each person also has reviews of other points in cluster"
   ]
  },
  {
   "cell_type": "markdown",
   "metadata": {},
   "source": [
    "* Creating matrix called good_reviews2\n",
    "* Training will be done on good_reviews2\n",
    "* good_reviews2 does not contain any testing data\n",
    "* Instead, zero and testing data points are replaced by the most common score among other people in cluster\n",
    "* All testing is done on the actual review matrix"
   ]
  },
  {
   "cell_type": "code",
   "execution_count": 61,
   "metadata": {
    "collapsed": false
   },
   "outputs": [
    {
     "name": "stdout",
     "output_type": "stream",
     "text": [
      "This led to 14201 additions in our training set overall\n"
     ]
    }
   ],
   "source": [
    "good_reviews2 = np.zeros((num_good_reviewers, num_movies))\n",
    "count_additions = 0\n",
    "for i in range(num_good_reviewers):\n",
    "    for j in train[i]:\n",
    "        good_reviews2[i,j] = good_reviews[i,j] # keep old training data\n",
    "    for j in range(len(test[i])):\n",
    "        # add points to test data\n",
    "        cluster = preds_kmeans[i] # cluster of i\n",
    "        label_lst = [] # will take the most of the labels\n",
    "        for k in range(num_good_reviewers): # for each other reviewer\n",
    "            if (preds_kmeans[k]==cluster and (not k==i)): # if it is a different reviewer\n",
    "                # same cluster \n",
    "                if test[i][j] in train[k]:\n",
    "                    label_lst.append(good_reviews[k,test[i][j]])\n",
    "        if len(label_lst)>0:\n",
    "            good_reviews2[i,j] = Counter(label_lst).most_common(1)[0][0]\n",
    "            count_additions+=1\n",
    "print(\"This led to %d additions in our training set overall\" % count_additions)"
   ]
  },
  {
   "cell_type": "code",
   "execution_count": 62,
   "metadata": {
    "collapsed": true
   },
   "outputs": [],
   "source": [
    "## train is a little different now\n",
    "train2 = list_of_x([],num_good_reviewers)\n",
    "for i in range(num_good_reviewers):\n",
    "    for j in range(num_movies):\n",
    "        if j in train[i]:\n",
    "            train2[i].append(j)\n",
    "        elif j not in train[i] and (not good_reviews2[i,j]==0):\n",
    "            train2[i].append(j)"
   ]
  },
  {
   "cell_type": "markdown",
   "metadata": {},
   "source": [
    "### Try Baseline 2.0"
   ]
  },
  {
   "cell_type": "code",
   "execution_count": 63,
   "metadata": {
    "collapsed": false
   },
   "outputs": [
    {
     "name": "stdout",
     "output_type": "stream",
     "text": [
      "{'tn': 741, 'fp': 5277, 'fn': 459, 'tp': 7755}\n",
      "{'tn': 319, 'fp': 2115, 'fn': 181, 'tp': 3013}\n",
      "{'tn': 422, 'fp': 3162, 'fn': 278, 'tp': 4742}\n",
      "Error: 0.40\n",
      "Female Error: 0.40\n",
      "Male Error: 0.41\n",
      "General Summary:\n",
      "True Positive Rate: 0.94\n",
      "True Negative Rate: 0.12\n",
      "Male Summary:\n",
      "True Positive Rate: 0.94\n",
      "True Negative Rate: 0.13\n",
      "Female Summary:\n",
      "True Positive Rate: 0.94\n",
      "True Negative Rate: 0.12\n"
     ]
    },
    {
     "data": {
      "image/png": "[encoded data removed]",
      "text/plain": [
       "<matplotlib.figure.Figure at 0x11037d590>"
      ]
     },
     "metadata": {},
     "output_type": "display_data"
    }
   ],
   "source": [
    "pred = list_of_x([],num_good_reviewers)\n",
    "for i in range(num_good_reviewers):\n",
    "    pred[i] = np.ones(len(test[i]))\n",
    "    if (Counter(good_reviews2[i][train2[i]]).most_common(1)[0][0] == -1):\n",
    "        pred[i] = -1*pred[i]\n",
    "    for j in test[i]:\n",
    "        if j in train2[i]:\n",
    "            pred[i][j] = good_reviews2[i][j]\n",
    "print(get_confusion_matrix(pred,test))\n",
    "print(get_confusion_matrix_gender(pred,test,\"m\"))\n",
    "print(get_confusion_matrix_gender(pred,test,\"f\"))\n",
    "print(\"Error: %0.2f\" % get_error(pred,test))\n",
    "print(\"Female Error: %0.2f\" % get_error_gender(pred,test, \"f\"))\n",
    "print(\"Male Error: %0.2f\" % get_error_gender(pred,test, \"m\"))\n",
    "print(\"General Summary:\")\n",
    "summarize_conf_m(pred,test)\n",
    "print(\"Male Summary:\")\n",
    "summarize_conf_m_gender(pred,test,\"m\")\n",
    "print(\"Female Summary:\")\n",
    "summarize_conf_m_gender(pred,test,\"f\")\n",
    "plotErrorByPerson(pred,test,\"baseline\")"
   ]
  },
  {
   "cell_type": "markdown",
   "metadata": {},
   "source": [
    "### Try Clustering again"
   ]
  },
  {
   "cell_type": "code",
   "execution_count": 64,
   "metadata": {
    "collapsed": true
   },
   "outputs": [],
   "source": [
    "k = 50\n",
    "kmeans = KMeans(n_clusters=k, random_state=0).fit(X_std)\n",
    "movie_labels = kmeans.labels_"
   ]
  },
  {
   "cell_type": "code",
   "execution_count": 65,
   "metadata": {
    "collapsed": false
   },
   "outputs": [
    {
     "name": "stdout",
     "output_type": "stream",
     "text": [
      "{'tn': 2682, 'fp': 3336, 'fn': 3200, 'tp': 5014}\n",
      "{'tn': 1273, 'fp': 1161, 'fn': 1521, 'tp': 1673}\n",
      "{'tn': 1409, 'fp': 2175, 'fn': 1679, 'tp': 3341}\n",
      "Error: 0.46\n",
      "Female Error: 0.45\n",
      "Male Error: 0.48\n",
      "General Summary:\n",
      "True Positive Rate: 0.61\n",
      "True Negative Rate: 0.45\n",
      "Male Summary:\n",
      "True Positive Rate: 0.52\n",
      "True Negative Rate: 0.52\n",
      "Female Summary:\n",
      "True Positive Rate: 0.67\n",
      "True Negative Rate: 0.39\n"
     ]
    },
    {
     "data": {
      "image/png": "[encoded data removed]",
      "text/plain": [
       "<matplotlib.figure.Figure at 0x10fda6d90>"
      ]
     },
     "metadata": {},
     "output_type": "display_data"
    }
   ],
   "source": [
    "pred = list_of_x([],num_good_reviewers)\n",
    "for i in range(num_good_reviewers):\n",
    "    pred[i] = np.ones(len(test[i]))\n",
    "    k_labels = np.zeros(k)\n",
    "    for j in range(num_movies):\n",
    "        if (j in train2[i]):\n",
    "            k_labels[movie_labels[j]]+=good_reviews2[i][j]\n",
    "    for j in range(len(test[i])):\n",
    "        if (k_labels[movie_labels[test[i][j]]] > 0):\n",
    "            pred[i][j]=1\n",
    "        else:\n",
    "            pred[i][j]=-1\n",
    "print(get_confusion_matrix(pred,test))\n",
    "print(get_confusion_matrix_gender(pred,test,\"m\"))\n",
    "print(get_confusion_matrix_gender(pred,test,\"f\"))\n",
    "print(\"Error: %0.2f\" % get_error(pred,test))\n",
    "print(\"Female Error: %0.2f\" % get_error_gender(pred,test, \"f\"))\n",
    "print(\"Male Error: %0.2f\" % get_error_gender(pred,test, \"m\"))\n",
    "print(\"General Summary:\")\n",
    "summarize_conf_m(pred,test)\n",
    "print(\"Male Summary:\")\n",
    "summarize_conf_m_gender(pred,test,\"m\")\n",
    "print(\"Female Summary:\")\n",
    "summarize_conf_m_gender(pred,test,\"f\")\n",
    "plotErrorByPerson(pred,test,\"kmeans1\")"
   ]
  },
  {
   "cell_type": "markdown",
   "metadata": {},
   "source": [
    "### Try Logistic Reg Aggain"
   ]
  },
  {
   "cell_type": "code",
   "execution_count": 66,
   "metadata": {
    "collapsed": false
   },
   "outputs": [
    {
     "name": "stdout",
     "output_type": "stream",
     "text": [
      "{'tn': 413, 'fp': 5605, 'fn': 256, 'tp': 7958}\n",
      "{'tn': 279, 'fp': 2155, 'fn': 150, 'tp': 3044}\n",
      "{'tn': 134, 'fp': 3450, 'fn': 106, 'tp': 4914}\n",
      "Error: 0.41\n",
      "Female Error: 0.41\n",
      "Male Error: 0.41\n",
      "General Summary:\n",
      "True Positive Rate: 0.97\n",
      "True Negative Rate: 0.07\n",
      "Male Summary:\n",
      "True Positive Rate: 0.95\n",
      "True Negative Rate: 0.11\n",
      "Female Summary:\n",
      "True Positive Rate: 0.98\n",
      "True Negative Rate: 0.04\n"
     ]
    },
    {
     "data": {
      "image/png": "[encoded data removed]",
      "text/plain": [
       "<matplotlib.figure.Figure at 0x1106d1dd0>"
      ]
     },
     "metadata": {},
     "output_type": "display_data"
    }
   ],
   "source": [
    "pred = list_of_x([],num_good_reviewers)\n",
    "for i in range(num_good_reviewers):\n",
    "    pred[i] = np.ones(len(test[i]))\n",
    "    # train Logistic Regression\n",
    "    X_train = X_pca[train2[i],:]\n",
    "    Y_train = good_reviews2[i,train2[i]]\n",
    "    if (sum(Y_train) == len(Y_train)):\n",
    "        pred[i] = np.ones(len(test[i]))\n",
    "        if (Counter(good_reviews2[i][train2[i]]).most_common(1)[0][0] == -1):\n",
    "            pred[i] = -1*pred[i]\n",
    "    else:\n",
    "        logistic = LogisticRegression()\n",
    "        logistic.fit(X_train, Y_train)\n",
    "        pred[i] = logistic.predict(X_pca[test[i],:])\n",
    "print(get_confusion_matrix(pred,test))\n",
    "print(get_confusion_matrix_gender(pred,test,\"m\"))\n",
    "print(get_confusion_matrix_gender(pred,test,\"f\"))\n",
    "print(\"Error: %0.2f\" % get_error(pred,test))\n",
    "print(\"Female Error: %0.2f\" % get_error_gender(pred,test, \"f\"))\n",
    "print(\"Male Error: %0.2f\" % get_error_gender(pred,test, \"m\"))\n",
    "print(\"General Summary:\")\n",
    "summarize_conf_m(pred,test)\n",
    "print(\"Male Summary:\")\n",
    "summarize_conf_m_gender(pred,test,\"m\")\n",
    "print(\"Female Summary:\")\n",
    "summarize_conf_m_gender(pred,test,\"f\")\n",
    "plotErrorByPerson(pred,test,\"logistic1\")"
   ]
  },
  {
   "cell_type": "markdown",
   "metadata": {},
   "source": [
    "### Trees"
   ]
  },
  {
   "cell_type": "code",
   "execution_count": 67,
   "metadata": {
    "collapsed": false
   },
   "outputs": [
    {
     "name": "stdout",
     "output_type": "stream",
     "text": [
      "{'tn': 2490, 'fp': 3528, 'fn': 2971, 'tp': 5243}\n",
      "{'tn': 1023, 'fp': 1411, 'fn': 1194, 'tp': 2000}\n",
      "{'tn': 1467, 'fp': 2117, 'fn': 1777, 'tp': 3243}\n",
      "Error: 0.46\n",
      "Female Error: 0.45\n",
      "Male Error: 0.46\n",
      "General Summary:\n",
      "True Positive Rate: 0.64\n",
      "True Negative Rate: 0.41\n",
      "Male Summary:\n",
      "True Positive Rate: 0.63\n",
      "True Negative Rate: 0.42\n",
      "Female Summary:\n",
      "True Positive Rate: 0.65\n",
      "True Negative Rate: 0.41\n"
     ]
    },
    {
     "data": {
      "image/png": "[encoded data removed]",
      "text/plain": [
       "<matplotlib.figure.Figure at 0x113dc2910>"
      ]
     },
     "metadata": {},
     "output_type": "display_data"
    }
   ],
   "source": [
    "# trees\n",
    "\n",
    "pred = list_of_x([],num_good_reviewers)\n",
    "for i in range(num_good_reviewers):\n",
    "    pred[i] = np.ones(len(test[i]))\n",
    "    X_train = X_pca[train2[i],:]\n",
    "    Y_train = good_reviews2[i][train2[i]]\n",
    "    clf = tree.DecisionTreeClassifier(random_state=0)\n",
    "    clf.fit(X_train, Y_train)\n",
    "    pred[i] = clf.predict(X_pca[test[i],:])\n",
    "print(get_confusion_matrix(pred,test))\n",
    "print(get_confusion_matrix_gender(pred,test,\"m\"))\n",
    "print(get_confusion_matrix_gender(pred,test,\"f\"))\n",
    "print(\"Error: %0.2f\" % get_error(pred,test))\n",
    "print(\"Female Error: %0.2f\" % get_error_gender(pred,test, \"f\"))\n",
    "print(\"Male Error: %0.2f\" % get_error_gender(pred,test, \"m\"))\n",
    "print(\"General Summary:\")\n",
    "summarize_conf_m(pred,test)\n",
    "print(\"Male Summary:\")\n",
    "summarize_conf_m_gender(pred,test,\"m\")\n",
    "print(\"Female Summary:\")\n",
    "summarize_conf_m_gender(pred,test,\"f\")\n",
    "plotErrorByPerson(pred,test,\"logistic1\")"
   ]
  },
  {
   "cell_type": "code",
   "execution_count": 68,
   "metadata": {
    "collapsed": false
   },
   "outputs": [
    {
     "name": "stdout",
     "output_type": "stream",
     "text": [
      "{'tn': 2549, 'fp': 3469, 'fn': 2947, 'tp': 5267}\n",
      "{'tn': 1060, 'fp': 1374, 'fn': 1237, 'tp': 1957}\n",
      "{'tn': 1489, 'fp': 2095, 'fn': 1710, 'tp': 3310}\n",
      "Error: 0.45\n",
      "Female Error: 0.44\n",
      "Male Error: 0.46\n",
      "General Summary:\n",
      "True Positive Rate: 0.64\n",
      "True Negative Rate: 0.42\n",
      "Male Summary:\n",
      "True Positive Rate: 0.61\n",
      "True Negative Rate: 0.44\n",
      "Female Summary:\n",
      "True Positive Rate: 0.66\n",
      "True Negative Rate: 0.42\n"
     ]
    },
    {
     "data": {
      "image/png": "[encoded data removed]",
      "text/plain": [
       "<matplotlib.figure.Figure at 0x1102d3d90>"
      ]
     },
     "metadata": {},
     "output_type": "display_data"
    }
   ],
   "source": [
    "# random forest\n",
    "pred = list_of_x([],num_good_reviewers)\n",
    "for i in range(num_good_reviewers):\n",
    "    pred[i] = np.ones(len(test[i]))\n",
    "    X_train = X_pca[train2[i],:]\n",
    "    Y_train = good_reviews2[i][train2[i]]\n",
    "    rf = RandomForestClassifier(random_state=0)\n",
    "    rf.fit(X_train, Y_train)\n",
    "    pred[i] = rf.predict(X_pca[test[i],:])\n",
    "print(get_confusion_matrix(pred,test))\n",
    "print(get_confusion_matrix_gender(pred,test,\"m\"))\n",
    "print(get_confusion_matrix_gender(pred,test,\"f\"))\n",
    "print(\"Error: %0.2f\" % get_error(pred,test))\n",
    "print(\"Female Error: %0.2f\" % get_error_gender(pred,test, \"f\"))\n",
    "print(\"Male Error: %0.2f\" % get_error_gender(pred,test, \"m\"))\n",
    "print(\"General Summary:\")\n",
    "summarize_conf_m(pred,test)\n",
    "print(\"Male Summary:\")\n",
    "summarize_conf_m_gender(pred,test,\"m\")\n",
    "print(\"Female Summary:\")\n",
    "summarize_conf_m_gender(pred,test,\"f\")\n",
    "plotErrorByPerson(pred,test,\"logistic1\")"
   ]
  },
  {
   "cell_type": "markdown",
   "metadata": {},
   "source": [
    "# Baseline 3.0"
   ]
  },
  {
   "cell_type": "code",
   "execution_count": 69,
   "metadata": {
    "collapsed": false
   },
   "outputs": [
    {
     "name": "stdout",
     "output_type": "stream",
     "text": [
      "{'tn': 3090, 'fp': 2928, 'fn': 1804, 'tp': 6410}\n",
      "{'tn': 1282, 'fp': 1152, 'fn': 704, 'tp': 2490}\n",
      "{'tn': 1808, 'fp': 1776, 'fn': 1100, 'tp': 3920}\n",
      "Error: 0.33\n",
      "Female Error: 0.33\n",
      "Male Error: 0.33\n",
      "General Summary:\n",
      "True Positive Rate: 0.78\n",
      "True Negative Rate: 0.51\n",
      "Male Summary:\n",
      "True Positive Rate: 0.78\n",
      "True Negative Rate: 0.53\n",
      "Female Summary:\n",
      "True Positive Rate: 0.78\n",
      "True Negative Rate: 0.50\n"
     ]
    },
    {
     "data": {
      "image/png": "[encoded data removed]",
      "text/plain": [
       "<matplotlib.figure.Figure at 0x110eb9bd0>"
      ]
     },
     "metadata": {},
     "output_type": "display_data"
    }
   ],
   "source": [
    "## Check if movie reviews are just a function of other people's reviews\n",
    "pred = list_of_x([],num_good_reviewers)\n",
    "for i in range(num_good_reviewers):\n",
    "    pred[i] = np.ones(len(test[i]))\n",
    "    for j in range(len(test[i])):\n",
    "        other_reviews = []\n",
    "        for k in range(num_good_reviewers):\n",
    "            if test[i][j] in train[k]:\n",
    "                other_reviews.append(good_reviews[k,test[i][j]])\n",
    "        if (len(other_reviews)>0):\n",
    "            pred[i][j] = Counter(other_reviews).most_common(1)[0][0]\n",
    "print(get_confusion_matrix(pred,test))\n",
    "print(get_confusion_matrix_gender(pred,test,\"m\"))\n",
    "print(get_confusion_matrix_gender(pred,test,\"f\"))\n",
    "print(\"Error: %0.2f\" % get_error(pred,test))\n",
    "print(\"Female Error: %0.2f\" % get_error_gender(pred,test, \"f\"))\n",
    "print(\"Male Error: %0.2f\" % get_error_gender(pred,test, \"m\"))\n",
    "print(\"General Summary:\")\n",
    "summarize_conf_m(pred,test)\n",
    "print(\"Male Summary:\")\n",
    "summarize_conf_m_gender(pred,test,\"m\")\n",
    "print(\"Female Summary:\")\n",
    "summarize_conf_m_gender(pred,test,\"f\")\n",
    "plotErrorByPerson(pred,test,\"baseline\")"
   ]
  },
  {
   "cell_type": "code",
   "execution_count": null,
   "metadata": {
    "collapsed": true
   },
   "outputs": [],
   "source": []
  }
 ],
 "metadata": {
  "kernelspec": {
   "display_name": "Python 2",
   "language": "python",
   "name": "python2"
  },
  "language_info": {
   "codemirror_mode": {
    "name": "ipython",
    "version": 2
   },
   "file_extension": ".py",
   "mimetype": "text/x-python",
   "name": "python",
   "nbconvert_exporter": "python",
   "pygments_lexer": "ipython2",
   "version": "2.7.11"
  }
 },
 "nbformat": 4,
 "nbformat_minor": 0
}
