{
 "cells": [
  {
   "cell_type": "code",
   "execution_count": 35,
   "metadata": {
    "collapsed": true
   },
   "outputs": [],
   "source": [
    "import numpy as np\n",
    "from numpy import genfromtxt\n",
    "from collections import Counter\n",
    "from sklearn.cluster import KMeans\n",
    "import pandas\n",
    "import random\n",
    "import math\n",
    "from sklearn import svm\n",
    "from scipy import linalg\n",
    "import matplotlib.pyplot as plt\n",
    "%matplotlib inline\n",
    "import matplotlib as mpl\n",
    "from sklearn.decomposition import PCA\n",
    "from sklearn.linear_model import LogisticRegression"
   ]
  },
  {
   "cell_type": "code",
   "execution_count": 36,
   "metadata": {
    "collapsed": true
   },
   "outputs": [],
   "source": [
    "reviews = genfromtxt('review_matrix.csv', delimiter=',') # reviewer by movie (2482x818)\n",
    "movies = pandas.read_csv('movie_data_cleaned_v2.csv') # all movies (3801 by 45)\n",
    "review_to_movie = genfromtxt('review_to_imdb.csv', delimiter=',') # col in reviews -> row in movies\n",
    "reviewer_to_gender = genfromtxt('review_to_gender.csv', delimiter=',')\n",
    "reviewer_to_gender = map(lambda x: \"m\" if x==0 else \"f\", reviewer_to_gender) # row in reviews -> gender"
   ]
  },
  {
   "cell_type": "code",
   "execution_count": 37,
   "metadata": {
    "collapsed": true
   },
   "outputs": [],
   "source": [
    "num_reviewers = np.shape(reviews)[0]\n",
    "num_movies = np.shape(reviews)[1]"
   ]
  },
  {
   "cell_type": "code",
   "execution_count": 38,
   "metadata": {
    "collapsed": false
   },
   "outputs": [
    {
     "name": "stdout",
     "output_type": "stream",
     "text": [
      "This leads to 92 good reviewers.\n"
     ]
    }
   ],
   "source": [
    "min_num_reviews = 100 # do not include reviewers with < min_num_reviews reviews total\n",
    "count_reviews = np.sum(np.absolute(reviews),axis=1)\n",
    "good_reviewers = filter(lambda x: count_reviews[x] >= min_num_reviews, range(num_reviewers))\n",
    "print(\"This leads to %d good reviewers.\" % np.shape(good_reviewers)[0])\n",
    "\n",
    "### Use data structures below to make life easier ###\n",
    "num_good_reviewers = len(good_reviewers)\n",
    "good_reviews = reviews[good_reviewers,:]\n",
    "good_reviewer_to_gender = [reviewer_to_gender[x] for x in good_reviewers]"
   ]
  },
  {
   "cell_type": "code",
   "execution_count": 39,
   "metadata": {
    "collapsed": true
   },
   "outputs": [],
   "source": [
    "good_movies = []\n",
    "index = 0\n",
    "for i in review_to_movie:\n",
    "    good_movies.append(movies[int(i):int(i+1)].to_dict())\n",
    "    for key in good_movies[index]:\n",
    "        good_movies[index][key] = good_movies[index][key][i]\n",
    "    index+=1\n",
    "good_movies = pandas.DataFrame(good_movies)"
   ]
  },
  {
   "cell_type": "code",
   "execution_count": 40,
   "metadata": {
    "collapsed": true
   },
   "outputs": [],
   "source": [
    "### Returns something of the form [x,...,x] where x can be any object\n",
    "def list_of_x(x, length):\n",
    "    lst = np.empty((length,), dtype=np.object_)\n",
    "    lst.fill(x)\n",
    "    return np.frompyfunc(list,1,1)(lst)\n",
    "\n",
    "def mean_matrix(v, n):\n",
    "    v = np.matrix(v)\n",
    "    mean = v.mean(axis=0)\n",
    "    return np.repeat(mean,n,axis=0)"
   ]
  },
  {
   "cell_type": "code",
   "execution_count": 41,
   "metadata": {
    "collapsed": true
   },
   "outputs": [],
   "source": [
    "### Returns tuple with training and testing indices\n",
    "### train: list of length num_good_reviewers\n",
    "### train[i]: list of movie indices that are in training set for reviewer i\n",
    "### Similar format for test\n",
    "### Arguments: split - percentage of data going to train\n",
    "def get_train_test(split):  \n",
    "    train = list_of_x([],num_good_reviewers)\n",
    "    test = list_of_x([],num_good_reviewers)\n",
    "    for i in range(num_good_reviewers):\n",
    "        valid_ind = filter(lambda x: not good_reviews[i][x] == 0, range(num_movies))\n",
    "        train[i] = [valid_ind[j] for j in sorted(random.sample(xrange(len(valid_ind)), int(len(valid_ind)*split)))]\n",
    "        test[i] = filter(lambda x: x not in train[i] and x in valid_ind, range(num_movies))\n",
    "    return (train,test)\n",
    "(train,test) = get_train_test(0.5)"
   ]
  },
  {
   "cell_type": "code",
   "execution_count": 42,
   "metadata": {
    "collapsed": true
   },
   "outputs": [],
   "source": [
    "def get_confusion_matrix(pred, test):\n",
    "    m = {\"tp\": 0, \"tn\": 0, \"fp\": 0, \"fn\": 0}\n",
    "    for i in range(num_good_reviewers):\n",
    "        for j in range(len(pred[i])):\n",
    "            prediction = pred[i][j]\n",
    "            actual = good_reviews[i][test[i][j]]\n",
    "            if (prediction == actual):\n",
    "                if (prediction == 1):\n",
    "                    m[\"tp\"]+=1\n",
    "                else:\n",
    "                    m[\"tn\"]+=1\n",
    "            else:\n",
    "                if (prediction == 1):\n",
    "                    m[\"fp\"]+=1\n",
    "                else:\n",
    "                    m[\"fn\"]+=1\n",
    "    return m\n",
    "\n",
    "def get_confusion_matrix_gender(pred, test, gender):\n",
    "    m = {\"tp\": 0, \"tn\": 0, \"fp\": 0, \"fn\": 0}\n",
    "    for i in range(num_good_reviewers):\n",
    "        for j in range(len(pred[i])):\n",
    "            prediction = pred[i][j]\n",
    "            actual = good_reviews[i][test[i][j]]\n",
    "            if (prediction == actual and good_reviewer_to_gender[i] == gender):\n",
    "                if (prediction == 1):\n",
    "                    m[\"tp\"]+=1\n",
    "                else:\n",
    "                    m[\"tn\"]+=1\n",
    "            elif (good_reviewer_to_gender[i] == gender):\n",
    "                if (prediction == 1):\n",
    "                    m[\"fp\"]+=1\n",
    "                else:\n",
    "                    m[\"fn\"]+=1\n",
    "    return m"
   ]
  },
  {
   "cell_type": "code",
   "execution_count": 43,
   "metadata": {
    "collapsed": true
   },
   "outputs": [],
   "source": [
    "def get_error(pred, test):\n",
    "    conf_m = get_confusion_matrix(pred,test)\n",
    "    return 1-(conf_m[\"tp\"]+conf_m[\"tn\"])/float(conf_m[\"tp\"]+conf_m[\"tn\"]+conf_m[\"fp\"]+conf_m[\"fn\"])\n",
    "\n",
    "def get_error_gender(pred, test, gender):\n",
    "    conf_m = get_confusion_matrix_gender(pred,test,gender)\n",
    "    return 1-(conf_m[\"tp\"]+conf_m[\"tn\"])/float(conf_m[\"tp\"]+conf_m[\"tn\"]+conf_m[\"fp\"]+conf_m[\"fn\"])"
   ]
  },
  {
   "cell_type": "code",
   "execution_count": 44,
   "metadata": {
    "collapsed": true
   },
   "outputs": [],
   "source": [
    "def summarize_conf_m(pred,test):\n",
    "    conf_m = get_confusion_matrix(pred,test)\n",
    "    print(\"True Positive Rate: %0.2f\" % (conf_m[\"tp\"]/float(conf_m[\"tp\"]+conf_m[\"fn\"])))\n",
    "    print(\"True Negative Rate: %0.2f\" % (conf_m[\"tn\"]/float(conf_m[\"tn\"]+conf_m[\"fp\"])))\n",
    "\n",
    "def summarize_conf_m_gender(pred,test,gender):\n",
    "    conf_m = get_confusion_matrix_gender(pred,test,gender)\n",
    "    print(\"True Positive Rate: %0.2f\" % (conf_m[\"tp\"]/float(conf_m[\"tp\"]+conf_m[\"fn\"])))\n",
    "    print(\"True Negative Rate: %0.2f\" % (conf_m[\"tn\"]/float(conf_m[\"tn\"]+conf_m[\"fp\"])))"
   ]
  },
  {
   "cell_type": "code",
   "execution_count": 45,
   "metadata": {
    "collapsed": false
   },
   "outputs": [
    {
     "name": "stdout",
     "output_type": "stream",
     "text": [
      "{'tn': 1309, 'fp': 2605, 'fn': 1118, 'tp': 4346}\n",
      "{'tn': 225, 'fp': 641, 'fn': 182, 'tp': 1086}\n",
      "{'tn': 1084, 'fp': 1964, 'fn': 936, 'tp': 3260}\n",
      "Error: 0.40\n",
      "Female Error: 0.40\n",
      "Male Error: 0.39\n",
      "General Summary:\n",
      "True Positive Rate: 0.80\n",
      "True Negative Rate: 0.33\n",
      "Male Summary:\n",
      "True Positive Rate: 0.86\n",
      "True Negative Rate: 0.26\n",
      "Female Summary:\n",
      "True Positive Rate: 0.78\n",
      "True Negative Rate: 0.36\n"
     ]
    }
   ],
   "source": [
    "pred = list_of_x([],num_good_reviewers)\n",
    "for i in range(num_good_reviewers):\n",
    "    pred[i] = np.ones(len(test[i]))\n",
    "    if (Counter(good_reviews[i][train[i]]).most_common(1)[0][0] == -1):\n",
    "        pred[i] = -1*pred[i]\n",
    "print(get_confusion_matrix(pred,test))\n",
    "print(get_confusion_matrix_gender(pred,test,\"m\"))\n",
    "print(get_confusion_matrix_gender(pred,test,\"f\"))\n",
    "print(\"Error: %0.2f\" % get_error(pred,test))\n",
    "print(\"Female Error: %0.2f\" % get_error_gender(pred,test, \"f\"))\n",
    "print(\"Male Error: %0.2f\" % get_error_gender(pred,test, \"m\"))\n",
    "print(\"General Summary:\")\n",
    "summarize_conf_m(pred,test)\n",
    "print(\"Male Summary:\")\n",
    "summarize_conf_m_gender(pred,test,\"m\")\n",
    "print(\"Female Summary:\")\n",
    "summarize_conf_m_gender(pred,test,\"f\")"
   ]
  },
  {
   "cell_type": "code",
   "execution_count": 33,
   "metadata": {
    "collapsed": false
   },
   "outputs": [
    {
     "ename": "NameError",
     "evalue": "name 'LogisticRegression' is not defined",
     "output_type": "error",
     "traceback": [
      "\u001b[0;31m---------------------------------------------------------------------------\u001b[0m",
      "\u001b[0;31mNameError\u001b[0m                                 Traceback (most recent call last)",
      "\u001b[0;32m<ipython-input-33-11159b44063e>\u001b[0m in \u001b[0;36m<module>\u001b[0;34m()\u001b[0m\n\u001b[1;32m      5\u001b[0m     \u001b[0mX_train\u001b[0m \u001b[1;33m=\u001b[0m \u001b[0mX\u001b[0m\u001b[1;33m[\u001b[0m\u001b[0mtrain\u001b[0m\u001b[1;33m[\u001b[0m\u001b[0mi\u001b[0m\u001b[1;33m]\u001b[0m\u001b[1;33m,\u001b[0m\u001b[1;33m:\u001b[0m\u001b[1;33m]\u001b[0m\u001b[1;33m\u001b[0m\u001b[0m\n\u001b[1;32m      6\u001b[0m     \u001b[0mY_train\u001b[0m \u001b[1;33m=\u001b[0m \u001b[0mgood_reviews\u001b[0m\u001b[1;33m[\u001b[0m\u001b[0mi\u001b[0m\u001b[1;33m]\u001b[0m\u001b[1;33m[\u001b[0m\u001b[0mtrain\u001b[0m\u001b[1;33m[\u001b[0m\u001b[0mi\u001b[0m\u001b[1;33m]\u001b[0m\u001b[1;33m]\u001b[0m\u001b[1;33m\u001b[0m\u001b[0m\n\u001b[0;32m----> 7\u001b[0;31m     \u001b[0mlogistic\u001b[0m \u001b[1;33m=\u001b[0m \u001b[0mLogisticRegression\u001b[0m\u001b[1;33m(\u001b[0m\u001b[1;33m)\u001b[0m\u001b[1;33m\u001b[0m\u001b[0m\n\u001b[0m\u001b[1;32m      8\u001b[0m     \u001b[0mlogistic\u001b[0m\u001b[1;33m.\u001b[0m\u001b[0mfit\u001b[0m\u001b[1;33m(\u001b[0m\u001b[0mX_train\u001b[0m\u001b[1;33m,\u001b[0m \u001b[0mY_train\u001b[0m\u001b[1;33m)\u001b[0m\u001b[1;33m\u001b[0m\u001b[0m\n\u001b[1;32m      9\u001b[0m     \u001b[0mpred\u001b[0m\u001b[1;33m[\u001b[0m\u001b[0mi\u001b[0m\u001b[1;33m]\u001b[0m \u001b[1;33m=\u001b[0m \u001b[0mlogistic\u001b[0m\u001b[1;33m.\u001b[0m\u001b[0mpredict\u001b[0m\u001b[1;33m(\u001b[0m\u001b[0mX\u001b[0m\u001b[1;33m[\u001b[0m\u001b[0mtest\u001b[0m\u001b[1;33m[\u001b[0m\u001b[0mi\u001b[0m\u001b[1;33m]\u001b[0m\u001b[1;33m,\u001b[0m\u001b[1;33m:\u001b[0m\u001b[1;33m]\u001b[0m\u001b[1;33m)\u001b[0m\u001b[1;33m\u001b[0m\u001b[0m\n",
      "\u001b[0;31mNameError\u001b[0m: name 'LogisticRegression' is not defined"
     ]
    }
   ],
   "source": [
    "pred = list_of_x([],num_good_reviewers)\n",
    "for i in range(num_good_reviewers):\n",
    "    pred[i] = np.ones(len(test[i]))\n",
    "    # train Logistic Regression\n",
    "    X_train = X[train[i],:]\n",
    "    Y_train = good_reviews[i][train[i]]\n",
    "    logistic = LogisticRegression()\n",
    "    logistic.fit(X_train, Y_train)\n",
    "    pred[i] = logistic.predict(X[test[i],:])\n",
    "print(get_confusion_matrix(pred,test))\n",
    "print(get_confusion_matrix_gender(pred,test,\"m\"))\n",
    "print(get_confusion_matrix_gender(pred,test,\"f\"))\n",
    "print(\"Error: %0.2f\" % get_error(pred,test))\n",
    "print(\"Female Error: %0.2f\" % get_error_gender(pred,test, \"f\"))\n",
    "print(\"Male Error: %0.2f\" % get_error_gender(pred,test, \"m\"))\n",
    "print(\"General Summary:\")\n",
    "summarize_conf_m(pred,test)\n",
    "print(\"Male Summary:\")\n",
    "summarize_conf_m_gender(pred,test,\"m\")\n",
    "print(\"Female Summary:\")\n",
    "summarize_conf_m_gender(pred,test,\"f\")"
   ]
  },
  {
   "cell_type": "code",
   "execution_count": 34,
   "metadata": {
    "collapsed": true
   },
   "outputs": [],
   "source": [
    "rel_features = [\"num_critic_for_reviews\", \"duration\", \"director_facebook_likes\", \n",
    "                \"actor_1_facebook_likes\", \"budget\", \"gross\" , \"cast_total_facebook_likes\",\n",
    "               \"action\", \"adventure\", \"fantasy\", \"sci_fi\", \"thriller\", \"romance\",\n",
    "               \"animation\", \"comedy\", \"family\", \"musical\", \"mystery\", \"western\",\n",
    "               \"drama\", \"history\", \"sport\", \"crime\", \"horror\", \"war\", \"biography\",\n",
    "               \"music\", \"documentary\", \"film_noir\"]\n",
    "#rel_features = [\"budget\", \"gross\"]\n",
    "X = np.zeros((num_movies, len(rel_features)))\n",
    "for i in range(num_movies):\n",
    "    for j in range(len(rel_features)):\n",
    "        X[i,j] = good_movies.iloc[i][rel_features[j]]"
   ]
  },
  {
   "cell_type": "code",
   "execution_count": 18,
   "metadata": {
    "collapsed": true
   },
   "outputs": [],
   "source": [
    "# standardize X\n",
    "X_norm = (X - np.mean(X)) / np.std(X)\n",
    "# lets group into... idk 3 Clusters\n",
    "k = 10\n",
    "kmeans = KMeans(n_clusters=k, random_state=0).fit(X_norm)\n",
    "movie_labels = kmeans.labels_"
   ]
  },
  {
   "cell_type": "code",
   "execution_count": null,
   "metadata": {
    "collapsed": true
   },
   "outputs": [],
   "source": []
  }
 ],
 "metadata": {
  "kernelspec": {
   "display_name": "Python 2",
   "language": "python",
   "name": "python2"
  },
  "language_info": {
   "codemirror_mode": {
    "name": "ipython",
    "version": 2
   },
   "file_extension": ".py",
   "mimetype": "text/x-python",
   "name": "python",
   "nbconvert_exporter": "python",
   "pygments_lexer": "ipython2",
   "version": "2.7.13"
  }
 },
 "nbformat": 4,
 "nbformat_minor": 2
}
