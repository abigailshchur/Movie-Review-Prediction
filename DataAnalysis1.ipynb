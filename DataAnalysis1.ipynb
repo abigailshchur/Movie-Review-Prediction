{
 "cells": [
  {
   "cell_type": "code",
   "execution_count": 1,
   "metadata": {
    "collapsed": false
   },
   "outputs": [],
   "source": [
    "import numpy as np\n",
    "from numpy import genfromtxt\n",
    "from collections import Counter\n",
    "from sklearn.cluster import KMeans\n",
    "import pandas\n",
    "import random\n",
    "import math\n",
    "from sklearn import svm\n",
    "from scipy import linalg\n",
    "import matplotlib.pyplot as plt\n",
    "%matplotlib inline\n",
    "import matplotlib as mpl\n",
    "from sklearn.decomposition import PCA\n",
    "from sklearn import tree\n",
    "from sklearn.ensemble import RandomForestClassifier\n",
    "import plotly.plotly as py\n",
    "import plotly.tools as tls\n",
    "import pylab\n",
    "from sklearn.preprocessing import normalize\n",
    "import statsmodels.api as sm\n",
    "from sklearn.linear_model import LogisticRegression\n",
    "from scipy import stats\n",
    "from sklearn.feature_selection import chi2\n",
    "from sklearn import tree\n",
    "from sklearn.ensemble import RandomForestClassifier\n",
    "from scipy.sparse import csgraph\n",
    "import matplotlib.cm as cm"
   ]
  },
  {
   "cell_type": "markdown",
   "metadata": {},
   "source": [
    "## Loading in Data:"
   ]
  },
  {
   "cell_type": "code",
   "execution_count": 2,
   "metadata": {
    "collapsed": false
   },
   "outputs": [],
   "source": [
    "reviews = genfromtxt('review_matrix.csv', delimiter=',') # reviewer by movie (2482x818)\n",
    "movies = pandas.read_csv('movie_data_cleaned_v2.csv') # all movies (3801 by 57)\n",
    "review_to_movie = genfromtxt('review_to_imdb.csv', delimiter=',') # col in reviews -> row in movies\n",
    "reviewer_to_gender = genfromtxt('review_to_gender.csv', delimiter=',')\n",
    "reviewer_to_gender = map(lambda x: \"m\" if x==0 else \"f\", reviewer_to_gender) # row in reviews -> gender"
   ]
  },
  {
   "cell_type": "code",
   "execution_count": 3,
   "metadata": {
    "collapsed": false
   },
   "outputs": [],
   "source": [
    "num_reviewers = np.shape(reviews)[0]\n",
    "num_movies = np.shape(reviews)[1]"
   ]
  },
  {
   "cell_type": "markdown",
   "metadata": {},
   "source": [
    "## Minor Pre-Processing"
   ]
  },
  {
   "cell_type": "markdown",
   "metadata": {},
   "source": [
    "There are a lot of reviewers that do not review many movies. Here, we set a minimum number of movies for a reviewer to be used in our classification. This number may change in later approaches where we combine review data from similar reviewers in the training set. "
   ]
  },
  {
   "cell_type": "code",
   "execution_count": 4,
   "metadata": {
    "collapsed": false
   },
   "outputs": [
    {
     "name": "stdout",
     "output_type": "stream",
     "text": [
      "This leads to 229 good reviewers.\n"
     ]
    }
   ],
   "source": [
    "min_num_reviews = 50 # do not include reviewers with < min_num_reviews reviews total\n",
    "count_reviews = np.sum(np.absolute(reviews),axis=1)\n",
    "good_reviewers = filter(lambda x: count_reviews[x] >= min_num_reviews, range(num_reviewers))\n",
    "print(\"This leads to %d good reviewers.\" % np.shape(good_reviewers)[0])\n",
    "\n",
    "### Use data structures below to make life easier ###\n",
    "num_good_reviewers = len(good_reviewers)\n",
    "good_reviews = reviews[good_reviewers,:]\n",
    "good_reviewer_to_gender = [reviewer_to_gender[x] for x in good_reviewers]"
   ]
  },
  {
   "cell_type": "code",
   "execution_count": 5,
   "metadata": {
    "collapsed": false
   },
   "outputs": [],
   "source": [
    "good_movies = []\n",
    "index = 0\n",
    "for i in review_to_movie:\n",
    "    good_movies.append(movies[int(i):int(i+1)].to_dict())\n",
    "    for key in good_movies[index]:\n",
    "        good_movies[index][key] = good_movies[index][key][i]\n",
    "    index+=1\n",
    "good_movies = pandas.DataFrame(good_movies)"
   ]
  },
  {
   "cell_type": "code",
   "execution_count": 6,
   "metadata": {
    "collapsed": false
   },
   "outputs": [],
   "source": [
    "binary_genders = [0]*len(good_reviewer_to_gender)\n",
    "for i in range(len(good_reviewer_to_gender)):\n",
    "    if (good_reviewer_to_gender[i]==\"m\"):\n",
    "        binary_genders[i] = 1\n",
    "    else:\n",
    "        binary_genders[i] = 0"
   ]
  },
  {
   "cell_type": "markdown",
   "metadata": {},
   "source": [
    "Here are all the important variables moving forward:\n",
    "* num_good_reviewers, num_movies (specify dimensions of good_reviews matrix)\n",
    "* good_reviews: reviewer by movie matrix (+1 is positive review, -1 is negative, 0 is no review)\n",
    "* good_movies: movies that we have reviews for (cols here correspond to rows in good_reviews)\n",
    "* good_reviewer_to_gender: reviewer idx to gender map"
   ]
  },
  {
   "cell_type": "markdown",
   "metadata": {},
   "source": [
    "## Generally Useful Functions"
   ]
  },
  {
   "cell_type": "code",
   "execution_count": 7,
   "metadata": {
    "collapsed": true
   },
   "outputs": [],
   "source": [
    "### Returns something of the form [x,...,x] where x can be any object\n",
    "def list_of_x(x, length):\n",
    "    lst = np.empty((length,), dtype=np.object_)\n",
    "    lst.fill(x)\n",
    "    return np.frompyfunc(list,1,1)(lst)\n",
    "\n",
    "def mean_matrix(v, n):\n",
    "    v = np.matrix(v)\n",
    "    mean = v.mean(axis=0)\n",
    "    return np.repeat(mean,n,axis=0)"
   ]
  },
  {
   "cell_type": "markdown",
   "metadata": {},
   "source": [
    "## Get Test/ Training Split"
   ]
  },
  {
   "cell_type": "markdown",
   "metadata": {},
   "source": [
    "For now, lets do a 50/50 split. This ends up with a data-structure such that train[i] represents the columns (movies) in reviews that correspond to the testing set. The 50/50 split is done such that for each reviewer, half of their reviews are training and half are test. "
   ]
  },
  {
   "cell_type": "code",
   "execution_count": 8,
   "metadata": {
    "collapsed": false
   },
   "outputs": [],
   "source": [
    "### Returns tuple with training and testing indices\n",
    "### train: list of length num_good_reviewers\n",
    "### train[i]: list of movie indices that are in training set for reviewer i\n",
    "### Similar format for test\n",
    "### Arguments: split - percentage of data going to train\n",
    "def get_train_test(split):  \n",
    "    train = list_of_x([],num_good_reviewers)\n",
    "    test = list_of_x([],num_good_reviewers)\n",
    "    for i in range(num_good_reviewers):\n",
    "        valid_ind = filter(lambda x: not good_reviews[i][x] == 0, range(num_movies))\n",
    "        train[i] = [valid_ind[j] for j in sorted(random.sample(xrange(len(valid_ind)), int(len(valid_ind)*split)))]\n",
    "        test[i] = filter(lambda x: x not in train[i] and x in valid_ind, range(num_movies))\n",
    "    return (train,test)\n",
    "(train,test) = get_train_test(0.5)"
   ]
  },
  {
   "cell_type": "markdown",
   "metadata": {},
   "source": [
    "## Functions to Deal with Movie Data"
   ]
  },
  {
   "cell_type": "code",
   "execution_count": null,
   "metadata": {
    "collapsed": true
   },
   "outputs": [],
   "source": []
  },
  {
   "cell_type": "markdown",
   "metadata": {},
   "source": [
    "## Useful Testing Functions"
   ]
  },
  {
   "cell_type": "code",
   "execution_count": 9,
   "metadata": {
    "collapsed": false
   },
   "outputs": [],
   "source": [
    "def get_confusion_matrix(pred, test):\n",
    "    m = {\"tp\": 0, \"tn\": 0, \"fp\": 0, \"fn\": 0}\n",
    "    for i in range(num_good_reviewers):\n",
    "        for j in range(len(pred[i])):\n",
    "            prediction = pred[i][j]\n",
    "            actual = good_reviews[i][test[i][j]]\n",
    "            if (prediction == actual):\n",
    "                if (prediction == 1):\n",
    "                    m[\"tp\"]+=1\n",
    "                else:\n",
    "                    m[\"tn\"]+=1\n",
    "            else:\n",
    "                if (prediction == 1):\n",
    "                    m[\"fp\"]+=1\n",
    "                else:\n",
    "                    m[\"fn\"]+=1\n",
    "    return m\n",
    "\n",
    "def get_confusion_matrix_gender(pred, test, gender):\n",
    "    m = {\"tp\": 0, \"tn\": 0, \"fp\": 0, \"fn\": 0}\n",
    "    for i in range(num_good_reviewers):\n",
    "        for j in range(len(pred[i])):\n",
    "            prediction = pred[i][j]\n",
    "            actual = good_reviews[i][test[i][j]]\n",
    "            if (prediction == actual and good_reviewer_to_gender[i] == gender):\n",
    "                if (prediction == 1):\n",
    "                    m[\"tp\"]+=1\n",
    "                else:\n",
    "                    m[\"tn\"]+=1\n",
    "            elif (good_reviewer_to_gender[i] == gender):\n",
    "                if (prediction == 1):\n",
    "                    m[\"fp\"]+=1\n",
    "                else:\n",
    "                    m[\"fn\"]+=1\n",
    "    return m"
   ]
  },
  {
   "cell_type": "code",
   "execution_count": 10,
   "metadata": {
    "collapsed": true
   },
   "outputs": [],
   "source": [
    "def get_error(pred, test):\n",
    "    conf_m = get_confusion_matrix(pred,test)\n",
    "    return 1-(conf_m[\"tp\"]+conf_m[\"tn\"])/float(conf_m[\"tp\"]+conf_m[\"tn\"]+conf_m[\"fp\"]+conf_m[\"fn\"])\n",
    "\n",
    "def get_error_gender(pred, test, gender):\n",
    "    conf_m = get_confusion_matrix_gender(pred,test,gender)\n",
    "    return 1-(conf_m[\"tp\"]+conf_m[\"tn\"])/float(conf_m[\"tp\"]+conf_m[\"tn\"]+conf_m[\"fp\"]+conf_m[\"fn\"])"
   ]
  },
  {
   "cell_type": "code",
   "execution_count": 11,
   "metadata": {
    "collapsed": true
   },
   "outputs": [],
   "source": [
    "def summarize_conf_m(pred,test):\n",
    "    conf_m = get_confusion_matrix(pred,test)\n",
    "    print(\"True Positive Rate: %0.2f\" % (conf_m[\"tp\"]/float(conf_m[\"tp\"]+conf_m[\"fn\"])))\n",
    "    print(\"True Negative Rate: %0.2f\" % (conf_m[\"tn\"]/float(conf_m[\"tn\"]+conf_m[\"fp\"])))\n",
    "\n",
    "def summarize_conf_m_gender(pred,test,gender):\n",
    "    conf_m = get_confusion_matrix_gender(pred,test,gender)\n",
    "    print(\"True Positive Rate: %0.2f\" % (conf_m[\"tp\"]/float(conf_m[\"tp\"]+conf_m[\"fn\"])))\n",
    "    print(\"True Negative Rate: %0.2f\" % (conf_m[\"tn\"]/float(conf_m[\"tn\"]+conf_m[\"fp\"])))"
   ]
  },
  {
   "cell_type": "code",
   "execution_count": 12,
   "metadata": {
    "collapsed": false
   },
   "outputs": [],
   "source": [
    "def plotErrorByPerson(pred, test, filename):\n",
    "    error = [0]*num_good_reviewers\n",
    "    count_reviews = [0]*num_good_reviewers\n",
    "    for i in range(num_good_reviewers):\n",
    "        for j in range(len(pred[i])):\n",
    "            if (not pred[i][j] == good_reviews[i][test[i][j]]):\n",
    "                error[i]+=1\n",
    "        error[i] = error[i]/float(len(pred[i]))\n",
    "        count_reviews[i] = len(pred[i])\n",
    "    count_reviews = np.argsort(count_reviews, axis=None)[::-1]\n",
    "    errors_sorted = [0]*num_good_reviewers\n",
    "    colors = [\"r\"]*num_good_reviewers\n",
    "    for i in range(num_good_reviewers):\n",
    "        errors_sorted[i] = error[count_reviews[i]]\n",
    "        if (good_reviewer_to_gender[count_reviews[i]] == \"m\"):\n",
    "            colors[i] = \"b\"\n",
    "    plt.bar(range(num_good_reviewers), errors_sorted,color=colors)\n",
    "    plt.xmin = 0\n",
    "    plt.ylabel('Error Rate')\n",
    "    plt.xlabel('High # Reviews to Low # Reviews')\n",
    "    plt.title('Error Per Person (Female/Male Split)')\n",
    "    pylab.savefig(filename+'.png')\n",
    "    plt.show()"
   ]
  },
  {
   "cell_type": "markdown",
   "metadata": {},
   "source": [
    "# Baseline Approach"
   ]
  },
  {
   "cell_type": "markdown",
   "metadata": {},
   "source": [
    "* Set all testing to label of most common training label (does not use movies)"
   ]
  },
  {
   "cell_type": "code",
   "execution_count": 13,
   "metadata": {
    "collapsed": false
   },
   "outputs": [
    {
     "name": "stdout",
     "output_type": "stream",
     "text": [
      "{'tn': 2167, 'fp': 3909, 'fn': 1892, 'tp': 6264}\n",
      "{'tn': 903, 'fp': 1539, 'fn': 752, 'tp': 2434}\n",
      "{'tn': 1264, 'fp': 2370, 'fn': 1140, 'tp': 3830}\n",
      "Error: 0.41\n",
      "Female Error: 0.41\n",
      "Male Error: 0.41\n",
      "General Summary:\n",
      "True Positive Rate: 0.77\n",
      "True Negative Rate: 0.36\n",
      "Male Summary:\n",
      "True Positive Rate: 0.76\n",
      "True Negative Rate: 0.37\n",
      "Female Summary:\n",
      "True Positive Rate: 0.77\n",
      "True Negative Rate: 0.35\n"
     ]
    },
    {
     "data": {
      "image/png": "[encoded data removed]",
      "text/plain": [
       "<matplotlib.figure.Figure at 0x10fdb4850>"
      ]
     },
     "metadata": {},
     "output_type": "display_data"
    }
   ],
   "source": [
    "pred = list_of_x([],num_good_reviewers)\n",
    "for i in range(num_good_reviewers):\n",
    "    pred[i] = np.ones(len(test[i]))\n",
    "    if (Counter(good_reviews[i][train[i]]).most_common(1)[0][0] == -1):\n",
    "        pred[i] = -1*pred[i]\n",
    "print(get_confusion_matrix(pred,test))\n",
    "print(get_confusion_matrix_gender(pred,test,\"m\"))\n",
    "print(get_confusion_matrix_gender(pred,test,\"f\"))\n",
    "print(\"Error: %0.2f\" % get_error(pred,test))\n",
    "print(\"Female Error: %0.2f\" % get_error_gender(pred,test, \"f\"))\n",
    "print(\"Male Error: %0.2f\" % get_error_gender(pred,test, \"m\"))\n",
    "print(\"General Summary:\")\n",
    "summarize_conf_m(pred,test)\n",
    "print(\"Male Summary:\")\n",
    "summarize_conf_m_gender(pred,test,\"m\")\n",
    "print(\"Female Summary:\")\n",
    "summarize_conf_m_gender(pred,test,\"f\")\n",
    "plotErrorByPerson(pred,test,\"baseline\")"
   ]
  },
  {
   "cell_type": "markdown",
   "metadata": {},
   "source": [
    "# Lowering Dimension of IMDB Matrix"
   ]
  },
  {
   "cell_type": "code",
   "execution_count": 14,
   "metadata": {
    "collapsed": true
   },
   "outputs": [],
   "source": [
    "rel_features = [\"num_critic_for_reviews\", \"duration\", \"director_facebook_likes\", \n",
    "                \"budget\", \"gross\" , \"cast_total_facebook_likes\", \"title_year\",\n",
    "               \"action\", \"adventure\", \"fantasy\", \"sci_fi\", \"thriller\", \"romance\",\n",
    "               \"animation\", \"comedy\", \"family\", \"musical\", \"mystery\", \"western\",\n",
    "               \"drama\", \"history\", \"sport\", \"crime\", \"horror\", \"war\", \"biography\",\n",
    "               \"music\", \"documentary\", \"aspect_ratio\", \"pg_13\", \"pg\", \"g\", \"r\",\n",
    "                \"nc_17\", \"not_rated\",\"unrated\"]\n",
    "X = np.zeros((num_movies, len(rel_features)))\n",
    "for i in range(num_movies):\n",
    "    for j in range(len(rel_features)):\n",
    "        X[i,j] = good_movies.iloc[i][rel_features[j]]"
   ]
  },
  {
   "cell_type": "code",
   "execution_count": 15,
   "metadata": {
    "collapsed": false
   },
   "outputs": [],
   "source": [
    "# Normalizing matrix for PCA\n",
    "X = normalize(X, norm='l2', axis=0)"
   ]
  },
  {
   "cell_type": "code",
   "execution_count": 16,
   "metadata": {
    "collapsed": false
   },
   "outputs": [
    {
     "name": "stdout",
     "output_type": "stream",
     "text": [
      "We are retaining 0.75% of the Variance in X\n"
     ]
    },
    {
     "data": {
      "image/png": "[encoded data removed]",
      "text/plain": [
       "<matplotlib.figure.Figure at 0x10fdb3f90>"
      ]
     },
     "metadata": {},
     "output_type": "display_data"
    }
   ],
   "source": [
    "pca = PCA(n_components=len(rel_features))\n",
    "pca.fit(X)\n",
    "plt.plot(pca.explained_variance_ratio_)\n",
    "plt.xlabel(\"Dimension\")\n",
    "plt.ylabel(\"Percent Variance Explained\")\n",
    "plt.title(\"Variance Explained Chart (PCA)\")\n",
    "pylab.savefig(\"pca_imdb.png\")\n",
    "n_c=15\n",
    "pca = PCA(n_components=n_c)\n",
    "pca.fit(X)\n",
    "X_pca = pca.transform(X)\n",
    "np.shape(pca.transform(X))\n",
    "print(\"We are retaining %0.2f%% of the Variance in X\" % sum(pca.explained_variance_ratio_[0:n_c]))"
   ]
  },
  {
   "cell_type": "markdown",
   "metadata": {},
   "source": [
    "# Classification Row by Row"
   ]
  },
  {
   "cell_type": "markdown",
   "metadata": {},
   "source": [
    "## Cluster Movies, Group Based on Most Common Label of Movies in that Cluster"
   ]
  },
  {
   "cell_type": "markdown",
   "metadata": {},
   "source": [
    "### Clustering Movies"
   ]
  },
  {
   "cell_type": "code",
   "execution_count": 17,
   "metadata": {
    "collapsed": false
   },
   "outputs": [],
   "source": [
    "# to cluster movies we need to standardize\n",
    "X_std = (X_pca - np.mean(X_pca, axis=0)) / np.std(X_pca, axis=0)"
   ]
  },
  {
   "cell_type": "code",
   "execution_count": 18,
   "metadata": {
    "collapsed": true
   },
   "outputs": [],
   "source": [
    "k = 50\n",
    "kmeans = KMeans(n_clusters=k, random_state=0).fit(X_std)\n",
    "movie_labels = kmeans.labels_"
   ]
  },
  {
   "cell_type": "markdown",
   "metadata": {},
   "source": [
    "### Lets Test It"
   ]
  },
  {
   "cell_type": "code",
   "execution_count": 19,
   "metadata": {
    "collapsed": false
   },
   "outputs": [
    {
     "name": "stdout",
     "output_type": "stream",
     "text": [
      "{'tn': 3715, 'fp': 2361, 'fn': 4287, 'tp': 3869}\n",
      "{'tn': 1633, 'fp': 809, 'fn': 1974, 'tp': 1212}\n",
      "{'tn': 2082, 'fp': 1552, 'fn': 2313, 'tp': 2657}\n",
      "Error: 0.47\n",
      "Female Error: 0.45\n",
      "Male Error: 0.49\n",
      "General Summary:\n",
      "True Positive Rate: 0.47\n",
      "True Negative Rate: 0.61\n",
      "Male Summary:\n",
      "True Positive Rate: 0.38\n",
      "True Negative Rate: 0.67\n",
      "Female Summary:\n",
      "True Positive Rate: 0.53\n",
      "True Negative Rate: 0.57\n"
     ]
    },
    {
     "data": {
      "image/png": "[encoded data removed]",
      "text/plain": [
       "<matplotlib.figure.Figure at 0x10fdb1f10>"
      ]
     },
     "metadata": {},
     "output_type": "display_data"
    }
   ],
   "source": [
    "pred = list_of_x([],num_good_reviewers)\n",
    "for i in range(num_good_reviewers):\n",
    "    pred[i] = np.ones(len(test[i]))\n",
    "    k_labels = np.zeros(k)\n",
    "    for j in range(num_movies):\n",
    "        if (j in train[i]):\n",
    "            k_labels[movie_labels[j]]+=good_reviews[i][j]\n",
    "    for j in range(len(test[i])):\n",
    "        if (k_labels[movie_labels[test[i][j]]] > 0):\n",
    "            pred[i][j]=1\n",
    "        else:\n",
    "            pred[i][j]=-1\n",
    "print(get_confusion_matrix(pred,test))\n",
    "print(get_confusion_matrix_gender(pred,test,\"m\"))\n",
    "print(get_confusion_matrix_gender(pred,test,\"f\"))\n",
    "print(\"Error: %0.2f\" % get_error(pred,test))\n",
    "print(\"Female Error: %0.2f\" % get_error_gender(pred,test, \"f\"))\n",
    "print(\"Male Error: %0.2f\" % get_error_gender(pred,test, \"m\"))\n",
    "print(\"General Summary:\")\n",
    "summarize_conf_m(pred,test)\n",
    "print(\"Male Summary:\")\n",
    "summarize_conf_m_gender(pred,test,\"m\")\n",
    "print(\"Female Summary:\")\n",
    "summarize_conf_m_gender(pred,test,\"f\")\n",
    "plotErrorByPerson(pred,test,\"kmeans1\")"
   ]
  },
  {
   "cell_type": "markdown",
   "metadata": {},
   "source": [
    "## Logistic Regression"
   ]
  },
  {
   "cell_type": "code",
   "execution_count": 20,
   "metadata": {
    "collapsed": false
   },
   "outputs": [
    {
     "ename": "ValueError",
     "evalue": "This solver needs samples of at least 2 classes in the data, but the data contains only one class: 1.0",
     "output_type": "error",
     "traceback": [
      "\u001b[0;31m---------------------------------------------------------------------------\u001b[0m",
      "\u001b[0;31mValueError\u001b[0m                                Traceback (most recent call last)",
      "\u001b[0;32m<ipython-input-20-710a0a35c80f>\u001b[0m in \u001b[0;36m<module>\u001b[0;34m()\u001b[0m\n\u001b[1;32m      6\u001b[0m     \u001b[0mY_train\u001b[0m \u001b[0;34m=\u001b[0m \u001b[0mgood_reviews\u001b[0m\u001b[0;34m[\u001b[0m\u001b[0mi\u001b[0m\u001b[0;34m]\u001b[0m\u001b[0;34m[\u001b[0m\u001b[0mtrain\u001b[0m\u001b[0;34m[\u001b[0m\u001b[0mi\u001b[0m\u001b[0;34m]\u001b[0m\u001b[0;34m]\u001b[0m\u001b[0;34m\u001b[0m\u001b[0m\n\u001b[1;32m      7\u001b[0m     \u001b[0mlogistic\u001b[0m \u001b[0;34m=\u001b[0m \u001b[0mLogisticRegression\u001b[0m\u001b[0;34m(\u001b[0m\u001b[0;34m)\u001b[0m\u001b[0;34m\u001b[0m\u001b[0m\n\u001b[0;32m----> 8\u001b[0;31m     \u001b[0mlogistic\u001b[0m\u001b[0;34m.\u001b[0m\u001b[0mfit\u001b[0m\u001b[0;34m(\u001b[0m\u001b[0mX_train\u001b[0m\u001b[0;34m,\u001b[0m \u001b[0mY_train\u001b[0m\u001b[0;34m)\u001b[0m\u001b[0;34m\u001b[0m\u001b[0m\n\u001b[0m\u001b[1;32m      9\u001b[0m     \u001b[0mpred\u001b[0m\u001b[0;34m[\u001b[0m\u001b[0mi\u001b[0m\u001b[0;34m]\u001b[0m \u001b[0;34m=\u001b[0m \u001b[0mlogistic\u001b[0m\u001b[0;34m.\u001b[0m\u001b[0mpredict\u001b[0m\u001b[0;34m(\u001b[0m\u001b[0mX_pca\u001b[0m\u001b[0;34m[\u001b[0m\u001b[0mtest\u001b[0m\u001b[0;34m[\u001b[0m\u001b[0mi\u001b[0m\u001b[0;34m]\u001b[0m\u001b[0;34m,\u001b[0m\u001b[0;34m:\u001b[0m\u001b[0;34m]\u001b[0m\u001b[0;34m)\u001b[0m\u001b[0;34m\u001b[0m\u001b[0m\n\u001b[1;32m     10\u001b[0m     \u001b[0;31m#scores, pvalues = chi2(X_train,Y_train)\u001b[0m\u001b[0;34m\u001b[0m\u001b[0;34m\u001b[0m\u001b[0m\n",
      "\u001b[0;32m/Users/abigailshchur/anaconda/lib/python2.7/site-packages/sklearn/linear_model/logistic.pyc\u001b[0m in \u001b[0;36mfit\u001b[0;34m(self, X, y, sample_weight)\u001b[0m\n\u001b[1;32m   1152\u001b[0m                 \u001b[0mX\u001b[0m\u001b[0;34m,\u001b[0m \u001b[0my\u001b[0m\u001b[0;34m,\u001b[0m \u001b[0mself\u001b[0m\u001b[0;34m.\u001b[0m\u001b[0mC\u001b[0m\u001b[0;34m,\u001b[0m \u001b[0mself\u001b[0m\u001b[0;34m.\u001b[0m\u001b[0mfit_intercept\u001b[0m\u001b[0;34m,\u001b[0m \u001b[0mself\u001b[0m\u001b[0;34m.\u001b[0m\u001b[0mintercept_scaling\u001b[0m\u001b[0;34m,\u001b[0m\u001b[0;34m\u001b[0m\u001b[0m\n\u001b[1;32m   1153\u001b[0m                 \u001b[0mself\u001b[0m\u001b[0;34m.\u001b[0m\u001b[0mclass_weight\u001b[0m\u001b[0;34m,\u001b[0m \u001b[0mself\u001b[0m\u001b[0;34m.\u001b[0m\u001b[0mpenalty\u001b[0m\u001b[0;34m,\u001b[0m \u001b[0mself\u001b[0m\u001b[0;34m.\u001b[0m\u001b[0mdual\u001b[0m\u001b[0;34m,\u001b[0m \u001b[0mself\u001b[0m\u001b[0;34m.\u001b[0m\u001b[0mverbose\u001b[0m\u001b[0;34m,\u001b[0m\u001b[0;34m\u001b[0m\u001b[0m\n\u001b[0;32m-> 1154\u001b[0;31m                 self.max_iter, self.tol, self.random_state)\n\u001b[0m\u001b[1;32m   1155\u001b[0m             \u001b[0mself\u001b[0m\u001b[0;34m.\u001b[0m\u001b[0mn_iter_\u001b[0m \u001b[0;34m=\u001b[0m \u001b[0mnp\u001b[0m\u001b[0;34m.\u001b[0m\u001b[0marray\u001b[0m\u001b[0;34m(\u001b[0m\u001b[0;34m[\u001b[0m\u001b[0mn_iter_\u001b[0m\u001b[0;34m]\u001b[0m\u001b[0;34m)\u001b[0m\u001b[0;34m\u001b[0m\u001b[0m\n\u001b[1;32m   1156\u001b[0m             \u001b[0;32mreturn\u001b[0m \u001b[0mself\u001b[0m\u001b[0;34m\u001b[0m\u001b[0m\n",
      "\u001b[0;32m/Users/abigailshchur/anaconda/lib/python2.7/site-packages/sklearn/svm/base.pyc\u001b[0m in \u001b[0;36m_fit_liblinear\u001b[0;34m(X, y, C, fit_intercept, intercept_scaling, class_weight, penalty, dual, verbose, max_iter, tol, random_state, multi_class, loss, epsilon)\u001b[0m\n\u001b[1;32m    883\u001b[0m             raise ValueError(\"This solver needs samples of at least 2 classes\"\n\u001b[1;32m    884\u001b[0m                              \u001b[0;34m\" in the data, but the data contains only one\"\u001b[0m\u001b[0;34m\u001b[0m\u001b[0m\n\u001b[0;32m--> 885\u001b[0;31m                              \" class: %r\" % classes_[0])\n\u001b[0m\u001b[1;32m    886\u001b[0m \u001b[0;34m\u001b[0m\u001b[0m\n\u001b[1;32m    887\u001b[0m         \u001b[0mclass_weight_\u001b[0m \u001b[0;34m=\u001b[0m \u001b[0mcompute_class_weight\u001b[0m\u001b[0;34m(\u001b[0m\u001b[0mclass_weight\u001b[0m\u001b[0;34m,\u001b[0m \u001b[0mclasses_\u001b[0m\u001b[0;34m,\u001b[0m \u001b[0my\u001b[0m\u001b[0;34m)\u001b[0m\u001b[0;34m\u001b[0m\u001b[0m\n",
      "\u001b[0;31mValueError\u001b[0m: This solver needs samples of at least 2 classes in the data, but the data contains only one class: 1.0"
     ]
    }
   ],
   "source": [
    "pred = list_of_x([],num_good_reviewers)\n",
    "for i in range(num_good_reviewers):\n",
    "    pred[i] = np.ones(len(test[i]))\n",
    "    # train Logistic Regression\n",
    "    X_train = X_pca[train[i],:]\n",
    "    Y_train = good_reviews[i][train[i]]\n",
    "    logistic = LogisticRegression()\n",
    "    logistic.fit(X_train, Y_train)\n",
    "    pred[i] = logistic.predict(X_pca[test[i],:])\n",
    "    #scores, pvalues = chi2(X_train,Y_train)\n",
    "#print pvalues\n",
    "#X2 = sm.add_constant(X_train)\n",
    "#est = sm.OLS(Y_train, X2)\n",
    "#est2 = est.fit()\n",
    "#print(est2.summary())\n",
    "print(get_confusion_matrix(pred,test))\n",
    "print(get_confusion_matrix_gender(pred,test,\"m\"))\n",
    "print(get_confusion_matrix_gender(pred,test,\"f\"))\n",
    "print(\"Error: %0.2f\" % get_error(pred,test))\n",
    "print(\"Female Error: %0.2f\" % get_error_gender(pred,test, \"f\"))\n",
    "print(\"Male Error: %0.2f\" % get_error_gender(pred,test, \"m\"))\n",
    "print(\"General Summary:\")\n",
    "summarize_conf_m(pred,test)\n",
    "print(\"Male Summary:\")\n",
    "summarize_conf_m_gender(pred,test,\"m\")\n",
    "print(\"Female Summary:\")\n",
    "summarize_conf_m_gender(pred,test,\"f\")\n",
    "plotErrorByPerson(pred,test,\"logistic1\")"
   ]
  },
  {
   "cell_type": "markdown",
   "metadata": {},
   "source": [
    "## Random Forests and Trees"
   ]
  },
  {
   "cell_type": "code",
   "execution_count": 21,
   "metadata": {
    "collapsed": false
   },
   "outputs": [
    {
     "name": "stdout",
     "output_type": "stream",
     "text": [
      "{'tn': 2881, 'fp': 3195, 'fn': 3301, 'tp': 4855}\n",
      "{'tn': 1169, 'fp': 1273, 'fn': 1339, 'tp': 1847}\n",
      "{'tn': 1712, 'fp': 1922, 'fn': 1962, 'tp': 3008}\n",
      "Error: 0.46\n",
      "Female Error: 0.45\n",
      "Male Error: 0.46\n",
      "General Summary:\n",
      "True Positive Rate: 0.60\n",
      "True Negative Rate: 0.47\n",
      "Male Summary:\n",
      "True Positive Rate: 0.58\n",
      "True Negative Rate: 0.48\n",
      "Female Summary:\n",
      "True Positive Rate: 0.61\n",
      "True Negative Rate: 0.47\n"
     ]
    },
    {
     "data": {
      "image/png": "[encoded data removed]",
      "text/plain": [
       "<matplotlib.figure.Figure at 0x116a64d90>"
      ]
     },
     "metadata": {},
     "output_type": "display_data"
    }
   ],
   "source": [
    "# trees\n",
    "\n",
    "pred = list_of_x([],num_good_reviewers)\n",
    "for i in range(num_good_reviewers):\n",
    "    pred[i] = np.ones(len(test[i]))\n",
    "    X_train = X_pca[train[i],:]\n",
    "    Y_train = good_reviews[i][train[i]]\n",
    "    clf = tree.DecisionTreeClassifier(random_state=0)\n",
    "    clf.fit(X_train, Y_train)\n",
    "    pred[i] = clf.predict(X_pca[test[i],:])\n",
    "print(get_confusion_matrix(pred,test))\n",
    "print(get_confusion_matrix_gender(pred,test,\"m\"))\n",
    "print(get_confusion_matrix_gender(pred,test,\"f\"))\n",
    "print(\"Error: %0.2f\" % get_error(pred,test))\n",
    "print(\"Female Error: %0.2f\" % get_error_gender(pred,test, \"f\"))\n",
    "print(\"Male Error: %0.2f\" % get_error_gender(pred,test, \"m\"))\n",
    "print(\"General Summary:\")\n",
    "summarize_conf_m(pred,test)\n",
    "print(\"Male Summary:\")\n",
    "summarize_conf_m_gender(pred,test,\"m\")\n",
    "print(\"Female Summary:\")\n",
    "summarize_conf_m_gender(pred,test,\"f\")\n",
    "plotErrorByPerson(pred,test,\"logistic1\")"
   ]
  },
  {
   "cell_type": "code",
   "execution_count": 22,
   "metadata": {
    "collapsed": false
   },
   "outputs": [
    {
     "name": "stdout",
     "output_type": "stream",
     "text": [
      "{'tn': 3196, 'fp': 2880, 'fn': 3371, 'tp': 4785}\n",
      "{'tn': 1314, 'fp': 1128, 'fn': 1427, 'tp': 1759}\n",
      "{'tn': 1882, 'fp': 1752, 'fn': 1944, 'tp': 3026}\n",
      "Error: 0.44\n",
      "Female Error: 0.43\n",
      "Male Error: 0.45\n",
      "General Summary:\n",
      "True Positive Rate: 0.59\n",
      "True Negative Rate: 0.53\n",
      "Male Summary:\n",
      "True Positive Rate: 0.55\n",
      "True Negative Rate: 0.54\n",
      "Female Summary:\n",
      "True Positive Rate: 0.61\n",
      "True Negative Rate: 0.52\n"
     ]
    },
    {
     "data": {
      "image/png": "[encoded data removed]",
      "text/plain": [
       "<matplotlib.figure.Figure at 0x116b16510>"
      ]
     },
     "metadata": {},
     "output_type": "display_data"
    }
   ],
   "source": [
    "# random forest\n",
    "pred = list_of_x([],num_good_reviewers)\n",
    "for i in range(num_good_reviewers):\n",
    "    pred[i] = np.ones(len(test[i]))\n",
    "    X_train = X_pca[train[i],:]\n",
    "    Y_train = good_reviews[i][train[i]]\n",
    "    rf = RandomForestClassifier(random_state=0)\n",
    "    rf.fit(X_train, Y_train)\n",
    "    pred[i] = rf.predict(X_pca[test[i],:])\n",
    "print(get_confusion_matrix(pred,test))\n",
    "print(get_confusion_matrix_gender(pred,test,\"m\"))\n",
    "print(get_confusion_matrix_gender(pred,test,\"f\"))\n",
    "print(\"Error: %0.2f\" % get_error(pred,test))\n",
    "print(\"Female Error: %0.2f\" % get_error_gender(pred,test, \"f\"))\n",
    "print(\"Male Error: %0.2f\" % get_error_gender(pred,test, \"m\"))\n",
    "print(\"General Summary:\")\n",
    "summarize_conf_m(pred,test)\n",
    "print(\"Male Summary:\")\n",
    "summarize_conf_m_gender(pred,test,\"m\")\n",
    "print(\"Female Summary:\")\n",
    "summarize_conf_m_gender(pred,test,\"f\")\n",
    "plotErrorByPerson(pred,test,\"logistic1\")"
   ]
  },
  {
   "cell_type": "markdown",
   "metadata": {},
   "source": [
    "# Changing Reviews by Clustering Reviewers"
   ]
  },
  {
   "cell_type": "markdown",
   "metadata": {
    "collapsed": true
   },
   "source": [
    "### Spectral Clustering for Reviewers"
   ]
  },
  {
   "cell_type": "code",
   "execution_count": 23,
   "metadata": {
    "collapsed": true
   },
   "outputs": [],
   "source": [
    "def fit_kmeans(samples, num_components):\n",
    "    k_means = KMeans(n_clusters=num_components)\n",
    "    preds = k_means.fit_predict(samples)\n",
    "    plt.figure(num=None, figsize=(15, 8), dpi=80, facecolor='w', edgecolor='k')\n",
    "    color1 = 'g'\n",
    "    color2 = 'y'\n",
    "    ax = plt.gca()\n",
    "    color_dict = {idx:col for idx, col in enumerate(cm.rainbow(np.linspace(0, 1, num_components)))}\n",
    "    colors = [color_dict[i] for i in preds]\n",
    "    ax.scatter(samples[:,0], samples[:,1], \n",
    "               c=colors, alpha=0.8)\n",
    "    return preds, color_dict"
   ]
  },
  {
   "cell_type": "code",
   "execution_count": 24,
   "metadata": {
    "collapsed": false
   },
   "outputs": [],
   "source": [
    "A = np.zeros((num_good_reviewers, num_good_reviewers))\n",
    "t = 5 # subject to change (-> |num_common_reviews - num_diff_reviews|)\n",
    "for i in range(num_good_reviewers):\n",
    "    for j in range(num_good_reviewers):\n",
    "        dot = np.dot(good_reviews[i,:], good_reviews[j,:])\n",
    "        if (dot >= 0):\n",
    "            A[i,j] = dot\n",
    "        else:\n",
    "            A[i,j] = 0"
   ]
  },
  {
   "cell_type": "code",
   "execution_count": 25,
   "metadata": {
    "collapsed": false
   },
   "outputs": [
    {
     "data": {
      "image/png": "[encoded data removed]",
      "text/plain": [
       "<matplotlib.figure.Figure at 0x116c75b10>"
      ]
     },
     "metadata": {},
     "output_type": "display_data"
    }
   ],
   "source": [
    "L_normed = csgraph.laplacian(A, normed=True)\n",
    "eigenvalues_norm, eigenvectors_norm = np.linalg.eigh(L_normed)\n",
    "plt.title(\"NormA\")\n",
    "plt.xlabel(\"Dimension\")\n",
    "plt.ylabel(\"Eigen-Value\")\n",
    "plt.plot(eigenvalues_norm)\n",
    "plt.show()"
   ]
  },
  {
   "cell_type": "code",
   "execution_count": 26,
   "metadata": {
    "collapsed": false
   },
   "outputs": [
    {
     "data": {
      "image/png": "[encoded data removed]",
      "text/plain": [
       "<matplotlib.figure.Figure at 0x116bfe790>"
      ]
     },
     "metadata": {},
     "output_type": "display_data"
    }
   ],
   "source": [
    "dim = num_good_reviewers\n",
    "k = 5\n",
    "preds_kmeans, colors_kmeans = fit_kmeans(eigenvectors_norm[:,0:dim],30)"
   ]
  },
  {
   "cell_type": "markdown",
   "metadata": {
    "collapsed": true
   },
   "source": [
    "### Modify Reviews so that each person also has reviews of other points in cluster"
   ]
  },
  {
   "cell_type": "markdown",
   "metadata": {},
   "source": [
    "* Creating matrix called good_reviews2\n",
    "* Training will be done on good_reviews2\n",
    "* good_reviews2 does not contain any testing data\n",
    "* Instead, zero and testing data points are replaced by the most common score among other people in cluster\n",
    "* All testing is done on the actual review matrix"
   ]
  },
  {
   "cell_type": "code",
   "execution_count": 27,
   "metadata": {
    "collapsed": false
   },
   "outputs": [],
   "source": [
    "good_reviews2 = np.zeros((num_good_reviewers, num_movies))\n",
    "count_additions = 0\n",
    "for i in range(num_good_reviewers):\n",
    "    for j in range(len(test[i])):\n",
    "        if (j in train[i]):\n",
    "            # non zero entry at j and it is part of training set\n",
    "            good_reviews2[i,j] = good_reviews[i,j]\n",
    "        else:\n",
    "            # either 0 entry or in testing set\n",
    "            cluster = preds_kmeans[i]\n",
    "            label_lst = []\n",
    "            for k in range(num_good_reviewers):\n",
    "                if (preds_kmeans[k]==cluster and (not k==i)):\n",
    "                    # same cluster \n",
    "                    for l in train[k]:\n",
    "                        label_lst.append(good_reviews[k,l])\n",
    "            if len(label_lst)>0:\n",
    "                good_reviews2[i,j] = Counter(label_lst).most_common(1)[0][0]\n",
    "                count_additions+=1"
   ]
  },
  {
   "cell_type": "code",
   "execution_count": 28,
   "metadata": {
    "collapsed": false
   },
   "outputs": [
    {
     "data": {
      "text/plain": [
       "11491"
      ]
     },
     "execution_count": 28,
     "metadata": {},
     "output_type": "execute_result"
    }
   ],
   "source": [
    "count_additions"
   ]
  },
  {
   "cell_type": "code",
   "execution_count": 29,
   "metadata": {
    "collapsed": true
   },
   "outputs": [],
   "source": [
    "## train is a little different now\n",
    "train2 = list_of_x([],num_good_reviewers)\n",
    "for i in range(num_good_reviewers):\n",
    "    for j in range(num_movies):\n",
    "        if j in train[i]:\n",
    "            train2[i].append(j)\n",
    "        elif j not in train[i] and (not good_reviews2[i,j]==0):\n",
    "            train2[i].append(j)"
   ]
  },
  {
   "cell_type": "markdown",
   "metadata": {},
   "source": [
    "### Try Baseline 2.0"
   ]
  },
  {
   "cell_type": "code",
   "execution_count": 30,
   "metadata": {
    "collapsed": false
   },
   "outputs": [
    {
     "name": "stdout",
     "output_type": "stream",
     "text": [
      "{'tn': 105, 'fp': 5971, 'fn': 112, 'tp': 8044}\n",
      "{'tn': 15, 'fp': 2427, 'fn': 12, 'tp': 3174}\n",
      "{'tn': 90, 'fp': 3544, 'fn': 100, 'tp': 4870}\n",
      "Error: 0.43\n",
      "Female Error: 0.42\n",
      "Male Error: 0.43\n",
      "General Summary:\n",
      "True Positive Rate: 0.99\n",
      "True Negative Rate: 0.02\n",
      "Male Summary:\n",
      "True Positive Rate: 1.00\n",
      "True Negative Rate: 0.01\n",
      "Female Summary:\n",
      "True Positive Rate: 0.98\n",
      "True Negative Rate: 0.02\n"
     ]
    },
    {
     "data": {
      "image/png": "[encoded data removed]",
      "text/plain": [
       "<matplotlib.figure.Figure at 0x112c97c90>"
      ]
     },
     "metadata": {},
     "output_type": "display_data"
    }
   ],
   "source": [
    "pred = list_of_x([],num_good_reviewers)\n",
    "for i in range(num_good_reviewers):\n",
    "    pred[i] = np.ones(len(test[i]))\n",
    "    if (Counter(good_reviews2[i][train2[i]]).most_common(1)[0][0] == -1):\n",
    "        pred[i] = -1*pred[i]\n",
    "print(get_confusion_matrix(pred,test))\n",
    "print(get_confusion_matrix_gender(pred,test,\"m\"))\n",
    "print(get_confusion_matrix_gender(pred,test,\"f\"))\n",
    "print(\"Error: %0.2f\" % get_error(pred,test))\n",
    "print(\"Female Error: %0.2f\" % get_error_gender(pred,test, \"f\"))\n",
    "print(\"Male Error: %0.2f\" % get_error_gender(pred,test, \"m\"))\n",
    "print(\"General Summary:\")\n",
    "summarize_conf_m(pred,test)\n",
    "print(\"Male Summary:\")\n",
    "summarize_conf_m_gender(pred,test,\"m\")\n",
    "print(\"Female Summary:\")\n",
    "summarize_conf_m_gender(pred,test,\"f\")\n",
    "plotErrorByPerson(pred,test,\"baseline\")"
   ]
  },
  {
   "cell_type": "markdown",
   "metadata": {},
   "source": [
    "### Try Clustering again"
   ]
  },
  {
   "cell_type": "code",
   "execution_count": 31,
   "metadata": {
    "collapsed": true
   },
   "outputs": [],
   "source": [
    "k = 50\n",
    "kmeans = KMeans(n_clusters=k, random_state=0).fit(X_std)\n",
    "movie_labels = kmeans.labels_"
   ]
  },
  {
   "cell_type": "code",
   "execution_count": 32,
   "metadata": {
    "collapsed": false
   },
   "outputs": [
    {
     "name": "stdout",
     "output_type": "stream",
     "text": [
      "{'tn': 1663, 'fp': 4413, 'fn': 2094, 'tp': 6062}\n",
      "{'tn': 794, 'fp': 1648, 'fn': 1072, 'tp': 2114}\n",
      "{'tn': 869, 'fp': 2765, 'fn': 1022, 'tp': 3948}\n",
      "Error: 0.46\n",
      "Female Error: 0.44\n",
      "Male Error: 0.48\n",
      "General Summary:\n",
      "True Positive Rate: 0.74\n",
      "True Negative Rate: 0.27\n",
      "Male Summary:\n",
      "True Positive Rate: 0.66\n",
      "True Negative Rate: 0.33\n",
      "Female Summary:\n",
      "True Positive Rate: 0.79\n",
      "True Negative Rate: 0.24\n"
     ]
    },
    {
     "data": {
      "image/png": "[encoded data removed]",
      "text/plain": [
       "<matplotlib.figure.Figure at 0x10fce1810>"
      ]
     },
     "metadata": {},
     "output_type": "display_data"
    }
   ],
   "source": [
    "pred = list_of_x([],num_good_reviewers)\n",
    "for i in range(num_good_reviewers):\n",
    "    pred[i] = np.ones(len(test[i]))\n",
    "    k_labels = np.zeros(k)\n",
    "    for j in range(num_movies):\n",
    "        if (j in train2[i]):\n",
    "            k_labels[movie_labels[j]]+=good_reviews2[i][j]\n",
    "    for j in range(len(test[i])):\n",
    "        if (k_labels[movie_labels[test[i][j]]] > 0):\n",
    "            pred[i][j]=1\n",
    "        else:\n",
    "            pred[i][j]=-1\n",
    "print(get_confusion_matrix(pred,test))\n",
    "print(get_confusion_matrix_gender(pred,test,\"m\"))\n",
    "print(get_confusion_matrix_gender(pred,test,\"f\"))\n",
    "print(\"Error: %0.2f\" % get_error(pred,test))\n",
    "print(\"Female Error: %0.2f\" % get_error_gender(pred,test, \"f\"))\n",
    "print(\"Male Error: %0.2f\" % get_error_gender(pred,test, \"m\"))\n",
    "print(\"General Summary:\")\n",
    "summarize_conf_m(pred,test)\n",
    "print(\"Male Summary:\")\n",
    "summarize_conf_m_gender(pred,test,\"m\")\n",
    "print(\"Female Summary:\")\n",
    "summarize_conf_m_gender(pred,test,\"f\")\n",
    "plotErrorByPerson(pred,test,\"kmeans1\")"
   ]
  },
  {
   "cell_type": "markdown",
   "metadata": {},
   "source": [
    "### Try Logistic Reg Aggain"
   ]
  },
  {
   "cell_type": "code",
   "execution_count": 33,
   "metadata": {
    "collapsed": false
   },
   "outputs": [
    {
     "name": "stdout",
     "output_type": "stream",
     "text": [
      "{'tn': 118, 'fp': 4976, 'fn': 2268, 'tp': 6870}\n",
      "{'tn': 26, 'fp': 2041, 'fn': 862, 'tp': 2699}\n",
      "{'tn': 92, 'fp': 2935, 'fn': 1406, 'tp': 4171}\n",
      "Error: 0.51\n",
      "Female Error: 0.50\n",
      "Male Error: 0.52\n",
      "General Summary:\n",
      "True Positive Rate: 0.75\n",
      "True Negative Rate: 0.02\n",
      "Male Summary:\n",
      "True Positive Rate: 0.76\n",
      "True Negative Rate: 0.01\n",
      "Female Summary:\n",
      "True Positive Rate: 0.75\n",
      "True Negative Rate: 0.03\n"
     ]
    },
    {
     "data": {
      "image/png": "[encoded data removed]",
      "text/plain": [
       "<matplotlib.figure.Figure at 0x1104d30d0>"
      ]
     },
     "metadata": {},
     "output_type": "display_data"
    }
   ],
   "source": [
    "pred = list_of_x([],num_good_reviewers)\n",
    "for i in range(num_good_reviewers):\n",
    "    pred[i] = np.ones(len(test[i]))\n",
    "    # train Logistic Regression\n",
    "    X_train = X_pca[train2[i],:]\n",
    "    Y_train = good_reviews2[i][train2[i]]\n",
    "    logistic = LogisticRegression()\n",
    "    logistic.fit(X_train, Y_train)\n",
    "    pred[i] = logistic.predict(X_pca[test[i],:])\n",
    "print(get_confusion_matrix(pred,test))\n",
    "print(get_confusion_matrix_gender(pred,test,\"m\"))\n",
    "print(get_confusion_matrix_gender(pred,test,\"f\"))\n",
    "print(\"Error: %0.2f\" % get_error(pred,test))\n",
    "print(\"Female Error: %0.2f\" % get_error_gender(pred,test, \"f\"))\n",
    "print(\"Male Error: %0.2f\" % get_error_gender(pred,test, \"m\"))\n",
    "print(\"General Summary:\")\n",
    "summarize_conf_m(pred,test)\n",
    "print(\"Male Summary:\")\n",
    "summarize_conf_m_gender(pred,test,\"m\")\n",
    "print(\"Female Summary:\")\n",
    "summarize_conf_m_gender(pred,test,\"f\")\n",
    "plotErrorByPerson(pred,test,\"logistic1\")"
   ]
  },
  {
   "cell_type": "markdown",
   "metadata": {},
   "source": [
    "### Trees"
   ]
  },
  {
   "cell_type": "code",
   "execution_count": 34,
   "metadata": {
    "collapsed": false
   },
   "outputs": [
    {
     "name": "stdout",
     "output_type": "stream",
     "text": [
      "{'tn': 290, 'fp': 3091, 'fn': 6637, 'tp': 4214}\n",
      "{'tn': 76, 'fp': 1224, 'fn': 2726, 'tp': 1602}\n",
      "{'tn': 214, 'fp': 1867, 'fn': 3911, 'tp': 2612}\n",
      "Error: 0.68\n",
      "Female Error: 0.67\n",
      "Male Error: 0.70\n",
      "General Summary:\n",
      "True Positive Rate: 0.39\n",
      "True Negative Rate: 0.09\n",
      "Male Summary:\n",
      "True Positive Rate: 0.37\n",
      "True Negative Rate: 0.06\n",
      "Female Summary:\n",
      "True Positive Rate: 0.40\n",
      "True Negative Rate: 0.10\n"
     ]
    },
    {
     "data": {
      "image/png": "[encoded data removed]",
      "text/plain": [
       "<matplotlib.figure.Figure at 0x112d4fb50>"
      ]
     },
     "metadata": {},
     "output_type": "display_data"
    }
   ],
   "source": [
    "# trees\n",
    "\n",
    "pred = list_of_x([],num_good_reviewers)\n",
    "for i in range(num_good_reviewers):\n",
    "    pred[i] = np.ones(len(test[i]))\n",
    "    X_train = X_pca[train2[i],:]\n",
    "    Y_train = good_reviews2[i][train2[i]]\n",
    "    clf = tree.DecisionTreeClassifier(random_state=0)\n",
    "    clf.fit(X_train, Y_train)\n",
    "    pred[i] = clf.predict(X_pca[test[i],:])\n",
    "print(get_confusion_matrix(pred,test))\n",
    "print(get_confusion_matrix_gender(pred,test,\"m\"))\n",
    "print(get_confusion_matrix_gender(pred,test,\"f\"))\n",
    "print(\"Error: %0.2f\" % get_error(pred,test))\n",
    "print(\"Female Error: %0.2f\" % get_error_gender(pred,test, \"f\"))\n",
    "print(\"Male Error: %0.2f\" % get_error_gender(pred,test, \"m\"))\n",
    "print(\"General Summary:\")\n",
    "summarize_conf_m(pred,test)\n",
    "print(\"Male Summary:\")\n",
    "summarize_conf_m_gender(pred,test,\"m\")\n",
    "print(\"Female Summary:\")\n",
    "summarize_conf_m_gender(pred,test,\"f\")\n",
    "plotErrorByPerson(pred,test,\"logistic1\")"
   ]
  },
  {
   "cell_type": "code",
   "execution_count": 35,
   "metadata": {
    "collapsed": false
   },
   "outputs": [
    {
     "name": "stdout",
     "output_type": "stream",
     "text": [
      "{'tn': 169, 'fp': 2827, 'fn': 7431, 'tp': 3805}\n",
      "{'tn': 45, 'fp': 1099, 'fn': 3105, 'tp': 1379}\n",
      "{'tn': 124, 'fp': 1728, 'fn': 4326, 'tp': 2426}\n",
      "Error: 0.72\n",
      "Female Error: 0.70\n",
      "Male Error: 0.75\n",
      "General Summary:\n",
      "True Positive Rate: 0.34\n",
      "True Negative Rate: 0.06\n",
      "Male Summary:\n",
      "True Positive Rate: 0.31\n",
      "True Negative Rate: 0.04\n",
      "Female Summary:\n",
      "True Positive Rate: 0.36\n",
      "True Negative Rate: 0.07\n"
     ]
    },
    {
     "data": {
      "image/png": "[encoded data removed]",
      "text/plain": [
       "<matplotlib.figure.Figure at 0x116b16e10>"
      ]
     },
     "metadata": {},
     "output_type": "display_data"
    }
   ],
   "source": [
    "# random forest\n",
    "pred = list_of_x([],num_good_reviewers)\n",
    "for i in range(num_good_reviewers):\n",
    "    pred[i] = np.ones(len(test[i]))\n",
    "    X_train = X_pca[train2[i],:]\n",
    "    Y_train = good_reviews2[i][train2[i]]\n",
    "    rf = RandomForestClassifier(random_state=0)\n",
    "    rf.fit(X_train, Y_train)\n",
    "    pred[i] = rf.predict(X_pca[test[i],:])\n",
    "print(get_confusion_matrix(pred,test))\n",
    "print(get_confusion_matrix_gender(pred,test,\"m\"))\n",
    "print(get_confusion_matrix_gender(pred,test,\"f\"))\n",
    "print(\"Error: %0.2f\" % get_error(pred,test))\n",
    "print(\"Female Error: %0.2f\" % get_error_gender(pred,test, \"f\"))\n",
    "print(\"Male Error: %0.2f\" % get_error_gender(pred,test, \"m\"))\n",
    "print(\"General Summary:\")\n",
    "summarize_conf_m(pred,test)\n",
    "print(\"Male Summary:\")\n",
    "summarize_conf_m_gender(pred,test,\"m\")\n",
    "print(\"Female Summary:\")\n",
    "summarize_conf_m_gender(pred,test,\"f\")\n",
    "plotErrorByPerson(pred,test,\"logistic1\")"
   ]
  },
  {
   "cell_type": "markdown",
   "metadata": {},
   "source": [
    "# Baseline 3.0"
   ]
  },
  {
   "cell_type": "code",
   "execution_count": 36,
   "metadata": {
    "collapsed": false
   },
   "outputs": [
    {
     "name": "stdout",
     "output_type": "stream",
     "text": [
      "{'tn': 3125, 'fp': 2951, 'fn': 1879, 'tp': 6277}\n",
      "{'tn': 1279, 'fp': 1163, 'fn': 763, 'tp': 2423}\n",
      "{'tn': 1846, 'fp': 1788, 'fn': 1116, 'tp': 3854}\n",
      "Error: 0.34\n",
      "Female Error: 0.34\n",
      "Male Error: 0.34\n",
      "General Summary:\n",
      "True Positive Rate: 0.77\n",
      "True Negative Rate: 0.51\n",
      "Male Summary:\n",
      "True Positive Rate: 0.76\n",
      "True Negative Rate: 0.52\n",
      "Female Summary:\n",
      "True Positive Rate: 0.78\n",
      "True Negative Rate: 0.51\n"
     ]
    },
    {
     "data": {
      "image/png": "[encoded data removed]",
      "text/plain": [
       "<matplotlib.figure.Figure at 0x112c50b90>"
      ]
     },
     "metadata": {},
     "output_type": "display_data"
    }
   ],
   "source": [
    "## Check if movie reviews are just a function of other people's reviews\n",
    "pred = list_of_x([],num_good_reviewers)\n",
    "for i in range(num_good_reviewers):\n",
    "    pred[i] = np.ones(len(test[i]))\n",
    "    for j in range(len(test[i])):\n",
    "        other_reviews = []\n",
    "        for k in range(num_good_reviewers):\n",
    "            if test[i][j] in train[k]:\n",
    "                other_reviews.append(good_reviews[k,test[i][j]])\n",
    "        if (len(other_reviews)>0):\n",
    "            pred[i][j] = Counter(other_reviews).most_common(1)[0][0]\n",
    "print(get_confusion_matrix(pred,test))\n",
    "print(get_confusion_matrix_gender(pred,test,\"m\"))\n",
    "print(get_confusion_matrix_gender(pred,test,\"f\"))\n",
    "print(\"Error: %0.2f\" % get_error(pred,test))\n",
    "print(\"Female Error: %0.2f\" % get_error_gender(pred,test, \"f\"))\n",
    "print(\"Male Error: %0.2f\" % get_error_gender(pred,test, \"m\"))\n",
    "print(\"General Summary:\")\n",
    "summarize_conf_m(pred,test)\n",
    "print(\"Male Summary:\")\n",
    "summarize_conf_m_gender(pred,test,\"m\")\n",
    "print(\"Female Summary:\")\n",
    "summarize_conf_m_gender(pred,test,\"f\")\n",
    "plotErrorByPerson(pred,test,\"baseline\")"
   ]
  }
 ],
 "metadata": {
  "kernelspec": {
   "display_name": "Python 2",
   "language": "python",
   "name": "python2"
  },
  "language_info": {
   "codemirror_mode": {
    "name": "ipython",
    "version": 2
   },
   "file_extension": ".py",
   "mimetype": "text/x-python",
   "name": "python",
   "nbconvert_exporter": "python",
   "pygments_lexer": "ipython2",
   "version": "2.7.11"
  }
 },
 "nbformat": 4,
 "nbformat_minor": 0
}
