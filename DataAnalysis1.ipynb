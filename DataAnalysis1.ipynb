{
 "cells": [
  {
   "cell_type": "code",
   "execution_count": 1,
   "metadata": {
    "collapsed": false
   },
   "outputs": [],
   "source": [
    "import numpy as np\n",
    "from numpy import genfromtxt\n",
    "from collections import Counter\n",
    "from sklearn.cluster import KMeans\n",
    "import pandas\n",
    "import random\n",
    "import math\n",
    "from sklearn import svm\n",
    "from scipy import linalg\n",
    "import matplotlib.pyplot as plt\n",
    "%matplotlib inline\n",
    "import matplotlib as mpl\n",
    "from sklearn.decomposition import PCA\n",
    "from sklearn import tree\n",
    "from sklearn.ensemble import RandomForestClassifier\n",
    "import plotly.plotly as py\n",
    "import plotly.tools as tls\n",
    "import pylab\n",
    "from sklearn.preprocessing import normalize\n",
    "import statsmodels.api as sm\n",
    "from sklearn.linear_model import LogisticRegression\n",
    "from scipy import stats\n",
    "from sklearn.feature_selection import chi2\n",
    "from sklearn import tree\n",
    "from sklearn.ensemble import RandomForestClassifier\n",
    "from scipy.sparse import csgraph\n",
    "import matplotlib.cm as cm"
   ]
  },
  {
   "cell_type": "markdown",
   "metadata": {},
   "source": [
    "## Loading in Data:"
   ]
  },
  {
   "cell_type": "code",
   "execution_count": 2,
   "metadata": {
    "collapsed": false
   },
   "outputs": [],
   "source": [
    "reviews = genfromtxt('review_matrix.csv', delimiter=',') # reviewer by movie (2482x818)\n",
    "movies = pandas.read_csv('movie_data_cleaned_v2.csv') # all movies (3801 by 57)\n",
    "review_to_movie = genfromtxt('review_to_imdb.csv', delimiter=',') # col in reviews -> row in movies\n",
    "reviewer_to_gender = genfromtxt('review_to_gender.csv', delimiter=',')\n",
    "reviewer_to_gender = map(lambda x: \"m\" if x==0 else \"f\", reviewer_to_gender) # row in reviews -> gender"
   ]
  },
  {
   "cell_type": "code",
   "execution_count": 3,
   "metadata": {
    "collapsed": false
   },
   "outputs": [],
   "source": [
    "num_reviewers = np.shape(reviews)[0]\n",
    "num_movies = np.shape(reviews)[1]"
   ]
  },
  {
   "cell_type": "markdown",
   "metadata": {},
   "source": [
    "## Minor Pre-Processing"
   ]
  },
  {
   "cell_type": "markdown",
   "metadata": {},
   "source": [
    "There are a lot of reviewers that do not review many movies. Here, we set a minimum number of movies for a reviewer to be used in our classification. This number may change in later approaches where we combine review data from similar reviewers in the training set. "
   ]
  },
  {
   "cell_type": "code",
   "execution_count": 4,
   "metadata": {
    "collapsed": false
   },
   "outputs": [
    {
     "name": "stdout",
     "output_type": "stream",
     "text": [
      "This leads to 229 good reviewers.\n"
     ]
    }
   ],
   "source": [
    "min_num_reviews = 50 # do not include reviewers with < min_num_reviews reviews total\n",
    "count_reviews = np.sum(np.absolute(reviews),axis=1)\n",
    "good_reviewers = filter(lambda x: count_reviews[x] >= min_num_reviews, range(num_reviewers))\n",
    "print(\"This leads to %d good reviewers.\" % np.shape(good_reviewers)[0])\n",
    "\n",
    "### Use data structures below to make life easier ###\n",
    "num_good_reviewers = len(good_reviewers)\n",
    "good_reviews = reviews[good_reviewers,:]\n",
    "good_reviewer_to_gender = [reviewer_to_gender[x] for x in good_reviewers]"
   ]
  },
  {
   "cell_type": "code",
   "execution_count": 5,
   "metadata": {
    "collapsed": false
   },
   "outputs": [],
   "source": [
    "good_movies = []\n",
    "index = 0\n",
    "for i in review_to_movie:\n",
    "    good_movies.append(movies[int(i):int(i+1)].to_dict())\n",
    "    for key in good_movies[index]:\n",
    "        good_movies[index][key] = good_movies[index][key][i]\n",
    "    index+=1\n",
    "good_movies = pandas.DataFrame(good_movies)"
   ]
  },
  {
   "cell_type": "code",
   "execution_count": 6,
   "metadata": {
    "collapsed": false
   },
   "outputs": [],
   "source": [
    "binary_genders = [0]*len(good_reviewer_to_gender)\n",
    "for i in range(len(good_reviewer_to_gender)):\n",
    "    if (good_reviewer_to_gender[i]==\"m\"):\n",
    "        binary_genders[i] = 1\n",
    "    else:\n",
    "        binary_genders[i] = 0"
   ]
  },
  {
   "cell_type": "markdown",
   "metadata": {},
   "source": [
    "Here are all the important variables moving forward:\n",
    "* num_good_reviewers, num_movies (specify dimensions of good_reviews matrix)\n",
    "* good_reviews: reviewer by movie matrix (+1 is positive review, -1 is negative, 0 is no review)\n",
    "* good_movies: movies that we have reviews for (cols here correspond to rows in good_reviews)\n",
    "* good_reviewer_to_gender: reviewer idx to gender map"
   ]
  },
  {
   "cell_type": "markdown",
   "metadata": {},
   "source": [
    "## Generally Useful Functions"
   ]
  },
  {
   "cell_type": "code",
   "execution_count": 7,
   "metadata": {
    "collapsed": true
   },
   "outputs": [],
   "source": [
    "### Returns something of the form [x,...,x] where x can be any object\n",
    "def list_of_x(x, length):\n",
    "    lst = np.empty((length,), dtype=np.object_)\n",
    "    lst.fill(x)\n",
    "    return np.frompyfunc(list,1,1)(lst)\n",
    "\n",
    "def mean_matrix(v, n):\n",
    "    v = np.matrix(v)\n",
    "    mean = v.mean(axis=0)\n",
    "    return np.repeat(mean,n,axis=0)"
   ]
  },
  {
   "cell_type": "markdown",
   "metadata": {},
   "source": [
    "## Get Test/ Training Split"
   ]
  },
  {
   "cell_type": "markdown",
   "metadata": {},
   "source": [
    "For now, lets do a 50/50 split. This ends up with a data-structure such that train[i] represents the columns (movies) in reviews that correspond to the testing set. The 50/50 split is done such that for each reviewer, half of their reviews are training and half are test. "
   ]
  },
  {
   "cell_type": "code",
   "execution_count": 8,
   "metadata": {
    "collapsed": false
   },
   "outputs": [],
   "source": [
    "### Returns tuple with training and testing indices\n",
    "### train: list of length num_good_reviewers\n",
    "### train[i]: list of movie indices that are in training set for reviewer i\n",
    "### Similar format for test\n",
    "### Arguments: split - percentage of data going to train\n",
    "def get_train_test(split):  \n",
    "    train = list_of_x([],num_good_reviewers)\n",
    "    test = list_of_x([],num_good_reviewers)\n",
    "    for i in range(num_good_reviewers):\n",
    "        valid_ind = filter(lambda x: not good_reviews[i][x] == 0, range(num_movies))\n",
    "        train[i] = [valid_ind[j] for j in sorted(random.sample(xrange(len(valid_ind)), int(len(valid_ind)*split)))]\n",
    "        test[i] = filter(lambda x: x not in train[i] and x in valid_ind, range(num_movies))\n",
    "    return (train,test)\n",
    "(train,test) = get_train_test(0.5)"
   ]
  },
  {
   "cell_type": "markdown",
   "metadata": {},
   "source": [
    "## Functions to Deal with Movie Data"
   ]
  },
  {
   "cell_type": "code",
   "execution_count": null,
   "metadata": {
    "collapsed": true
   },
   "outputs": [],
   "source": []
  },
  {
   "cell_type": "markdown",
   "metadata": {},
   "source": [
    "## Useful Testing Functions"
   ]
  },
  {
   "cell_type": "code",
   "execution_count": 9,
   "metadata": {
    "collapsed": false
   },
   "outputs": [],
   "source": [
    "def get_confusion_matrix(pred, test):\n",
    "    m = {\"tp\": 0, \"tn\": 0, \"fp\": 0, \"fn\": 0}\n",
    "    for i in range(num_good_reviewers):\n",
    "        for j in range(len(pred[i])):\n",
    "            prediction = pred[i][j]\n",
    "            actual = good_reviews[i][test[i][j]]\n",
    "            if (prediction == actual):\n",
    "                if (prediction == 1):\n",
    "                    m[\"tp\"]+=1\n",
    "                else:\n",
    "                    m[\"tn\"]+=1\n",
    "            else:\n",
    "                if (prediction == 1):\n",
    "                    m[\"fp\"]+=1\n",
    "                else:\n",
    "                    m[\"fn\"]+=1\n",
    "    return m\n",
    "\n",
    "def get_confusion_matrix_gender(pred, test, gender):\n",
    "    m = {\"tp\": 0, \"tn\": 0, \"fp\": 0, \"fn\": 0}\n",
    "    for i in range(num_good_reviewers):\n",
    "        for j in range(len(pred[i])):\n",
    "            prediction = pred[i][j]\n",
    "            actual = good_reviews[i][test[i][j]]\n",
    "            if (prediction == actual and good_reviewer_to_gender[i] == gender):\n",
    "                if (prediction == 1):\n",
    "                    m[\"tp\"]+=1\n",
    "                else:\n",
    "                    m[\"tn\"]+=1\n",
    "            elif (good_reviewer_to_gender[i] == gender):\n",
    "                if (prediction == 1):\n",
    "                    m[\"fp\"]+=1\n",
    "                else:\n",
    "                    m[\"fn\"]+=1\n",
    "    return m"
   ]
  },
  {
   "cell_type": "code",
   "execution_count": 10,
   "metadata": {
    "collapsed": true
   },
   "outputs": [],
   "source": [
    "def get_error(pred, test):\n",
    "    conf_m = get_confusion_matrix(pred,test)\n",
    "    return 1-(conf_m[\"tp\"]+conf_m[\"tn\"])/float(conf_m[\"tp\"]+conf_m[\"tn\"]+conf_m[\"fp\"]+conf_m[\"fn\"])\n",
    "\n",
    "def get_error_gender(pred, test, gender):\n",
    "    conf_m = get_confusion_matrix_gender(pred,test,gender)\n",
    "    return 1-(conf_m[\"tp\"]+conf_m[\"tn\"])/float(conf_m[\"tp\"]+conf_m[\"tn\"]+conf_m[\"fp\"]+conf_m[\"fn\"])"
   ]
  },
  {
   "cell_type": "code",
   "execution_count": 11,
   "metadata": {
    "collapsed": true
   },
   "outputs": [],
   "source": [
    "def summarize_conf_m(pred,test):\n",
    "    conf_m = get_confusion_matrix(pred,test)\n",
    "    print(\"True Positive Rate: %0.2f\" % (conf_m[\"tp\"]/float(conf_m[\"tp\"]+conf_m[\"fn\"])))\n",
    "    print(\"True Negative Rate: %0.2f\" % (conf_m[\"tn\"]/float(conf_m[\"tn\"]+conf_m[\"fp\"])))\n",
    "\n",
    "def summarize_conf_m_gender(pred,test,gender):\n",
    "    conf_m = get_confusion_matrix_gender(pred,test,gender)\n",
    "    print(\"True Positive Rate: %0.2f\" % (conf_m[\"tp\"]/float(conf_m[\"tp\"]+conf_m[\"fn\"])))\n",
    "    print(\"True Negative Rate: %0.2f\" % (conf_m[\"tn\"]/float(conf_m[\"tn\"]+conf_m[\"fp\"])))"
   ]
  },
  {
   "cell_type": "code",
   "execution_count": 12,
   "metadata": {
    "collapsed": false
   },
   "outputs": [],
   "source": [
    "def plotErrorByPerson(pred, test, filename):\n",
    "    error = [0]*num_good_reviewers\n",
    "    count_reviews = [0]*num_good_reviewers\n",
    "    for i in range(num_good_reviewers):\n",
    "        for j in range(len(pred[i])):\n",
    "            if (not pred[i][j] == good_reviews[i][test[i][j]]):\n",
    "                error[i]+=1\n",
    "        error[i] = error[i]/float(len(pred[i]))\n",
    "        count_reviews[i] = len(pred[i])\n",
    "    count_reviews = np.argsort(count_reviews, axis=None)[::-1]\n",
    "    errors_sorted = [0]*num_good_reviewers\n",
    "    colors = [\"r\"]*num_good_reviewers\n",
    "    for i in range(num_good_reviewers):\n",
    "        errors_sorted[i] = error[count_reviews[i]]\n",
    "        if (good_reviewer_to_gender[count_reviews[i]] == \"m\"):\n",
    "            colors[i] = \"b\"\n",
    "    plt.bar(range(num_good_reviewers), errors_sorted,color=colors)\n",
    "    plt.xmin = 0\n",
    "    plt.ylabel('Error Rate')\n",
    "    plt.xlabel('High # Reviews to Low # Reviews')\n",
    "    plt.title('Error Per Person (Female/Male Split)')\n",
    "    pylab.savefig(filename+'.png')\n",
    "    plt.show()"
   ]
  },
  {
   "cell_type": "markdown",
   "metadata": {},
   "source": [
    "# Baseline Approach"
   ]
  },
  {
   "cell_type": "markdown",
   "metadata": {},
   "source": [
    "* Set all testing to label of most common training label (does not use movies)"
   ]
  },
  {
   "cell_type": "code",
   "execution_count": 13,
   "metadata": {
    "collapsed": false
   },
   "outputs": [
    {
     "name": "stdout",
     "output_type": "stream",
     "text": [
      "{'tn': 2204, 'fp': 3806, 'fn': 2015, 'tp': 6207}\n",
      "{'tn': 841, 'fp': 1598, 'fn': 741, 'tp': 2448}\n",
      "{'tn': 1363, 'fp': 2208, 'fn': 1274, 'tp': 3759}\n",
      "Error: 0.41\n",
      "Female Error: 0.40\n",
      "Male Error: 0.42\n",
      "General Summary:\n",
      "True Positive Rate: 0.75\n",
      "True Negative Rate: 0.37\n",
      "Male Summary:\n",
      "True Positive Rate: 0.77\n",
      "True Negative Rate: 0.34\n",
      "Female Summary:\n",
      "True Positive Rate: 0.75\n",
      "True Negative Rate: 0.38\n"
     ]
    },
    {
     "data": {
      "image/png": "[encoded data removed]",
      "text/plain": [
       "<matplotlib.figure.Figure at 0x1106cbd50>"
      ]
     },
     "metadata": {},
     "output_type": "display_data"
    }
   ],
   "source": [
    "pred = list_of_x([],num_good_reviewers)\n",
    "for i in range(num_good_reviewers):\n",
    "    pred[i] = np.ones(len(test[i]))\n",
    "    if (Counter(good_reviews[i][train[i]]).most_common(1)[0][0] == -1):\n",
    "        pred[i] = -1*pred[i]\n",
    "print(get_confusion_matrix(pred,test))\n",
    "print(get_confusion_matrix_gender(pred,test,\"m\"))\n",
    "print(get_confusion_matrix_gender(pred,test,\"f\"))\n",
    "print(\"Error: %0.2f\" % get_error(pred,test))\n",
    "print(\"Female Error: %0.2f\" % get_error_gender(pred,test, \"f\"))\n",
    "print(\"Male Error: %0.2f\" % get_error_gender(pred,test, \"m\"))\n",
    "print(\"General Summary:\")\n",
    "summarize_conf_m(pred,test)\n",
    "print(\"Male Summary:\")\n",
    "summarize_conf_m_gender(pred,test,\"m\")\n",
    "print(\"Female Summary:\")\n",
    "summarize_conf_m_gender(pred,test,\"f\")\n",
    "plotErrorByPerson(pred,test,\"baseline\")"
   ]
  },
  {
   "cell_type": "markdown",
   "metadata": {},
   "source": [
    "# Lowering Dimension of IMDB Matrix"
   ]
  },
  {
   "cell_type": "code",
   "execution_count": 14,
   "metadata": {
    "collapsed": true
   },
   "outputs": [],
   "source": [
    "rel_features = [\"num_critic_for_reviews\", \"duration\", \"director_facebook_likes\", \n",
    "                \"budget\", \"gross\" , \"cast_total_facebook_likes\", \"title_year\",\n",
    "               \"action\", \"adventure\", \"fantasy\", \"sci_fi\", \"thriller\", \"romance\",\n",
    "               \"animation\", \"comedy\", \"family\", \"musical\", \"mystery\", \"western\",\n",
    "               \"drama\", \"history\", \"sport\", \"crime\", \"horror\", \"war\", \"biography\",\n",
    "               \"music\", \"documentary\", \"aspect_ratio\", \"pg_13\", \"pg\", \"g\", \"r\",\n",
    "                \"nc_17\", \"not_rated\",\"unrated\"]\n",
    "X = np.zeros((num_movies, len(rel_features)))\n",
    "for i in range(num_movies):\n",
    "    for j in range(len(rel_features)):\n",
    "        X[i,j] = good_movies.iloc[i][rel_features[j]]"
   ]
  },
  {
   "cell_type": "code",
   "execution_count": 15,
   "metadata": {
    "collapsed": false
   },
   "outputs": [],
   "source": [
    "# Normalizing matrix for PCA\n",
    "X = normalize(X, norm='l2', axis=0)"
   ]
  },
  {
   "cell_type": "code",
   "execution_count": 16,
   "metadata": {
    "collapsed": false
   },
   "outputs": [
    {
     "name": "stdout",
     "output_type": "stream",
     "text": [
      "We are retaining 0.75% of the Variance in X\n"
     ]
    },
    {
     "data": {
      "image/png": "[encoded data removed]",
      "text/plain": [
       "<matplotlib.figure.Figure at 0x1106cd1d0>"
      ]
     },
     "metadata": {},
     "output_type": "display_data"
    }
   ],
   "source": [
    "pca = PCA(n_components=len(rel_features))\n",
    "pca.fit(X)\n",
    "plt.plot(pca.explained_variance_ratio_)\n",
    "plt.xlabel(\"Dimension\")\n",
    "plt.ylabel(\"Percent Variance Explained\")\n",
    "plt.title(\"Variance Explained Chart (PCA)\")\n",
    "pylab.savefig(\"pca_imdb.png\")\n",
    "n_c=15\n",
    "pca = PCA(n_components=n_c)\n",
    "pca.fit(X)\n",
    "X_pca = pca.transform(X)\n",
    "np.shape(pca.transform(X))\n",
    "print(\"We are retaining %0.2f%% of the Variance in X\" % sum(pca.explained_variance_ratio_[0:n_c]))"
   ]
  },
  {
   "cell_type": "markdown",
   "metadata": {},
   "source": [
    "# Classification Row by Row"
   ]
  },
  {
   "cell_type": "markdown",
   "metadata": {},
   "source": [
    "## Cluster Movies, Group Based on Most Common Label of Movies in that Cluster"
   ]
  },
  {
   "cell_type": "markdown",
   "metadata": {},
   "source": [
    "### Clustering Movies"
   ]
  },
  {
   "cell_type": "code",
   "execution_count": 17,
   "metadata": {
    "collapsed": false
   },
   "outputs": [],
   "source": [
    "# to cluster movies we need to standardize\n",
    "X_std = (X_pca - np.mean(X_pca, axis=0)) / np.std(X_pca, axis=0)"
   ]
  },
  {
   "cell_type": "code",
   "execution_count": 18,
   "metadata": {
    "collapsed": true
   },
   "outputs": [],
   "source": [
    "k = 50\n",
    "kmeans = KMeans(n_clusters=k, random_state=0).fit(X_std)\n",
    "movie_labels = kmeans.labels_"
   ]
  },
  {
   "cell_type": "markdown",
   "metadata": {},
   "source": [
    "### Lets Test It"
   ]
  },
  {
   "cell_type": "code",
   "execution_count": 19,
   "metadata": {
    "collapsed": false
   },
   "outputs": [
    {
     "name": "stdout",
     "output_type": "stream",
     "text": [
      "{'tn': 3681, 'fp': 2329, 'fn': 4344, 'tp': 3878}\n",
      "{'tn': 1642, 'fp': 797, 'fn': 1929, 'tp': 1260}\n",
      "{'tn': 2039, 'fp': 1532, 'fn': 2415, 'tp': 2618}\n",
      "Error: 0.47\n",
      "Female Error: 0.46\n",
      "Male Error: 0.48\n",
      "General Summary:\n",
      "True Positive Rate: 0.47\n",
      "True Negative Rate: 0.61\n",
      "Male Summary:\n",
      "True Positive Rate: 0.40\n",
      "True Negative Rate: 0.67\n",
      "Female Summary:\n",
      "True Positive Rate: 0.52\n",
      "True Negative Rate: 0.57\n"
     ]
    },
    {
     "data": {
      "image/png": "[encoded data removed]",
      "text/plain": [
       "<matplotlib.figure.Figure at 0x11220f5d0>"
      ]
     },
     "metadata": {},
     "output_type": "display_data"
    }
   ],
   "source": [
    "pred = list_of_x([],num_good_reviewers)\n",
    "for i in range(num_good_reviewers):\n",
    "    pred[i] = np.ones(len(test[i]))\n",
    "    k_labels = np.zeros(k)\n",
    "    for j in range(num_movies):\n",
    "        if (j in train[i]):\n",
    "            k_labels[movie_labels[j]]+=good_reviews[i][j]\n",
    "    for j in range(len(test[i])):\n",
    "        if (k_labels[movie_labels[test[i][j]]] > 0):\n",
    "            pred[i][j]=1\n",
    "        else:\n",
    "            pred[i][j]=-1\n",
    "print(get_confusion_matrix(pred,test))\n",
    "print(get_confusion_matrix_gender(pred,test,\"m\"))\n",
    "print(get_confusion_matrix_gender(pred,test,\"f\"))\n",
    "print(\"Error: %0.2f\" % get_error(pred,test))\n",
    "print(\"Female Error: %0.2f\" % get_error_gender(pred,test, \"f\"))\n",
    "print(\"Male Error: %0.2f\" % get_error_gender(pred,test, \"m\"))\n",
    "print(\"General Summary:\")\n",
    "summarize_conf_m(pred,test)\n",
    "print(\"Male Summary:\")\n",
    "summarize_conf_m_gender(pred,test,\"m\")\n",
    "print(\"Female Summary:\")\n",
    "summarize_conf_m_gender(pred,test,\"f\")\n",
    "plotErrorByPerson(pred,test,\"kmeans1\")"
   ]
  },
  {
   "cell_type": "markdown",
   "metadata": {},
   "source": [
    "## Logistic Regression"
   ]
  },
  {
   "cell_type": "code",
   "execution_count": 20,
   "metadata": {
    "collapsed": false
   },
   "outputs": [
    {
     "name": "stdout",
     "output_type": "stream",
     "text": [
      "{'tn': 2280, 'fp': 3730, 'fn': 2041, 'tp': 6181}\n",
      "{'tn': 906, 'fp': 1533, 'fn': 781, 'tp': 2408}\n",
      "{'tn': 1374, 'fp': 2197, 'fn': 1260, 'tp': 3773}\n",
      "Error: 0.41\n",
      "Female Error: 0.40\n",
      "Male Error: 0.41\n",
      "General Summary:\n",
      "True Positive Rate: 0.75\n",
      "True Negative Rate: 0.38\n",
      "Male Summary:\n",
      "True Positive Rate: 0.76\n",
      "True Negative Rate: 0.37\n",
      "Female Summary:\n",
      "True Positive Rate: 0.75\n",
      "True Negative Rate: 0.38\n"
     ]
    },
    {
     "data": {
      "image/png": "[encoded data removed]",
      "text/plain": [
       "<matplotlib.figure.Figure at 0x10353b8d0>"
      ]
     },
     "metadata": {},
     "output_type": "display_data"
    }
   ],
   "source": [
    "pred = list_of_x([],num_good_reviewers)\n",
    "for i in range(num_good_reviewers):\n",
    "    pred[i] = np.ones(len(test[i]))\n",
    "    # train Logistic Regression\n",
    "    X_train = X_pca[train[i],:]\n",
    "    Y_train = good_reviews[i][train[i]]\n",
    "    logistic = LogisticRegression()\n",
    "    logistic.fit(X_train, Y_train)\n",
    "    pred[i] = logistic.predict(X_pca[test[i],:])\n",
    "    #scores, pvalues = chi2(X_train,Y_train)\n",
    "#print pvalues\n",
    "#X2 = sm.add_constant(X_train)\n",
    "#est = sm.OLS(Y_train, X2)\n",
    "#est2 = est.fit()\n",
    "#print(est2.summary())\n",
    "print(get_confusion_matrix(pred,test))\n",
    "print(get_confusion_matrix_gender(pred,test,\"m\"))\n",
    "print(get_confusion_matrix_gender(pred,test,\"f\"))\n",
    "print(\"Error: %0.2f\" % get_error(pred,test))\n",
    "print(\"Female Error: %0.2f\" % get_error_gender(pred,test, \"f\"))\n",
    "print(\"Male Error: %0.2f\" % get_error_gender(pred,test, \"m\"))\n",
    "print(\"General Summary:\")\n",
    "summarize_conf_m(pred,test)\n",
    "print(\"Male Summary:\")\n",
    "summarize_conf_m_gender(pred,test,\"m\")\n",
    "print(\"Female Summary:\")\n",
    "summarize_conf_m_gender(pred,test,\"f\")\n",
    "plotErrorByPerson(pred,test,\"logistic1\")"
   ]
  },
  {
   "cell_type": "markdown",
   "metadata": {},
   "source": [
    "## Random Forests and Trees"
   ]
  },
  {
   "cell_type": "code",
   "execution_count": 21,
   "metadata": {
    "collapsed": false
   },
   "outputs": [
    {
     "name": "stdout",
     "output_type": "stream",
     "text": [
      "{'tn': 2868, 'fp': 3142, 'fn': 3302, 'tp': 4920}\n",
      "{'tn': 1209, 'fp': 1230, 'fn': 1277, 'tp': 1912}\n",
      "{'tn': 1659, 'fp': 1912, 'fn': 2025, 'tp': 3008}\n",
      "Error: 0.45\n",
      "Female Error: 0.46\n",
      "Male Error: 0.45\n",
      "General Summary:\n",
      "True Positive Rate: 0.60\n",
      "True Negative Rate: 0.48\n",
      "Male Summary:\n",
      "True Positive Rate: 0.60\n",
      "True Negative Rate: 0.50\n",
      "Female Summary:\n",
      "True Positive Rate: 0.60\n",
      "True Negative Rate: 0.46\n"
     ]
    },
    {
     "data": {
      "image/png": "[encoded data removed]",
      "text/plain": [
       "<matplotlib.figure.Figure at 0x1166239d0>"
      ]
     },
     "metadata": {},
     "output_type": "display_data"
    }
   ],
   "source": [
    "# trees\n",
    "\n",
    "pred = list_of_x([],num_good_reviewers)\n",
    "for i in range(num_good_reviewers):\n",
    "    pred[i] = np.ones(len(test[i]))\n",
    "    X_train = X_pca[train[i],:]\n",
    "    Y_train = good_reviews[i][train[i]]\n",
    "    clf = tree.DecisionTreeClassifier(random_state=0)\n",
    "    clf.fit(X_train, Y_train)\n",
    "    pred[i] = clf.predict(X_pca[test[i],:])\n",
    "print(get_confusion_matrix(pred,test))\n",
    "print(get_confusion_matrix_gender(pred,test,\"m\"))\n",
    "print(get_confusion_matrix_gender(pred,test,\"f\"))\n",
    "print(\"Error: %0.2f\" % get_error(pred,test))\n",
    "print(\"Female Error: %0.2f\" % get_error_gender(pred,test, \"f\"))\n",
    "print(\"Male Error: %0.2f\" % get_error_gender(pred,test, \"m\"))\n",
    "print(\"General Summary:\")\n",
    "summarize_conf_m(pred,test)\n",
    "print(\"Male Summary:\")\n",
    "summarize_conf_m_gender(pred,test,\"m\")\n",
    "print(\"Female Summary:\")\n",
    "summarize_conf_m_gender(pred,test,\"f\")\n",
    "plotErrorByPerson(pred,test,\"logistic1\")"
   ]
  },
  {
   "cell_type": "code",
   "execution_count": 22,
   "metadata": {
    "collapsed": false
   },
   "outputs": [
    {
     "name": "stdout",
     "output_type": "stream",
     "text": [
      "{'tn': 3176, 'fp': 2834, 'fn': 3380, 'tp': 4842}\n",
      "{'tn': 1345, 'fp': 1094, 'fn': 1382, 'tp': 1807}\n",
      "{'tn': 1831, 'fp': 1740, 'fn': 1998, 'tp': 3035}\n",
      "Error: 0.44\n",
      "Female Error: 0.43\n",
      "Male Error: 0.44\n",
      "General Summary:\n",
      "True Positive Rate: 0.59\n",
      "True Negative Rate: 0.53\n",
      "Male Summary:\n",
      "True Positive Rate: 0.57\n",
      "True Negative Rate: 0.55\n",
      "Female Summary:\n",
      "True Positive Rate: 0.60\n",
      "True Negative Rate: 0.51\n"
     ]
    },
    {
     "data": {
      "image/png": "[encoded data removed]",
      "text/plain": [
       "<matplotlib.figure.Figure at 0x110751450>"
      ]
     },
     "metadata": {},
     "output_type": "display_data"
    }
   ],
   "source": [
    "# random forest\n",
    "pred = list_of_x([],num_good_reviewers)\n",
    "for i in range(num_good_reviewers):\n",
    "    pred[i] = np.ones(len(test[i]))\n",
    "    X_train = X_pca[train[i],:]\n",
    "    Y_train = good_reviews[i][train[i]]\n",
    "    rf = RandomForestClassifier(random_state=0)\n",
    "    rf.fit(X_train, Y_train)\n",
    "    pred[i] = rf.predict(X_pca[test[i],:])\n",
    "print(get_confusion_matrix(pred,test))\n",
    "print(get_confusion_matrix_gender(pred,test,\"m\"))\n",
    "print(get_confusion_matrix_gender(pred,test,\"f\"))\n",
    "print(\"Error: %0.2f\" % get_error(pred,test))\n",
    "print(\"Female Error: %0.2f\" % get_error_gender(pred,test, \"f\"))\n",
    "print(\"Male Error: %0.2f\" % get_error_gender(pred,test, \"m\"))\n",
    "print(\"General Summary:\")\n",
    "summarize_conf_m(pred,test)\n",
    "print(\"Male Summary:\")\n",
    "summarize_conf_m_gender(pred,test,\"m\")\n",
    "print(\"Female Summary:\")\n",
    "summarize_conf_m_gender(pred,test,\"f\")\n",
    "plotErrorByPerson(pred,test,\"logistic1\")"
   ]
  },
  {
   "cell_type": "markdown",
   "metadata": {},
   "source": [
    "# Changing Reviews by Clustering Reviewers"
   ]
  },
  {
   "cell_type": "markdown",
   "metadata": {
    "collapsed": true
   },
   "source": [
    "### Spectral Clustering for Reviewers"
   ]
  },
  {
   "cell_type": "code",
   "execution_count": 23,
   "metadata": {
    "collapsed": true
   },
   "outputs": [],
   "source": [
    "def fit_kmeans(samples, num_components):\n",
    "    k_means = KMeans(n_clusters=num_components)\n",
    "    preds = k_means.fit_predict(samples)\n",
    "    plt.figure(num=None, figsize=(15, 8), dpi=80, facecolor='w', edgecolor='k')\n",
    "    color1 = 'g'\n",
    "    color2 = 'y'\n",
    "    ax = plt.gca()\n",
    "    color_dict = {idx:col for idx, col in enumerate(cm.rainbow(np.linspace(0, 1, num_components)))}\n",
    "    colors = [color_dict[i] for i in preds]\n",
    "    ax.scatter(samples[:,0], samples[:,1], \n",
    "               c=colors, alpha=0.8)\n",
    "    return preds, color_dict"
   ]
  },
  {
   "cell_type": "code",
   "execution_count": 24,
   "metadata": {
    "collapsed": false
   },
   "outputs": [],
   "source": [
    "A = np.zeros((num_good_reviewers, num_good_reviewers))\n",
    "t = 5 # subject to change (-> |num_common_reviews - num_diff_reviews|)\n",
    "for i in range(num_good_reviewers):\n",
    "    for j in range(num_good_reviewers):\n",
    "        dot = np.dot(good_reviews[i,:], good_reviews[j,:])\n",
    "        if (dot >= t):\n",
    "            A[i,j] = 1"
   ]
  },
  {
   "cell_type": "code",
   "execution_count": 26,
   "metadata": {
    "collapsed": false
   },
   "outputs": [
    {
     "data": {
      "image/png": "[encoded data removed]",
      "text/plain": [
       "<matplotlib.figure.Figure at 0x1165a3450>"
      ]
     },
     "metadata": {},
     "output_type": "display_data"
    }
   ],
   "source": [
    "L_normed = csgraph.laplacian(A, normed=True)\n",
    "eigenvalues_norm, eigenvectors_norm = np.linalg.eigh(L_normed)\n",
    "plt.title(\"NormA\")\n",
    "plt.xlabel(\"Dimension\")\n",
    "plt.ylabel(\"Eigen-Value\")\n",
    "plt.plot(eigenvalues_norm)\n",
    "plt.show()"
   ]
  },
  {
   "cell_type": "code",
   "execution_count": 29,
   "metadata": {
    "collapsed": false
   },
   "outputs": [
    {
     "data": {
      "image/png": "[encoded data removed]",
      "text/plain": [
       "<matplotlib.figure.Figure at 0x116491850>"
      ]
     },
     "metadata": {},
     "output_type": "display_data"
    }
   ],
   "source": [
    "dim = 10\n",
    "k = 30\n",
    "preds_kmeans, colors_kmeans = fit_kmeans(eigenvectors_norm[:,0:dim],30)"
   ]
  },
  {
   "cell_type": "markdown",
   "metadata": {
    "collapsed": true
   },
   "source": [
    "### Modify Reviews so that each person also has reviews of other points in cluster"
   ]
  },
  {
   "cell_type": "markdown",
   "metadata": {},
   "source": [
    "* Creating matrix called good_reviews2\n",
    "* Training will be done on good_reviews2\n",
    "* good_reviews2 does not contain any testing data\n",
    "* Instead, zero and testing data points are replaced by the most common score among other people in cluster\n",
    "* All testing is done on the actual review matrix"
   ]
  },
  {
   "cell_type": "code",
   "execution_count": 41,
   "metadata": {
    "collapsed": false
   },
   "outputs": [],
   "source": [
    "good_reviews2 = np.zeros((num_good_reviewers, num_movies))\n",
    "count_additions = 0\n",
    "for i in range(num_good_reviewers):\n",
    "    for j in range(num_movies):\n",
    "        if (j in train[i]):\n",
    "            # non zero entry at j and it is part of training set\n",
    "            good_reviews2[i,j] = good_reviews[i,j]\n",
    "        else:\n",
    "            # either 0 entry or in testing set\n",
    "            cluster = preds_kmeans[i]\n",
    "            label_lst = []\n",
    "            for k in range(num_good_reviewers):\n",
    "                if (preds_kmeans[k]==cluster and (not k==i)):\n",
    "                    # same cluster \n",
    "                    for l in train[k]:\n",
    "                        label_lst.append(good_reviews[k,l])\n",
    "            if len(label_lst)>0:\n",
    "                good_reviews2[i,j] = Counter(label_lst).most_common(1)[0][0]\n",
    "                count_additions+=1"
   ]
  },
  {
   "cell_type": "code",
   "execution_count": 42,
   "metadata": {
    "collapsed": false
   },
   "outputs": [
    {
     "data": {
      "text/plain": [
       "172587"
      ]
     },
     "execution_count": 42,
     "metadata": {},
     "output_type": "execute_result"
    }
   ],
   "source": [
    "count_additions"
   ]
  },
  {
   "cell_type": "code",
   "execution_count": 46,
   "metadata": {
    "collapsed": true
   },
   "outputs": [],
   "source": [
    "## train is a little different now\n",
    "train2 = train.copy()\n",
    "for i in range(num_good_reviewers):\n",
    "    for j in range(num_movies):\n",
    "        if j not in train[i] and (not good_reviews2[i,j]==0):\n",
    "            train2[i].append(j)"
   ]
  },
  {
   "cell_type": "markdown",
   "metadata": {},
   "source": [
    "### Try Baseline 2.0"
   ]
  },
  {
   "cell_type": "code",
   "execution_count": 47,
   "metadata": {
    "collapsed": false
   },
   "outputs": [
    {
     "name": "stdout",
     "output_type": "stream",
     "text": [
      "{'tn': 1621, 'fp': 4389, 'fn': 1382, 'tp': 6840}\n",
      "{'tn': 853, 'fp': 1586, 'fn': 722, 'tp': 2467}\n",
      "{'tn': 768, 'fp': 2803, 'fn': 660, 'tp': 4373}\n",
      "Error: 0.41\n",
      "Female Error: 0.40\n",
      "Male Error: 0.41\n",
      "General Summary:\n",
      "True Positive Rate: 0.83\n",
      "True Negative Rate: 0.27\n",
      "Male Summary:\n",
      "True Positive Rate: 0.77\n",
      "True Negative Rate: 0.35\n",
      "Female Summary:\n",
      "True Positive Rate: 0.87\n",
      "True Negative Rate: 0.22\n"
     ]
    },
    {
     "data": {
      "image/png": "[encoded data removed]",
      "text/plain": [
       "<matplotlib.figure.Figure at 0x1106ca450>"
      ]
     },
     "metadata": {},
     "output_type": "display_data"
    }
   ],
   "source": [
    "pred = list_of_x([],num_good_reviewers)\n",
    "for i in range(num_good_reviewers):\n",
    "    pred[i] = np.ones(len(test[i]))\n",
    "    if (Counter(good_reviews2[i][train2[i]]).most_common(1)[0][0] == -1):\n",
    "        pred[i] = -1*pred[i]\n",
    "print(get_confusion_matrix(pred,test))\n",
    "print(get_confusion_matrix_gender(pred,test,\"m\"))\n",
    "print(get_confusion_matrix_gender(pred,test,\"f\"))\n",
    "print(\"Error: %0.2f\" % get_error(pred,test))\n",
    "print(\"Female Error: %0.2f\" % get_error_gender(pred,test, \"f\"))\n",
    "print(\"Male Error: %0.2f\" % get_error_gender(pred,test, \"m\"))\n",
    "print(\"General Summary:\")\n",
    "summarize_conf_m(pred,test)\n",
    "print(\"Male Summary:\")\n",
    "summarize_conf_m_gender(pred,test,\"m\")\n",
    "print(\"Female Summary:\")\n",
    "summarize_conf_m_gender(pred,test,\"f\")\n",
    "plotErrorByPerson(pred,test,\"baseline\")"
   ]
  },
  {
   "cell_type": "markdown",
   "metadata": {},
   "source": [
    "### Try Clustering again"
   ]
  },
  {
   "cell_type": "code",
   "execution_count": 44,
   "metadata": {
    "collapsed": true
   },
   "outputs": [],
   "source": [
    "k = 50\n",
    "kmeans = KMeans(n_clusters=k, random_state=0).fit(X_std)\n",
    "movie_labels = kmeans.labels_"
   ]
  },
  {
   "cell_type": "code",
   "execution_count": 48,
   "metadata": {
    "collapsed": false
   },
   "outputs": [
    {
     "name": "stdout",
     "output_type": "stream",
     "text": [
      "{'tn': 1604, 'fp': 4406, 'fn': 1363, 'tp': 6859}\n",
      "{'tn': 854, 'fp': 1585, 'fn': 725, 'tp': 2464}\n",
      "{'tn': 750, 'fp': 2821, 'fn': 638, 'tp': 4395}\n",
      "Error: 0.41\n",
      "Female Error: 0.40\n",
      "Male Error: 0.41\n",
      "General Summary:\n",
      "True Positive Rate: 0.83\n",
      "True Negative Rate: 0.27\n",
      "Male Summary:\n",
      "True Positive Rate: 0.77\n",
      "True Negative Rate: 0.35\n",
      "Female Summary:\n",
      "True Positive Rate: 0.87\n",
      "True Negative Rate: 0.21\n"
     ]
    },
    {
     "data": {
      "image/png": "[encoded data removed]",
      "text/plain": [
       "<matplotlib.figure.Figure at 0x11521c250>"
      ]
     },
     "metadata": {},
     "output_type": "display_data"
    }
   ],
   "source": [
    "pred = list_of_x([],num_good_reviewers)\n",
    "for i in range(num_good_reviewers):\n",
    "    pred[i] = np.ones(len(test[i]))\n",
    "    k_labels = np.zeros(k)\n",
    "    for j in range(num_movies):\n",
    "        if (j in train2[i]):\n",
    "            k_labels[movie_labels[j]]+=good_reviews2[i][j]\n",
    "    for j in range(len(test[i])):\n",
    "        if (k_labels[movie_labels[test[i][j]]] > 0):\n",
    "            pred[i][j]=1\n",
    "        else:\n",
    "            pred[i][j]=-1\n",
    "print(get_confusion_matrix(pred,test))\n",
    "print(get_confusion_matrix_gender(pred,test,\"m\"))\n",
    "print(get_confusion_matrix_gender(pred,test,\"f\"))\n",
    "print(\"Error: %0.2f\" % get_error(pred,test))\n",
    "print(\"Female Error: %0.2f\" % get_error_gender(pred,test, \"f\"))\n",
    "print(\"Male Error: %0.2f\" % get_error_gender(pred,test, \"m\"))\n",
    "print(\"General Summary:\")\n",
    "summarize_conf_m(pred,test)\n",
    "print(\"Male Summary:\")\n",
    "summarize_conf_m_gender(pred,test,\"m\")\n",
    "print(\"Female Summary:\")\n",
    "summarize_conf_m_gender(pred,test,\"f\")\n",
    "plotErrorByPerson(pred,test,\"kmeans1\")"
   ]
  },
  {
   "cell_type": "markdown",
   "metadata": {},
   "source": [
    "### Try Logistic Reg Aggain"
   ]
  },
  {
   "cell_type": "code",
   "execution_count": 49,
   "metadata": {
    "collapsed": false
   },
   "outputs": [
    {
     "name": "stdout",
     "output_type": "stream",
     "text": [
      "{'tn': 1621, 'fp': 4389, 'fn': 1382, 'tp': 6840}\n",
      "{'tn': 853, 'fp': 1586, 'fn': 722, 'tp': 2467}\n",
      "{'tn': 768, 'fp': 2803, 'fn': 660, 'tp': 4373}\n",
      "Error: 0.41\n",
      "Female Error: 0.40\n",
      "Male Error: 0.41\n",
      "General Summary:\n",
      "True Positive Rate: 0.83\n",
      "True Negative Rate: 0.27\n",
      "Male Summary:\n",
      "True Positive Rate: 0.77\n",
      "True Negative Rate: 0.35\n",
      "Female Summary:\n",
      "True Positive Rate: 0.87\n",
      "True Negative Rate: 0.22\n"
     ]
    },
    {
     "data": {
      "image/png": "[encoded data removed]",
      "text/plain": [
       "<matplotlib.figure.Figure at 0x110777590>"
      ]
     },
     "metadata": {},
     "output_type": "display_data"
    }
   ],
   "source": [
    "pred = list_of_x([],num_good_reviewers)\n",
    "for i in range(num_good_reviewers):\n",
    "    pred[i] = np.ones(len(test[i]))\n",
    "    # train Logistic Regression\n",
    "    X_train = X_pca[train2[i],:]\n",
    "    Y_train = good_reviews2[i][train2[i]]\n",
    "    logistic = LogisticRegression()\n",
    "    logistic.fit(X_train, Y_train)\n",
    "    pred[i] = logistic.predict(X_pca[test[i],:])\n",
    "print(get_confusion_matrix(pred,test))\n",
    "print(get_confusion_matrix_gender(pred,test,\"m\"))\n",
    "print(get_confusion_matrix_gender(pred,test,\"f\"))\n",
    "print(\"Error: %0.2f\" % get_error(pred,test))\n",
    "print(\"Female Error: %0.2f\" % get_error_gender(pred,test, \"f\"))\n",
    "print(\"Male Error: %0.2f\" % get_error_gender(pred,test, \"m\"))\n",
    "print(\"General Summary:\")\n",
    "summarize_conf_m(pred,test)\n",
    "print(\"Male Summary:\")\n",
    "summarize_conf_m_gender(pred,test,\"m\")\n",
    "print(\"Female Summary:\")\n",
    "summarize_conf_m_gender(pred,test,\"f\")\n",
    "plotErrorByPerson(pred,test,\"logistic1\")"
   ]
  },
  {
   "cell_type": "markdown",
   "metadata": {},
   "source": [
    "### Trees"
   ]
  },
  {
   "cell_type": "code",
   "execution_count": 50,
   "metadata": {
    "collapsed": false
   },
   "outputs": [
    {
     "name": "stdout",
     "output_type": "stream",
     "text": [
      "{'tn': 1576, 'fp': 4434, 'fn': 1349, 'tp': 6873}\n",
      "{'tn': 853, 'fp': 1586, 'fn': 722, 'tp': 2467}\n",
      "{'tn': 723, 'fp': 2848, 'fn': 627, 'tp': 4406}\n",
      "Error: 0.41\n",
      "Female Error: 0.40\n",
      "Male Error: 0.41\n",
      "General Summary:\n",
      "True Positive Rate: 0.84\n",
      "True Negative Rate: 0.26\n",
      "Male Summary:\n",
      "True Positive Rate: 0.77\n",
      "True Negative Rate: 0.35\n",
      "Female Summary:\n",
      "True Positive Rate: 0.88\n",
      "True Negative Rate: 0.20\n"
     ]
    },
    {
     "data": {
      "image/png": "[encoded data removed]",
      "text/plain": [
       "<matplotlib.figure.Figure at 0x1165cec50>"
      ]
     },
     "metadata": {},
     "output_type": "display_data"
    }
   ],
   "source": [
    "# trees\n",
    "\n",
    "pred = list_of_x([],num_good_reviewers)\n",
    "for i in range(num_good_reviewers):\n",
    "    pred[i] = np.ones(len(test[i]))\n",
    "    X_train = X_pca[train2[i],:]\n",
    "    Y_train = good_reviews2[i][train2[i]]\n",
    "    clf = tree.DecisionTreeClassifier(random_state=0)\n",
    "    clf.fit(X_train, Y_train)\n",
    "    pred[i] = clf.predict(X_pca[test[i],:])\n",
    "print(get_confusion_matrix(pred,test))\n",
    "print(get_confusion_matrix_gender(pred,test,\"m\"))\n",
    "print(get_confusion_matrix_gender(pred,test,\"f\"))\n",
    "print(\"Error: %0.2f\" % get_error(pred,test))\n",
    "print(\"Female Error: %0.2f\" % get_error_gender(pred,test, \"f\"))\n",
    "print(\"Male Error: %0.2f\" % get_error_gender(pred,test, \"m\"))\n",
    "print(\"General Summary:\")\n",
    "summarize_conf_m(pred,test)\n",
    "print(\"Male Summary:\")\n",
    "summarize_conf_m_gender(pred,test,\"m\")\n",
    "print(\"Female Summary:\")\n",
    "summarize_conf_m_gender(pred,test,\"f\")\n",
    "plotErrorByPerson(pred,test,\"logistic1\")"
   ]
  },
  {
   "cell_type": "code",
   "execution_count": 51,
   "metadata": {
    "collapsed": false
   },
   "outputs": [
    {
     "name": "stdout",
     "output_type": "stream",
     "text": [
      "{'tn': 1590, 'fp': 4420, 'fn': 1356, 'tp': 6866}\n",
      "{'tn': 853, 'fp': 1586, 'fn': 722, 'tp': 2467}\n",
      "{'tn': 737, 'fp': 2834, 'fn': 634, 'tp': 4399}\n",
      "Error: 0.41\n",
      "Female Error: 0.40\n",
      "Male Error: 0.41\n",
      "General Summary:\n",
      "True Positive Rate: 0.84\n",
      "True Negative Rate: 0.26\n",
      "Male Summary:\n",
      "True Positive Rate: 0.77\n",
      "True Negative Rate: 0.35\n",
      "Female Summary:\n",
      "True Positive Rate: 0.87\n",
      "True Negative Rate: 0.21\n"
     ]
    },
    {
     "data": {
      "image/png": "[encoded data removed]",
      "text/plain": [
       "<matplotlib.figure.Figure at 0x115d303d0>"
      ]
     },
     "metadata": {},
     "output_type": "display_data"
    }
   ],
   "source": [
    "# random forest\n",
    "pred = list_of_x([],num_good_reviewers)\n",
    "for i in range(num_good_reviewers):\n",
    "    pred[i] = np.ones(len(test[i]))\n",
    "    X_train = X_pca[train2[i],:]\n",
    "    Y_train = good_reviews2[i][train2[i]]\n",
    "    rf = RandomForestClassifier(random_state=0)\n",
    "    rf.fit(X_train, Y_train)\n",
    "    pred[i] = rf.predict(X_pca[test[i],:])\n",
    "print(get_confusion_matrix(pred,test))\n",
    "print(get_confusion_matrix_gender(pred,test,\"m\"))\n",
    "print(get_confusion_matrix_gender(pred,test,\"f\"))\n",
    "print(\"Error: %0.2f\" % get_error(pred,test))\n",
    "print(\"Female Error: %0.2f\" % get_error_gender(pred,test, \"f\"))\n",
    "print(\"Male Error: %0.2f\" % get_error_gender(pred,test, \"m\"))\n",
    "print(\"General Summary:\")\n",
    "summarize_conf_m(pred,test)\n",
    "print(\"Male Summary:\")\n",
    "summarize_conf_m_gender(pred,test,\"m\")\n",
    "print(\"Female Summary:\")\n",
    "summarize_conf_m_gender(pred,test,\"f\")\n",
    "plotErrorByPerson(pred,test,\"logistic1\")"
   ]
  },
  {
   "cell_type": "markdown",
   "metadata": {},
   "source": [
    "# Baseline 3.0"
   ]
  },
  {
   "cell_type": "code",
   "execution_count": 53,
   "metadata": {
    "collapsed": false
   },
   "outputs": [
    {
     "name": "stdout",
     "output_type": "stream",
     "text": [
      "{'tn': 0, 'fp': 0, 'fn': 14232, 'tp': 0}\n",
      "{'tn': 0, 'fp': 0, 'fn': 5628, 'tp': 0}\n",
      "{'tn': 0, 'fp': 0, 'fn': 8604, 'tp': 0}\n",
      "Error: 1.00\n",
      "Female Error: 1.00\n",
      "Male Error: 1.00\n",
      "General Summary:\n",
      "True Positive Rate: 0.00\n"
     ]
    },
    {
     "ename": "ZeroDivisionError",
     "evalue": "float division by zero",
     "output_type": "error",
     "traceback": [
      "\u001b[0;31m---------------------------------------------------------------------------\u001b[0m",
      "\u001b[0;31mZeroDivisionError\u001b[0m                         Traceback (most recent call last)",
      "\u001b[0;32m<ipython-input-53-548799af5eb5>\u001b[0m in \u001b[0;36m<module>\u001b[0;34m()\u001b[0m\n\u001b[1;32m     17\u001b[0m \u001b[0;32mprint\u001b[0m\u001b[0;34m(\u001b[0m\u001b[0;34m\"Male Error: %0.2f\"\u001b[0m \u001b[0;34m%\u001b[0m \u001b[0mget_error_gender\u001b[0m\u001b[0;34m(\u001b[0m\u001b[0mpred\u001b[0m\u001b[0;34m,\u001b[0m\u001b[0mtest\u001b[0m\u001b[0;34m,\u001b[0m \u001b[0;34m\"m\"\u001b[0m\u001b[0;34m)\u001b[0m\u001b[0;34m)\u001b[0m\u001b[0;34m\u001b[0m\u001b[0m\n\u001b[1;32m     18\u001b[0m \u001b[0;32mprint\u001b[0m\u001b[0;34m(\u001b[0m\u001b[0;34m\"General Summary:\"\u001b[0m\u001b[0;34m)\u001b[0m\u001b[0;34m\u001b[0m\u001b[0m\n\u001b[0;32m---> 19\u001b[0;31m \u001b[0msummarize_conf_m\u001b[0m\u001b[0;34m(\u001b[0m\u001b[0mpred\u001b[0m\u001b[0;34m,\u001b[0m\u001b[0mtest\u001b[0m\u001b[0;34m)\u001b[0m\u001b[0;34m\u001b[0m\u001b[0m\n\u001b[0m\u001b[1;32m     20\u001b[0m \u001b[0;32mprint\u001b[0m\u001b[0;34m(\u001b[0m\u001b[0;34m\"Male Summary:\"\u001b[0m\u001b[0;34m)\u001b[0m\u001b[0;34m\u001b[0m\u001b[0m\n\u001b[1;32m     21\u001b[0m \u001b[0msummarize_conf_m_gender\u001b[0m\u001b[0;34m(\u001b[0m\u001b[0mpred\u001b[0m\u001b[0;34m,\u001b[0m\u001b[0mtest\u001b[0m\u001b[0;34m,\u001b[0m\u001b[0;34m\"m\"\u001b[0m\u001b[0;34m)\u001b[0m\u001b[0;34m\u001b[0m\u001b[0m\n",
      "\u001b[0;32m<ipython-input-11-620a4c771633>\u001b[0m in \u001b[0;36msummarize_conf_m\u001b[0;34m(pred, test)\u001b[0m\n\u001b[1;32m      2\u001b[0m     \u001b[0mconf_m\u001b[0m \u001b[0;34m=\u001b[0m \u001b[0mget_confusion_matrix\u001b[0m\u001b[0;34m(\u001b[0m\u001b[0mpred\u001b[0m\u001b[0;34m,\u001b[0m\u001b[0mtest\u001b[0m\u001b[0;34m)\u001b[0m\u001b[0;34m\u001b[0m\u001b[0m\n\u001b[1;32m      3\u001b[0m     \u001b[0;32mprint\u001b[0m\u001b[0;34m(\u001b[0m\u001b[0;34m\"True Positive Rate: %0.2f\"\u001b[0m \u001b[0;34m%\u001b[0m \u001b[0;34m(\u001b[0m\u001b[0mconf_m\u001b[0m\u001b[0;34m[\u001b[0m\u001b[0;34m\"tp\"\u001b[0m\u001b[0;34m]\u001b[0m\u001b[0;34m/\u001b[0m\u001b[0mfloat\u001b[0m\u001b[0;34m(\u001b[0m\u001b[0mconf_m\u001b[0m\u001b[0;34m[\u001b[0m\u001b[0;34m\"tp\"\u001b[0m\u001b[0;34m]\u001b[0m\u001b[0;34m+\u001b[0m\u001b[0mconf_m\u001b[0m\u001b[0;34m[\u001b[0m\u001b[0;34m\"fn\"\u001b[0m\u001b[0;34m]\u001b[0m\u001b[0;34m)\u001b[0m\u001b[0;34m)\u001b[0m\u001b[0;34m)\u001b[0m\u001b[0;34m\u001b[0m\u001b[0m\n\u001b[0;32m----> 4\u001b[0;31m     \u001b[0;32mprint\u001b[0m\u001b[0;34m(\u001b[0m\u001b[0;34m\"True Negative Rate: %0.2f\"\u001b[0m \u001b[0;34m%\u001b[0m \u001b[0;34m(\u001b[0m\u001b[0mconf_m\u001b[0m\u001b[0;34m[\u001b[0m\u001b[0;34m\"tn\"\u001b[0m\u001b[0;34m]\u001b[0m\u001b[0;34m/\u001b[0m\u001b[0mfloat\u001b[0m\u001b[0;34m(\u001b[0m\u001b[0mconf_m\u001b[0m\u001b[0;34m[\u001b[0m\u001b[0;34m\"tn\"\u001b[0m\u001b[0;34m]\u001b[0m\u001b[0;34m+\u001b[0m\u001b[0mconf_m\u001b[0m\u001b[0;34m[\u001b[0m\u001b[0;34m\"fp\"\u001b[0m\u001b[0;34m]\u001b[0m\u001b[0;34m)\u001b[0m\u001b[0;34m)\u001b[0m\u001b[0;34m)\u001b[0m\u001b[0;34m\u001b[0m\u001b[0m\n\u001b[0m\u001b[1;32m      5\u001b[0m \u001b[0;34m\u001b[0m\u001b[0m\n\u001b[1;32m      6\u001b[0m \u001b[0;32mdef\u001b[0m \u001b[0msummarize_conf_m_gender\u001b[0m\u001b[0;34m(\u001b[0m\u001b[0mpred\u001b[0m\u001b[0;34m,\u001b[0m\u001b[0mtest\u001b[0m\u001b[0;34m,\u001b[0m\u001b[0mgender\u001b[0m\u001b[0;34m)\u001b[0m\u001b[0;34m:\u001b[0m\u001b[0;34m\u001b[0m\u001b[0m\n",
      "\u001b[0;31mZeroDivisionError\u001b[0m: float division by zero"
     ]
    }
   ],
   "source": [
    "\n",
    "print(get_confusion_matrix(pred,test))\n",
    "print(get_confusion_matrix_gender(pred,test,\"m\"))\n",
    "print(get_confusion_matrix_gender(pred,test,\"f\"))\n",
    "print(\"Error: %0.2f\" % get_error(pred,test))\n",
    "print(\"Female Error: %0.2f\" % get_error_gender(pred,test, \"f\"))\n",
    "print(\"Male Error: %0.2f\" % get_error_gender(pred,test, \"m\"))\n",
    "print(\"General Summary:\")\n",
    "summarize_conf_m(pred,test)\n",
    "print(\"Male Summary:\")\n",
    "summarize_conf_m_gender(pred,test,\"m\")\n",
    "print(\"Female Summary:\")\n",
    "summarize_conf_m_gender(pred,test,\"f\")\n",
    "plotErrorByPerson(pred,test,\"baseline\")"
   ]
  },
  {
   "cell_type": "code",
   "execution_count": 57,
   "metadata": {
    "collapsed": false
   },
   "outputs": [],
   "source": [
    "## Check if movie reviews are just a function of other people's reviews\n",
    "pred = list_of_x([],num_good_reviewers)\n",
    "for i in range(num_good_reviewers):\n",
    "    pred[i] = np.ones(len(test[i]))\n",
    "    for j in range(len(test[i])):\n",
    "        other_reviews = []\n",
    "        for k in range(num_good_reviewers):\n",
    "            if test[i][j] in train[k]:\n",
    "                other_reviews.append(good_reviews[k,test[i][j]])\n",
    "        if (len(other_reviews)>0):\n",
    "            pred[i][j] = Counter(other_reviews).most_common(1)[0][0]"
   ]
  },
  {
   "cell_type": "code",
   "execution_count": 62,
   "metadata": {
    "collapsed": false
   },
   "outputs": [
    {
     "data": {
      "text/plain": [
       "True"
      ]
     },
     "execution_count": 62,
     "metadata": {},
     "output_type": "execute_result"
    }
   ],
   "source": [
    "test[0][2] in train[6]"
   ]
  },
  {
   "cell_type": "code",
   "execution_count": 63,
   "metadata": {
    "collapsed": false
   },
   "outputs": [
    {
     "data": {
      "text/plain": [
       "60"
      ]
     },
     "execution_count": 63,
     "metadata": {},
     "output_type": "execute_result"
    }
   ],
   "source": [
    "test[0][2]"
   ]
  },
  {
   "cell_type": "code",
   "execution_count": 64,
   "metadata": {
    "collapsed": false
   },
   "outputs": [
    {
     "data": {
      "text/plain": [
       "[75,\n",
       " 98,\n",
       " 126,\n",
       " 131,\n",
       " 161,\n",
       " 242,\n",
       " 373,\n",
       " 383,\n",
       " 388,\n",
       " 394,\n",
       " 444,\n",
       " 449,\n",
       " 510,\n",
       " 569,\n",
       " 575,\n",
       " 589,\n",
       " 594,\n",
       " 610,\n",
       " 622,\n",
       " 634,\n",
       " 635,\n",
       " 645,\n",
       " 649,\n",
       " 673,\n",
       " 692,\n",
       " 729,\n",
       " 784,\n",
       " 791,\n",
       " 795,\n",
       " 801,\n",
       " 812,\n",
       " 0,\n",
       " 1,\n",
       " 2,\n",
       " 3,\n",
       " 4,\n",
       " 5,\n",
       " 6,\n",
       " 7,\n",
       " 8,\n",
       " 9,\n",
       " 10,\n",
       " 11,\n",
       " 12,\n",
       " 13,\n",
       " 14,\n",
       " 15,\n",
       " 16,\n",
       " 17,\n",
       " 18,\n",
       " 19,\n",
       " 20,\n",
       " 21,\n",
       " 22,\n",
       " 23,\n",
       " 24,\n",
       " 25,\n",
       " 26,\n",
       " 27,\n",
       " 28,\n",
       " 29,\n",
       " 30,\n",
       " 31,\n",
       " 32,\n",
       " 33,\n",
       " 34,\n",
       " 35,\n",
       " 36,\n",
       " 37,\n",
       " 38,\n",
       " 39,\n",
       " 40,\n",
       " 41,\n",
       " 42,\n",
       " 43,\n",
       " 44,\n",
       " 45,\n",
       " 46,\n",
       " 47,\n",
       " 48,\n",
       " 49,\n",
       " 50,\n",
       " 51,\n",
       " 52,\n",
       " 53,\n",
       " 54,\n",
       " 55,\n",
       " 56,\n",
       " 57,\n",
       " 58,\n",
       " 59,\n",
       " 60,\n",
       " 61,\n",
       " 62,\n",
       " 63,\n",
       " 64,\n",
       " 65,\n",
       " 66,\n",
       " 67,\n",
       " 68,\n",
       " 69,\n",
       " 70,\n",
       " 71,\n",
       " 72,\n",
       " 73,\n",
       " 74,\n",
       " 76,\n",
       " 77,\n",
       " 78,\n",
       " 79,\n",
       " 80,\n",
       " 81,\n",
       " 82,\n",
       " 83,\n",
       " 84,\n",
       " 85,\n",
       " 86,\n",
       " 87,\n",
       " 88,\n",
       " 89,\n",
       " 90,\n",
       " 91,\n",
       " 92,\n",
       " 93,\n",
       " 94,\n",
       " 95,\n",
       " 96,\n",
       " 97,\n",
       " 99,\n",
       " 100,\n",
       " 101,\n",
       " 102,\n",
       " 103,\n",
       " 104,\n",
       " 105,\n",
       " 106,\n",
       " 107,\n",
       " 108,\n",
       " 109,\n",
       " 110,\n",
       " 111,\n",
       " 112,\n",
       " 113,\n",
       " 114,\n",
       " 115,\n",
       " 116,\n",
       " 117,\n",
       " 118,\n",
       " 119,\n",
       " 120,\n",
       " 121,\n",
       " 122,\n",
       " 123,\n",
       " 124,\n",
       " 125,\n",
       " 127,\n",
       " 128,\n",
       " 129,\n",
       " 130,\n",
       " 132,\n",
       " 133,\n",
       " 134,\n",
       " 135,\n",
       " 136,\n",
       " 137,\n",
       " 138,\n",
       " 139,\n",
       " 140,\n",
       " 141,\n",
       " 142,\n",
       " 143,\n",
       " 144,\n",
       " 145,\n",
       " 146,\n",
       " 147,\n",
       " 148,\n",
       " 149,\n",
       " 150,\n",
       " 151,\n",
       " 152,\n",
       " 153,\n",
       " 154,\n",
       " 155,\n",
       " 156,\n",
       " 157,\n",
       " 158,\n",
       " 159,\n",
       " 160,\n",
       " 162,\n",
       " 163,\n",
       " 164,\n",
       " 165,\n",
       " 166,\n",
       " 167,\n",
       " 168,\n",
       " 169,\n",
       " 170,\n",
       " 171,\n",
       " 172,\n",
       " 173,\n",
       " 174,\n",
       " 175,\n",
       " 176,\n",
       " 177,\n",
       " 178,\n",
       " 179,\n",
       " 180,\n",
       " 181,\n",
       " 182,\n",
       " 183,\n",
       " 184,\n",
       " 185,\n",
       " 186,\n",
       " 187,\n",
       " 188,\n",
       " 189,\n",
       " 190,\n",
       " 191,\n",
       " 192,\n",
       " 193,\n",
       " 194,\n",
       " 195,\n",
       " 196,\n",
       " 197,\n",
       " 198,\n",
       " 199,\n",
       " 200,\n",
       " 201,\n",
       " 202,\n",
       " 203,\n",
       " 204,\n",
       " 205,\n",
       " 206,\n",
       " 207,\n",
       " 208,\n",
       " 209,\n",
       " 210,\n",
       " 211,\n",
       " 212,\n",
       " 213,\n",
       " 214,\n",
       " 215,\n",
       " 216,\n",
       " 217,\n",
       " 218,\n",
       " 219,\n",
       " 220,\n",
       " 221,\n",
       " 222,\n",
       " 223,\n",
       " 224,\n",
       " 225,\n",
       " 226,\n",
       " 227,\n",
       " 228,\n",
       " 229,\n",
       " 230,\n",
       " 231,\n",
       " 232,\n",
       " 233,\n",
       " 234,\n",
       " 235,\n",
       " 236,\n",
       " 237,\n",
       " 238,\n",
       " 239,\n",
       " 240,\n",
       " 241,\n",
       " 243,\n",
       " 244,\n",
       " 245,\n",
       " 246,\n",
       " 247,\n",
       " 248,\n",
       " 249,\n",
       " 250,\n",
       " 251,\n",
       " 252,\n",
       " 253,\n",
       " 254,\n",
       " 255,\n",
       " 256,\n",
       " 257,\n",
       " 258,\n",
       " 259,\n",
       " 260,\n",
       " 261,\n",
       " 262,\n",
       " 263,\n",
       " 264,\n",
       " 265,\n",
       " 266,\n",
       " 267,\n",
       " 268,\n",
       " 269,\n",
       " 270,\n",
       " 271,\n",
       " 272,\n",
       " 273,\n",
       " 274,\n",
       " 275,\n",
       " 276,\n",
       " 277,\n",
       " 278,\n",
       " 279,\n",
       " 280,\n",
       " 281,\n",
       " 282,\n",
       " 283,\n",
       " 284,\n",
       " 285,\n",
       " 286,\n",
       " 287,\n",
       " 288,\n",
       " 289,\n",
       " 290,\n",
       " 291,\n",
       " 292,\n",
       " 293,\n",
       " 294,\n",
       " 295,\n",
       " 296,\n",
       " 297,\n",
       " 298,\n",
       " 299,\n",
       " 300,\n",
       " 301,\n",
       " 302,\n",
       " 303,\n",
       " 304,\n",
       " 305,\n",
       " 306,\n",
       " 307,\n",
       " 308,\n",
       " 309,\n",
       " 310,\n",
       " 311,\n",
       " 312,\n",
       " 313,\n",
       " 314,\n",
       " 315,\n",
       " 316,\n",
       " 317,\n",
       " 318,\n",
       " 319,\n",
       " 320,\n",
       " 321,\n",
       " 322,\n",
       " 323,\n",
       " 324,\n",
       " 325,\n",
       " 326,\n",
       " 327,\n",
       " 328,\n",
       " 329,\n",
       " 330,\n",
       " 331,\n",
       " 332,\n",
       " 333,\n",
       " 334,\n",
       " 335,\n",
       " 336,\n",
       " 337,\n",
       " 338,\n",
       " 339,\n",
       " 340,\n",
       " 341,\n",
       " 342,\n",
       " 343,\n",
       " 344,\n",
       " 345,\n",
       " 346,\n",
       " 347,\n",
       " 348,\n",
       " 349,\n",
       " 350,\n",
       " 351,\n",
       " 352,\n",
       " 353,\n",
       " 354,\n",
       " 355,\n",
       " 356,\n",
       " 357,\n",
       " 358,\n",
       " 359,\n",
       " 360,\n",
       " 361,\n",
       " 362,\n",
       " 363,\n",
       " 364,\n",
       " 365,\n",
       " 366,\n",
       " 367,\n",
       " 368,\n",
       " 369,\n",
       " 370,\n",
       " 371,\n",
       " 372,\n",
       " 374,\n",
       " 375,\n",
       " 376,\n",
       " 377,\n",
       " 378,\n",
       " 379,\n",
       " 380,\n",
       " 381,\n",
       " 382,\n",
       " 384,\n",
       " 385,\n",
       " 386,\n",
       " 387,\n",
       " 389,\n",
       " 390,\n",
       " 391,\n",
       " 392,\n",
       " 393,\n",
       " 395,\n",
       " 396,\n",
       " 397,\n",
       " 398,\n",
       " 399,\n",
       " 400,\n",
       " 401,\n",
       " 402,\n",
       " 403,\n",
       " 404,\n",
       " 405,\n",
       " 406,\n",
       " 407,\n",
       " 408,\n",
       " 409,\n",
       " 410,\n",
       " 411,\n",
       " 412,\n",
       " 413,\n",
       " 414,\n",
       " 415,\n",
       " 416,\n",
       " 417,\n",
       " 418,\n",
       " 419,\n",
       " 420,\n",
       " 421,\n",
       " 422,\n",
       " 423,\n",
       " 424,\n",
       " 425,\n",
       " 426,\n",
       " 427,\n",
       " 428,\n",
       " 429,\n",
       " 430,\n",
       " 431,\n",
       " 432,\n",
       " 433,\n",
       " 434,\n",
       " 435,\n",
       " 436,\n",
       " 437,\n",
       " 438,\n",
       " 439,\n",
       " 440,\n",
       " 441,\n",
       " 442,\n",
       " 443,\n",
       " 445,\n",
       " 446,\n",
       " 447,\n",
       " 448,\n",
       " 450,\n",
       " 451,\n",
       " 452,\n",
       " 453,\n",
       " 454,\n",
       " 455,\n",
       " 456,\n",
       " 457,\n",
       " 458,\n",
       " 459,\n",
       " 460,\n",
       " 461,\n",
       " 462,\n",
       " 463,\n",
       " 464,\n",
       " 465,\n",
       " 466,\n",
       " 467,\n",
       " 468,\n",
       " 469,\n",
       " 470,\n",
       " 471,\n",
       " 472,\n",
       " 473,\n",
       " 474,\n",
       " 475,\n",
       " 476,\n",
       " 477,\n",
       " 478,\n",
       " 479,\n",
       " 480,\n",
       " 481,\n",
       " 482,\n",
       " 483,\n",
       " 484,\n",
       " 485,\n",
       " 486,\n",
       " 487,\n",
       " 488,\n",
       " 489,\n",
       " 490,\n",
       " 491,\n",
       " 492,\n",
       " 493,\n",
       " 494,\n",
       " 495,\n",
       " 496,\n",
       " 497,\n",
       " 498,\n",
       " 499,\n",
       " 500,\n",
       " 501,\n",
       " 502,\n",
       " 503,\n",
       " 504,\n",
       " 505,\n",
       " 506,\n",
       " 507,\n",
       " 508,\n",
       " 509,\n",
       " 511,\n",
       " 512,\n",
       " 513,\n",
       " 514,\n",
       " 515,\n",
       " 516,\n",
       " 517,\n",
       " 518,\n",
       " 519,\n",
       " 520,\n",
       " 521,\n",
       " 522,\n",
       " 523,\n",
       " 524,\n",
       " 525,\n",
       " 526,\n",
       " 527,\n",
       " 528,\n",
       " 529,\n",
       " 530,\n",
       " 531,\n",
       " 532,\n",
       " 533,\n",
       " 534,\n",
       " 535,\n",
       " 536,\n",
       " 537,\n",
       " 538,\n",
       " 539,\n",
       " 540,\n",
       " 541,\n",
       " 542,\n",
       " 543,\n",
       " 544,\n",
       " 545,\n",
       " 546,\n",
       " 547,\n",
       " 548,\n",
       " 549,\n",
       " 550,\n",
       " 551,\n",
       " 552,\n",
       " 553,\n",
       " 554,\n",
       " 555,\n",
       " 556,\n",
       " 557,\n",
       " 558,\n",
       " 559,\n",
       " 560,\n",
       " 561,\n",
       " 562,\n",
       " 563,\n",
       " 564,\n",
       " 565,\n",
       " 566,\n",
       " 567,\n",
       " 568,\n",
       " 570,\n",
       " 571,\n",
       " 572,\n",
       " 573,\n",
       " 574,\n",
       " 576,\n",
       " 577,\n",
       " 578,\n",
       " 579,\n",
       " 580,\n",
       " 581,\n",
       " 582,\n",
       " 583,\n",
       " 584,\n",
       " 585,\n",
       " 586,\n",
       " 587,\n",
       " 588,\n",
       " 590,\n",
       " 591,\n",
       " 592,\n",
       " 593,\n",
       " 595,\n",
       " 596,\n",
       " 597,\n",
       " 598,\n",
       " 599,\n",
       " 600,\n",
       " 601,\n",
       " 602,\n",
       " 603,\n",
       " 604,\n",
       " 605,\n",
       " 606,\n",
       " 607,\n",
       " 608,\n",
       " 609,\n",
       " 611,\n",
       " 612,\n",
       " 613,\n",
       " 614,\n",
       " 615,\n",
       " 616,\n",
       " 617,\n",
       " 618,\n",
       " 619,\n",
       " 620,\n",
       " 621,\n",
       " 623,\n",
       " 624,\n",
       " 625,\n",
       " 626,\n",
       " 627,\n",
       " 628,\n",
       " 629,\n",
       " 630,\n",
       " 631,\n",
       " 632,\n",
       " 633,\n",
       " 636,\n",
       " 637,\n",
       " 638,\n",
       " 639,\n",
       " 640,\n",
       " 641,\n",
       " 642,\n",
       " 643,\n",
       " 644,\n",
       " 646,\n",
       " 647,\n",
       " 648,\n",
       " 650,\n",
       " 651,\n",
       " 652,\n",
       " 653,\n",
       " 654,\n",
       " 655,\n",
       " 656,\n",
       " 657,\n",
       " 658,\n",
       " 659,\n",
       " 660,\n",
       " 661,\n",
       " 662,\n",
       " 663,\n",
       " 664,\n",
       " 665,\n",
       " 666,\n",
       " 667,\n",
       " 668,\n",
       " 669,\n",
       " 670,\n",
       " 671,\n",
       " 672,\n",
       " 674,\n",
       " 675,\n",
       " 676,\n",
       " 677,\n",
       " 678,\n",
       " 679,\n",
       " 680,\n",
       " 681,\n",
       " 682,\n",
       " 683,\n",
       " 684,\n",
       " 685,\n",
       " 686,\n",
       " 687,\n",
       " 688,\n",
       " 689,\n",
       " 690,\n",
       " 691,\n",
       " 693,\n",
       " 694,\n",
       " 695,\n",
       " 696,\n",
       " 697,\n",
       " 698,\n",
       " 699,\n",
       " 700,\n",
       " 701,\n",
       " 702,\n",
       " 703,\n",
       " 704,\n",
       " 705,\n",
       " 706,\n",
       " 707,\n",
       " 708,\n",
       " 709,\n",
       " 710,\n",
       " 711,\n",
       " 712,\n",
       " 713,\n",
       " 714,\n",
       " 715,\n",
       " 716,\n",
       " 717,\n",
       " 718,\n",
       " 719,\n",
       " 720,\n",
       " 721,\n",
       " 722,\n",
       " 723,\n",
       " 724,\n",
       " 725,\n",
       " 726,\n",
       " 727,\n",
       " 728,\n",
       " 730,\n",
       " 731,\n",
       " 732,\n",
       " 733,\n",
       " 734,\n",
       " 735,\n",
       " 736,\n",
       " 737,\n",
       " 738,\n",
       " 739,\n",
       " 740,\n",
       " 741,\n",
       " 742,\n",
       " 743,\n",
       " 744,\n",
       " 745,\n",
       " 746,\n",
       " 747,\n",
       " 748,\n",
       " 749,\n",
       " 750,\n",
       " 751,\n",
       " 752,\n",
       " 753,\n",
       " 754,\n",
       " 755,\n",
       " 756,\n",
       " 757,\n",
       " 758,\n",
       " 759,\n",
       " 760,\n",
       " 761,\n",
       " 762,\n",
       " 763,\n",
       " 764,\n",
       " 765,\n",
       " 766,\n",
       " 767,\n",
       " 768,\n",
       " 769,\n",
       " 770,\n",
       " 771,\n",
       " 772,\n",
       " 773,\n",
       " 774,\n",
       " 775,\n",
       " 776,\n",
       " 777,\n",
       " 778,\n",
       " 779,\n",
       " 780,\n",
       " 781,\n",
       " 782,\n",
       " 783,\n",
       " 785,\n",
       " 786,\n",
       " 787,\n",
       " 788,\n",
       " 789,\n",
       " 790,\n",
       " 792,\n",
       " 793,\n",
       " 794,\n",
       " 796,\n",
       " 797,\n",
       " 798,\n",
       " 799,\n",
       " 800,\n",
       " 802,\n",
       " 803,\n",
       " 804,\n",
       " 805,\n",
       " 806,\n",
       " 807,\n",
       " 808,\n",
       " 809,\n",
       " 810,\n",
       " 811,\n",
       " 813,\n",
       " 814,\n",
       " 815,\n",
       " 816,\n",
       " 817]"
      ]
     },
     "execution_count": 64,
     "metadata": {},
     "output_type": "execute_result"
    }
   ],
   "source": [
    "test[0][]"
   ]
  }
 ],
 "metadata": {
  "kernelspec": {
   "display_name": "Python 2",
   "language": "python",
   "name": "python2"
  },
  "language_info": {
   "codemirror_mode": {
    "name": "ipython",
    "version": 2
   },
   "file_extension": ".py",
   "mimetype": "text/x-python",
   "name": "python",
   "nbconvert_exporter": "python",
   "pygments_lexer": "ipython2",
   "version": "2.7.11"
  }
 },
 "nbformat": 4,
 "nbformat_minor": 0
}
